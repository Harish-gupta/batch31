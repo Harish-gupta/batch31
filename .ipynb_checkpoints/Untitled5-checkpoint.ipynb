{
 "cells": [
  {
   "cell_type": "code",
   "execution_count": 1,
   "metadata": {
    "collapsed": false
   },
   "outputs": [
    {
     "name": "stdout",
     "output_type": "stream",
     "text": [
      "('Tcloud', 'Anil', 2000)\n",
      "('Tcloud', 'Ajay', 30000)\n"
     ]
    }
   ],
   "source": [
    "class Emp(object):\n",
    "    company_name=\"Tcloud\"\n",
    "    def __init__(self, name, sal):\n",
    "        self.name=name\n",
    "        self.sal=sal\n",
    "    def get(self):\n",
    "        return self.company_name, self.name, self.sal\n",
    "anil = Emp(\"Anil\",2000)\n",
    "ajay=Emp(\"Ajay\",30000)\n",
    "print anil.get()\n",
    "print ajay.get()\n",
    "        "
   ]
  },
  {
   "cell_type": "code",
   "execution_count": 2,
   "metadata": {
    "collapsed": false
   },
   "outputs": [
    {
     "name": "stdout",
     "output_type": "stream",
     "text": [
      "('Tcloud', 'Anil', 2000)\n",
      "('Tcloud', 'Ajay', 30000)\n"
     ]
    },
    {
     "ename": "TypeError",
     "evalue": "unbound method get() must be called with Emp instance as first argument (got nothing instead)",
     "output_type": "error",
     "traceback": [
      "\u001b[0;31m---------------------------------------------------------------------------\u001b[0m",
      "\u001b[0;31mTypeError\u001b[0m                                 Traceback (most recent call last)",
      "\u001b[0;32m<ipython-input-2-9db945426bc9>\u001b[0m in \u001b[0;36m<module>\u001b[0;34m()\u001b[0m\n\u001b[1;32m     14\u001b[0m \u001b[0;32mprint\u001b[0m \u001b[0manil\u001b[0m\u001b[0;34m.\u001b[0m\u001b[0mget\u001b[0m\u001b[0;34m(\u001b[0m\u001b[0;34m)\u001b[0m\u001b[0;34m\u001b[0m\u001b[0m\n\u001b[1;32m     15\u001b[0m \u001b[0;32mprint\u001b[0m \u001b[0majay\u001b[0m\u001b[0;34m.\u001b[0m\u001b[0mget\u001b[0m\u001b[0;34m(\u001b[0m\u001b[0;34m)\u001b[0m\u001b[0;34m\u001b[0m\u001b[0m\n\u001b[0;32m---> 16\u001b[0;31m \u001b[0;32mprint\u001b[0m \u001b[0mEmp\u001b[0m\u001b[0;34m.\u001b[0m\u001b[0mget\u001b[0m\u001b[0;34m(\u001b[0m\u001b[0;34m)\u001b[0m\u001b[0;34m\u001b[0m\u001b[0m\n\u001b[0m",
      "\u001b[0;31mTypeError\u001b[0m: unbound method get() must be called with Emp instance as first argument (got nothing instead)"
     ]
    }
   ],
   "source": [
    "class Emp(object):\n",
    "    company_name=\"Tcloud\"\n",
    "    def __init__(self, name, sal):\n",
    "        self.name=name\n",
    "        self.sal=sal\n",
    "    def get(self):\n",
    "        return self.company_name, self.name, self.sal\n",
    "    @classmethod\n",
    "    def clm(cls):\n",
    "        print \"class method\"\n",
    "        \n",
    "anil = Emp(\"Anil\",2000)\n",
    "ajay=Emp(\"Ajay\",30000)\n",
    "print anil.get()\n",
    "print ajay.get()\n",
    "print Emp.get() "
   ]
  },
  {
   "cell_type": "code",
   "execution_count": 4,
   "metadata": {
    "collapsed": false
   },
   "outputs": [
    {
     "name": "stdout",
     "output_type": "stream",
     "text": [
      "('Tcloud', 'Anil', 2000)\n",
      "('Tcloud', 'Ajay', 30000)\n",
      "('Tcloud', 'Anil', 2000)\n",
      "('Tcloud', 'Ajay', 30000)\n"
     ]
    }
   ],
   "source": [
    "class Emp(object):\n",
    "    company_name=\"Tcloud\"\n",
    "    def __init__(self, name, sal):\n",
    "        self.name=name\n",
    "        self.sal=sal\n",
    "    def get(self):\n",
    "        return self.company_name, self.name, self.sal\n",
    "    @classmethod\n",
    "    def clm(cls):\n",
    "        print \"class method\"\n",
    "        \n",
    "anil = Emp(\"Anil\",2000)\n",
    "ajay=Emp(\"Ajay\",30000)\n",
    "print anil.get()\n",
    "print ajay.get()\n",
    "print Emp.get(anil)\n",
    "print Emp.get(ajay)"
   ]
  },
  {
   "cell_type": "code",
   "execution_count": 8,
   "metadata": {
    "collapsed": false
   },
   "outputs": [
    {
     "name": "stdout",
     "output_type": "stream",
     "text": [
      "<class '__main__.Emp'>\n",
      "<__main__.Emp object at 0x7f5949d13850>\n",
      "<__main__.Emp object at 0x7f5940262cd0>\n",
      "data object: <__main__.Emp object at 0x7f5949d13850>\n",
      "('Tcloud', 'Anil', 2000)\n",
      "data object: <__main__.Emp object at 0x7f5940262cd0>\n",
      "('Tcloud', 'Ajay', 30000)\n",
      "data object: <__main__.Emp object at 0x7f5949d13850>\n",
      "('Tcloud', 'Anil', 2000)\n",
      "data object: <__main__.Emp object at 0x7f5940262cd0>\n",
      "('Tcloud', 'Ajay', 30000)\n",
      "class object: <class '__main__.Emp'>\n",
      "Tcloud\n"
     ]
    },
    {
     "ename": "AttributeError",
     "evalue": "type object 'Emp' has no attribute 'name'",
     "output_type": "error",
     "traceback": [
      "\u001b[0;31m---------------------------------------------------------------------------\u001b[0m",
      "\u001b[0;31mAttributeError\u001b[0m                            Traceback (most recent call last)",
      "\u001b[0;32m<ipython-input-8-998a182587f9>\u001b[0m in \u001b[0;36m<module>\u001b[0;34m()\u001b[0m\n\u001b[1;32m     22\u001b[0m \u001b[0;32mprint\u001b[0m \u001b[0mEmp\u001b[0m\u001b[0;34m.\u001b[0m\u001b[0mget\u001b[0m\u001b[0;34m(\u001b[0m\u001b[0manil\u001b[0m\u001b[0;34m)\u001b[0m\u001b[0;34m\u001b[0m\u001b[0m\n\u001b[1;32m     23\u001b[0m \u001b[0;32mprint\u001b[0m \u001b[0mEmp\u001b[0m\u001b[0;34m.\u001b[0m\u001b[0mget\u001b[0m\u001b[0;34m(\u001b[0m\u001b[0majay\u001b[0m\u001b[0;34m)\u001b[0m\u001b[0;34m\u001b[0m\u001b[0m\n\u001b[0;32m---> 24\u001b[0;31m \u001b[0;32mprint\u001b[0m \u001b[0mEmp\u001b[0m\u001b[0;34m.\u001b[0m\u001b[0mclm\u001b[0m\u001b[0;34m(\u001b[0m\u001b[0;34m)\u001b[0m\u001b[0;34m\u001b[0m\u001b[0m\n\u001b[0m\u001b[1;32m     25\u001b[0m \u001b[0;32mprint\u001b[0m \u001b[0manil\u001b[0m\u001b[0;34m.\u001b[0m\u001b[0mclm\u001b[0m\u001b[0;34m(\u001b[0m\u001b[0;34m)\u001b[0m\u001b[0;34m\u001b[0m\u001b[0m\n\u001b[1;32m     26\u001b[0m \u001b[0;32mprint\u001b[0m \u001b[0majay\u001b[0m\u001b[0;34m.\u001b[0m\u001b[0mclm\u001b[0m\u001b[0;34m(\u001b[0m\u001b[0;34m)\u001b[0m\u001b[0;34m\u001b[0m\u001b[0m\n",
      "\u001b[0;32m<ipython-input-8-998a182587f9>\u001b[0m in \u001b[0;36mclm\u001b[0;34m(cls)\u001b[0m\n\u001b[1;32m     11\u001b[0m         \u001b[0;32mprint\u001b[0m \u001b[0;34m\"class object:\"\u001b[0m\u001b[0;34m,\u001b[0m\u001b[0mcls\u001b[0m\u001b[0;34m\u001b[0m\u001b[0m\n\u001b[1;32m     12\u001b[0m         \u001b[0;32mprint\u001b[0m \u001b[0mcls\u001b[0m\u001b[0;34m.\u001b[0m\u001b[0mcompany_name\u001b[0m\u001b[0;34m\u001b[0m\u001b[0m\n\u001b[0;32m---> 13\u001b[0;31m         \u001b[0;32mprint\u001b[0m \u001b[0mcls\u001b[0m\u001b[0;34m.\u001b[0m\u001b[0mname\u001b[0m\u001b[0;34m\u001b[0m\u001b[0m\n\u001b[0m\u001b[1;32m     14\u001b[0m         \u001b[0;32mprint\u001b[0m \u001b[0;34m\"class method\"\u001b[0m\u001b[0;34m\u001b[0m\u001b[0m\n\u001b[1;32m     15\u001b[0m \u001b[0;32mprint\u001b[0m \u001b[0mEmp\u001b[0m\u001b[0;34m\u001b[0m\u001b[0m\n",
      "\u001b[0;31mAttributeError\u001b[0m: type object 'Emp' has no attribute 'name'"
     ]
    }
   ],
   "source": [
    "class Emp(object):\n",
    "    company_name=\"Tcloud\"\n",
    "    def __init__(self, name, sal):\n",
    "        self.name=name\n",
    "        self.sal=sal\n",
    "    def get(self):\n",
    "        print \"data object:\",self\n",
    "        return self.company_name, self.name, self.sal\n",
    "    @classmethod\n",
    "    def clm(cls):\n",
    "        print \"class object:\",cls\n",
    "        print cls.company_name\n",
    "        print cls.name\n",
    "        print \"class method\"\n",
    "print Emp\n",
    "anil = Emp(\"Anil\",2000)\n",
    "ajay=Emp(\"Ajay\",30000)\n",
    "print anil\n",
    "print ajay\n",
    "print anil.get()\n",
    "print ajay.get()\n",
    "print Emp.get(anil)\n",
    "print Emp.get(ajay)\n",
    "print Emp.clm()\n",
    "print anil.clm()\n",
    "print ajay.clm()"
   ]
  },
  {
   "cell_type": "code",
   "execution_count": 6,
   "metadata": {
    "collapsed": true
   },
   "outputs": [],
   "source": [
    "def fun():\n",
    "    pass"
   ]
  },
  {
   "cell_type": "code",
   "execution_count": 9,
   "metadata": {
    "collapsed": false
   },
   "outputs": [
    {
     "name": "stdout",
     "output_type": "stream",
     "text": [
      "<class '__main__.Emp'>\n",
      "<__main__.Emp object at 0x7f59402bcc10>\n",
      "<__main__.Emp object at 0x7f59402eea90>\n",
      "data object: <__main__.Emp object at 0x7f59402bcc10>\n",
      "('Tcloud', 'Anil', 2000)\n",
      "data object: <__main__.Emp object at 0x7f59402eea90>\n",
      "('Tcloud', 'Ajay', 30000)\n",
      "data object: <__main__.Emp object at 0x7f59402bcc10>\n",
      "('Tcloud', 'Anil', 2000)\n",
      "data object: <__main__.Emp object at 0x7f59402eea90>\n",
      "('Tcloud', 'Ajay', 30000)\n",
      "class object: <class '__main__.Emp'>\n"
     ]
    },
    {
     "ename": "TypeError",
     "evalue": "unbound method get() must be called with Emp instance as first argument (got nothing instead)",
     "output_type": "error",
     "traceback": [
      "\u001b[0;31m---------------------------------------------------------------------------\u001b[0m",
      "\u001b[0;31mTypeError\u001b[0m                                 Traceback (most recent call last)",
      "\u001b[0;32m<ipython-input-9-18da90220ae0>\u001b[0m in \u001b[0;36m<module>\u001b[0;34m()\u001b[0m\n\u001b[1;32m     24\u001b[0m \u001b[0;32mprint\u001b[0m \u001b[0mEmp\u001b[0m\u001b[0;34m.\u001b[0m\u001b[0mget\u001b[0m\u001b[0;34m(\u001b[0m\u001b[0manil\u001b[0m\u001b[0;34m)\u001b[0m\u001b[0;34m\u001b[0m\u001b[0m\n\u001b[1;32m     25\u001b[0m \u001b[0;32mprint\u001b[0m \u001b[0mEmp\u001b[0m\u001b[0;34m.\u001b[0m\u001b[0mget\u001b[0m\u001b[0;34m(\u001b[0m\u001b[0majay\u001b[0m\u001b[0;34m)\u001b[0m\u001b[0;34m\u001b[0m\u001b[0m\n\u001b[0;32m---> 26\u001b[0;31m \u001b[0;32mprint\u001b[0m \u001b[0mEmp\u001b[0m\u001b[0;34m.\u001b[0m\u001b[0mclm\u001b[0m\u001b[0;34m(\u001b[0m\u001b[0;34m)\u001b[0m\u001b[0;34m\u001b[0m\u001b[0m\n\u001b[0m\u001b[1;32m     27\u001b[0m \u001b[0;32mprint\u001b[0m \u001b[0manil\u001b[0m\u001b[0;34m.\u001b[0m\u001b[0mclm\u001b[0m\u001b[0;34m(\u001b[0m\u001b[0;34m)\u001b[0m\u001b[0;34m\u001b[0m\u001b[0m\n\u001b[1;32m     28\u001b[0m \u001b[0;32mprint\u001b[0m \u001b[0majay\u001b[0m\u001b[0;34m.\u001b[0m\u001b[0mclm\u001b[0m\u001b[0;34m(\u001b[0m\u001b[0;34m)\u001b[0m\u001b[0;34m\u001b[0m\u001b[0m\n",
      "\u001b[0;32m<ipython-input-9-18da90220ae0>\u001b[0m in \u001b[0;36mclm\u001b[0;34m(cls)\u001b[0m\n\u001b[1;32m     11\u001b[0m     \u001b[0;32mdef\u001b[0m \u001b[0mclm\u001b[0m\u001b[0;34m(\u001b[0m\u001b[0mcls\u001b[0m\u001b[0;34m)\u001b[0m\u001b[0;34m:\u001b[0m\u001b[0;34m\u001b[0m\u001b[0m\n\u001b[1;32m     12\u001b[0m         \u001b[0;32mprint\u001b[0m \u001b[0;34m\"class object:\"\u001b[0m\u001b[0;34m,\u001b[0m\u001b[0mcls\u001b[0m\u001b[0;34m\u001b[0m\u001b[0m\n\u001b[0;32m---> 13\u001b[0;31m         \u001b[0;32mprint\u001b[0m \u001b[0mcls\u001b[0m\u001b[0;34m.\u001b[0m\u001b[0mget\u001b[0m\u001b[0;34m(\u001b[0m\u001b[0;34m)\u001b[0m\u001b[0;34m\u001b[0m\u001b[0m\n\u001b[0m\u001b[1;32m     14\u001b[0m         \u001b[0;32mprint\u001b[0m \u001b[0mcls\u001b[0m\u001b[0;34m.\u001b[0m\u001b[0mcompany_name\u001b[0m\u001b[0;34m\u001b[0m\u001b[0m\n\u001b[1;32m     15\u001b[0m         \u001b[0;32mprint\u001b[0m \u001b[0mcls\u001b[0m\u001b[0;34m.\u001b[0m\u001b[0mname\u001b[0m\u001b[0;34m\u001b[0m\u001b[0m\n",
      "\u001b[0;31mTypeError\u001b[0m: unbound method get() must be called with Emp instance as first argument (got nothing instead)"
     ]
    }
   ],
   "source": [
    "class Emp(object):\n",
    "    company_name=\"Tcloud\"\n",
    "    def __init__(self, name, sal):\n",
    "        self.name=name\n",
    "        self.sal=sal\n",
    "    def get(self):\n",
    "        print \"data object:\",self\n",
    "        self.clm\n",
    "        return self.company_name, self.name, self.sal\n",
    "    \n",
    "    @classmethod\n",
    "    def clm(cls):\n",
    "        print \"class object:\",cls\n",
    "        print cls.get()\n",
    "        print cls.company_name\n",
    "        print cls.name\n",
    "        print \"class method\"\n",
    "print Emp\n",
    "anil = Emp(\"Anil\",2000)\n",
    "ajay=Emp(\"Ajay\",30000)\n",
    "print anil\n",
    "print ajay\n",
    "print anil.get()\n",
    "print ajay.get()\n",
    "print Emp.get(anil)\n",
    "print Emp.get(ajay)\n",
    "print Emp.clm()\n",
    "print anil.clm()\n",
    "print ajay.clm()"
   ]
  },
  {
   "cell_type": "code",
   "execution_count": 10,
   "metadata": {
    "collapsed": false
   },
   "outputs": [
    {
     "name": "stdout",
     "output_type": "stream",
     "text": [
      "<class '__main__.Emp'>\n",
      "<__main__.Emp object at 0x7f594026e690>\n",
      "<__main__.Emp object at 0x7f59402ee0d0>\n",
      "data object: <__main__.Emp object at 0x7f594026e690>\n",
      "('Tcloud', 'Anil', 2000)\n",
      "data object: <__main__.Emp object at 0x7f59402ee0d0>\n",
      "('Tcloud', 'Ajay', 30000)\n",
      "data object: <__main__.Emp object at 0x7f594026e690>\n",
      "('Tcloud', 'Anil', 2000)\n",
      "data object: <__main__.Emp object at 0x7f59402ee0d0>\n",
      "('Tcloud', 'Ajay', 30000)\n"
     ]
    },
    {
     "ename": "TypeError",
     "evalue": "unbound method clm() must be called with Emp instance as first argument (got nothing instead)",
     "output_type": "error",
     "traceback": [
      "\u001b[0;31m---------------------------------------------------------------------------\u001b[0m",
      "\u001b[0;31mTypeError\u001b[0m                                 Traceback (most recent call last)",
      "\u001b[0;32m<ipython-input-10-f7281a454711>\u001b[0m in \u001b[0;36m<module>\u001b[0;34m()\u001b[0m\n\u001b[1;32m     25\u001b[0m \u001b[0;32mprint\u001b[0m \u001b[0mEmp\u001b[0m\u001b[0;34m.\u001b[0m\u001b[0mget\u001b[0m\u001b[0;34m(\u001b[0m\u001b[0manil\u001b[0m\u001b[0;34m)\u001b[0m\u001b[0;34m\u001b[0m\u001b[0m\n\u001b[1;32m     26\u001b[0m \u001b[0;32mprint\u001b[0m \u001b[0mEmp\u001b[0m\u001b[0;34m.\u001b[0m\u001b[0mget\u001b[0m\u001b[0;34m(\u001b[0m\u001b[0majay\u001b[0m\u001b[0;34m)\u001b[0m\u001b[0;34m\u001b[0m\u001b[0m\n\u001b[0;32m---> 27\u001b[0;31m \u001b[0;32mprint\u001b[0m \u001b[0mEmp\u001b[0m\u001b[0;34m.\u001b[0m\u001b[0mclm\u001b[0m\u001b[0;34m(\u001b[0m\u001b[0;34m)\u001b[0m\u001b[0;34m\u001b[0m\u001b[0m\n\u001b[0m\u001b[1;32m     28\u001b[0m \u001b[0;32mprint\u001b[0m \u001b[0manil\u001b[0m\u001b[0;34m.\u001b[0m\u001b[0mclm\u001b[0m\u001b[0;34m(\u001b[0m\u001b[0;34m)\u001b[0m\u001b[0;34m\u001b[0m\u001b[0m\n\u001b[1;32m     29\u001b[0m \u001b[0;32mprint\u001b[0m \u001b[0majay\u001b[0m\u001b[0;34m.\u001b[0m\u001b[0mclm\u001b[0m\u001b[0;34m(\u001b[0m\u001b[0;34m)\u001b[0m\u001b[0;34m\u001b[0m\u001b[0m\n",
      "\u001b[0;31mTypeError\u001b[0m: unbound method clm() must be called with Emp instance as first argument (got nothing instead)"
     ]
    }
   ],
   "source": [
    "class Emp(object):\n",
    "    company_name=\"Tcloud\"\n",
    "    def __init__(self, name, sal):\n",
    "        self.name=name\n",
    "        self.sal=sal\n",
    "    def get(self):\n",
    "        print \"data object:\",self\n",
    "        self.clm\n",
    "        return self.company_name, self.name, self.sal\n",
    "    \n",
    "    #@classmethod\n",
    "    def clm(cls):\n",
    "        print \"class object:\",cls\n",
    "        print cls.get()\n",
    "        print cls.company_name\n",
    "        print cls.name\n",
    "        print \"class method\"\n",
    "print Emp\n",
    "anil = Emp(\"Anil\",2000)\n",
    "ajay=Emp(\"Ajay\",30000)\n",
    "print anil\n",
    "print ajay\n",
    "print anil.get()\n",
    "print ajay.get()\n",
    "print Emp.get(anil)\n",
    "print Emp.get(ajay)\n",
    "print Emp.clm()\n",
    "print anil.clm()\n",
    "print ajay.clm()"
   ]
  },
  {
   "cell_type": "code",
   "execution_count": 11,
   "metadata": {
    "collapsed": false
   },
   "outputs": [
    {
     "name": "stdout",
     "output_type": "stream",
     "text": [
      "<class '__main__.Emp'>\n",
      "<__main__.Emp object at 0x7f59402bcb90>\n",
      "<__main__.Emp object at 0x7f59402ee2d0>\n",
      "data object: <__main__.Emp object at 0x7f59402bcb90>\n",
      "('Tcloud', 'Anil', 2000)\n",
      "data object: <__main__.Emp object at 0x7f59402ee2d0>\n",
      "('Tcloud', 'Ajay', 30000)\n",
      "data object: <__main__.Emp object at 0x7f59402bcb90>\n",
      "('Tcloud', 'Anil', 2000)\n",
      "data object: <__main__.Emp object at 0x7f59402ee2d0>\n",
      "('Tcloud', 'Ajay', 30000)\n",
      "10\n",
      "20\n",
      "10\n",
      "20\n",
      "10\n",
      "20\n"
     ]
    }
   ],
   "source": [
    "class Emp(object):\n",
    "    company_name=\"Tcloud\"\n",
    "    def __init__(self, name, sal):\n",
    "        self.name=name\n",
    "        self.sal=sal\n",
    "    def get(self):\n",
    "        print \"data object:\",self\n",
    "        self.clm\n",
    "        return self.company_name, self.name, self.sal\n",
    "    \n",
    "    @classmethod\n",
    "    def clm(cls):\n",
    "        print \"class object:\",cls\n",
    "        print cls.get()\n",
    "        print cls.company_name\n",
    "        print cls.name\n",
    "        print \"class method\"\n",
    "    @staticmethod\n",
    "    def staticm(a,b):\n",
    "        print a\n",
    "        print b\n",
    "        \n",
    "print Emp\n",
    "anil = Emp(\"Anil\",2000)\n",
    "ajay=Emp(\"Ajay\",30000)\n",
    "print anil\n",
    "print ajay\n",
    "print anil.get()\n",
    "print ajay.get()\n",
    "print Emp.get(anil)\n",
    "print Emp.get(ajay)\n",
    "Emp.staticm(10,20)\n",
    "anil.staticm(10,20)\n",
    "ajay.staticm(10,20)"
   ]
  },
  {
   "cell_type": "code",
   "execution_count": null,
   "metadata": {
    "collapsed": true
   },
   "outputs": [],
   "source": [
    "class Emp(object):\n",
    "    company_name=\"Tcloud\"\n",
    "    def __init__(self, name, sal):\n",
    "        self.name=name\n",
    "        self.sal=sal\n",
    "    def get(self):\n",
    "        print \"data object:\",self\n",
    "        self.clm\n",
    "        return self.company_name, self.name, self.sal\n",
    "    \n",
    "    @classmethod\n",
    "    def clm(cls):\n",
    "        print \"class object:\",cls\n",
    "        print cls.get()\n",
    "        print cls.company_name\n",
    "        print cls.name\n",
    "        print \"class method\"\n",
    "    @staticmethod\n",
    "    def staticm(a,b):\n",
    "        print a\n",
    "        print b\n",
    "        print self.company_name\n",
    "        print Emp.company_name\n",
    "        \n",
    "print Emp\n",
    "anil = Emp(\"Anil\",2000)\n",
    "ajay=Emp(\"Ajay\",30000)\n",
    "print anil\n",
    "print ajay\n",
    "print anil.get()\n",
    "print ajay.get()\n",
    "print Emp.get(anil)\n",
    "print Emp.get(ajay)\n",
    "Emp.staticm(10,20)\n",
    "anil.staticm(10,20)\n",
    "ajay.staticm(10,20)"
   ]
  }
 ],
 "metadata": {
  "kernelspec": {
   "display_name": "Python 2",
   "language": "python",
   "name": "python2"
  },
  "language_info": {
   "codemirror_mode": {
    "name": "ipython",
    "version": 2
   },
   "file_extension": ".py",
   "mimetype": "text/x-python",
   "name": "python",
   "nbconvert_exporter": "python",
   "pygments_lexer": "ipython2",
   "version": "2.7.13"
  }
 },
 "nbformat": 4,
 "nbformat_minor": 2
}
