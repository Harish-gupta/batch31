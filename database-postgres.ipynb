{
 "cells": [
  {
   "cell_type": "code",
   "execution_count": 1,
   "metadata": {
    "collapsed": true
   },
   "outputs": [],
   "source": [
    "import psycopg2 as pg"
   ]
  },
  {
   "cell_type": "code",
   "execution_count": 4,
   "metadata": {
    "collapsed": false
   },
   "outputs": [],
   "source": [
    "con = pg.connect(host=\"localhost\",user=\"tcloudost\", password=\"root\",database=\"db4\",port=5432)"
   ]
  },
  {
   "cell_type": "code",
   "execution_count": 5,
   "metadata": {
    "collapsed": true
   },
   "outputs": [],
   "source": [
    "cur = con.cursor()"
   ]
  },
  {
   "cell_type": "code",
   "execution_count": 7,
   "metadata": {
    "collapsed": false
   },
   "outputs": [],
   "source": [
    "cur.execute(\"create table books(id int, name varchar(250))\")"
   ]
  },
  {
   "cell_type": "code",
   "execution_count": 8,
   "metadata": {
    "collapsed": true
   },
   "outputs": [],
   "source": [
    "cur.execute(\"insert into books values(1,'name1')\")"
   ]
  },
  {
   "cell_type": "code",
   "execution_count": 9,
   "metadata": {
    "collapsed": true
   },
   "outputs": [],
   "source": [
    "con.commit()"
   ]
  },
  {
   "cell_type": "code",
   "execution_count": 10,
   "metadata": {
    "collapsed": true
   },
   "outputs": [],
   "source": [
    "for i in range(2,100):\n",
    "    cur.execute(\"insert into books values(%s,'name%s')\"%(i,i))\n",
    "con.commit()"
   ]
  },
  {
   "cell_type": "code",
   "execution_count": 11,
   "metadata": {
    "collapsed": true
   },
   "outputs": [],
   "source": [
    "cur.execute(\"select * from books\")"
   ]
  },
  {
   "cell_type": "code",
   "execution_count": 12,
   "metadata": {
    "collapsed": true
   },
   "outputs": [],
   "source": [
    "data=cur.fetchall()"
   ]
  },
  {
   "cell_type": "code",
   "execution_count": 13,
   "metadata": {
    "collapsed": false
   },
   "outputs": [
    {
     "data": {
      "text/plain": [
       "[(1, 'name1'),\n",
       " (2, 'name2'),\n",
       " (3, 'name3'),\n",
       " (4, 'name4'),\n",
       " (5, 'name5'),\n",
       " (6, 'name6'),\n",
       " (7, 'name7'),\n",
       " (8, 'name8'),\n",
       " (9, 'name9'),\n",
       " (10, 'name10'),\n",
       " (11, 'name11'),\n",
       " (12, 'name12'),\n",
       " (13, 'name13'),\n",
       " (14, 'name14'),\n",
       " (15, 'name15'),\n",
       " (16, 'name16'),\n",
       " (17, 'name17'),\n",
       " (18, 'name18'),\n",
       " (19, 'name19'),\n",
       " (20, 'name20'),\n",
       " (21, 'name21'),\n",
       " (22, 'name22'),\n",
       " (23, 'name23'),\n",
       " (24, 'name24'),\n",
       " (25, 'name25'),\n",
       " (26, 'name26'),\n",
       " (27, 'name27'),\n",
       " (28, 'name28'),\n",
       " (29, 'name29'),\n",
       " (30, 'name30'),\n",
       " (31, 'name31'),\n",
       " (32, 'name32'),\n",
       " (33, 'name33'),\n",
       " (34, 'name34'),\n",
       " (35, 'name35'),\n",
       " (36, 'name36'),\n",
       " (37, 'name37'),\n",
       " (38, 'name38'),\n",
       " (39, 'name39'),\n",
       " (40, 'name40'),\n",
       " (41, 'name41'),\n",
       " (42, 'name42'),\n",
       " (43, 'name43'),\n",
       " (44, 'name44'),\n",
       " (45, 'name45'),\n",
       " (46, 'name46'),\n",
       " (47, 'name47'),\n",
       " (48, 'name48'),\n",
       " (49, 'name49'),\n",
       " (50, 'name50'),\n",
       " (51, 'name51'),\n",
       " (52, 'name52'),\n",
       " (53, 'name53'),\n",
       " (54, 'name54'),\n",
       " (55, 'name55'),\n",
       " (56, 'name56'),\n",
       " (57, 'name57'),\n",
       " (58, 'name58'),\n",
       " (59, 'name59'),\n",
       " (60, 'name60'),\n",
       " (61, 'name61'),\n",
       " (62, 'name62'),\n",
       " (63, 'name63'),\n",
       " (64, 'name64'),\n",
       " (65, 'name65'),\n",
       " (66, 'name66'),\n",
       " (67, 'name67'),\n",
       " (68, 'name68'),\n",
       " (69, 'name69'),\n",
       " (70, 'name70'),\n",
       " (71, 'name71'),\n",
       " (72, 'name72'),\n",
       " (73, 'name73'),\n",
       " (74, 'name74'),\n",
       " (75, 'name75'),\n",
       " (76, 'name76'),\n",
       " (77, 'name77'),\n",
       " (78, 'name78'),\n",
       " (79, 'name79'),\n",
       " (80, 'name80'),\n",
       " (81, 'name81'),\n",
       " (82, 'name82'),\n",
       " (83, 'name83'),\n",
       " (84, 'name84'),\n",
       " (85, 'name85'),\n",
       " (86, 'name86'),\n",
       " (87, 'name87'),\n",
       " (88, 'name88'),\n",
       " (89, 'name89'),\n",
       " (90, 'name90'),\n",
       " (91, 'name91'),\n",
       " (92, 'name92'),\n",
       " (93, 'name93'),\n",
       " (94, 'name94'),\n",
       " (95, 'name95'),\n",
       " (96, 'name96'),\n",
       " (97, 'name97'),\n",
       " (98, 'name98'),\n",
       " (99, 'name99')]"
      ]
     },
     "execution_count": 13,
     "metadata": {},
     "output_type": "execute_result"
    }
   ],
   "source": [
    "data"
   ]
  },
  {
   "cell_type": "code",
   "execution_count": null,
   "metadata": {
    "collapsed": true
   },
   "outputs": [],
   "source": []
  }
 ],
 "metadata": {
  "kernelspec": {
   "display_name": "Python 2",
   "language": "python",
   "name": "python2"
  },
  "language_info": {
   "codemirror_mode": {
    "name": "ipython",
    "version": 2
   },
   "file_extension": ".py",
   "mimetype": "text/x-python",
   "name": "python",
   "nbconvert_exporter": "python",
   "pygments_lexer": "ipython2",
   "version": "2.7.13"
  }
 },
 "nbformat": 4,
 "nbformat_minor": 2
}
