{
 "cells": [
  {
   "cell_type": "code",
   "execution_count": 1,
   "metadata": {
    "collapsed": false
   },
   "outputs": [
    {
     "data": {
      "text/plain": [
       "0"
      ]
     },
     "execution_count": 1,
     "metadata": {},
     "output_type": "execute_result"
    }
   ],
   "source": [
    "import os\n",
    "os.system('mkdir f1')"
   ]
  },
  {
   "cell_type": "code",
   "execution_count": 2,
   "metadata": {
    "collapsed": false
   },
   "outputs": [
    {
     "data": {
      "text/plain": [
       "0"
      ]
     },
     "execution_count": 2,
     "metadata": {},
     "output_type": "execute_result"
    }
   ],
   "source": [
    "os.system('rm -r f1')"
   ]
  },
  {
   "cell_type": "code",
   "execution_count": 3,
   "metadata": {
    "collapsed": false
   },
   "outputs": [
    {
     "data": {
      "text/plain": [
       "0"
      ]
     },
     "execution_count": 3,
     "metadata": {},
     "output_type": "execute_result"
    }
   ],
   "source": [
    "os.system('ls -l')"
   ]
  },
  {
   "cell_type": "code",
   "execution_count": 4,
   "metadata": {
    "collapsed": true
   },
   "outputs": [],
   "source": [
    "from subprocess import check_output"
   ]
  },
  {
   "cell_type": "code",
   "execution_count": 5,
   "metadata": {
    "collapsed": false
   },
   "outputs": [
    {
     "ename": "OSError",
     "evalue": "[Errno 2] No such file or directory",
     "output_type": "error",
     "traceback": [
      "\u001b[0;31m---------------------------------------------------------------------------\u001b[0m",
      "\u001b[0;31mOSError\u001b[0m                                   Traceback (most recent call last)",
      "\u001b[0;32m<ipython-input-5-1ad324582309>\u001b[0m in \u001b[0;36m<module>\u001b[0;34m()\u001b[0m\n\u001b[0;32m----> 1\u001b[0;31m \u001b[0mcheck_output\u001b[0m\u001b[0;34m(\u001b[0m\u001b[0;34m\"ls -l\"\u001b[0m\u001b[0;34m)\u001b[0m\u001b[0;34m\u001b[0m\u001b[0m\n\u001b[0m",
      "\u001b[0;32m/home/tcloudost/anac3/lib/python2.7/subprocess.pyc\u001b[0m in \u001b[0;36mcheck_output\u001b[0;34m(*popenargs, **kwargs)\u001b[0m\n\u001b[1;32m    210\u001b[0m     \u001b[0;32mif\u001b[0m \u001b[0;34m'stdout'\u001b[0m \u001b[0;32min\u001b[0m \u001b[0mkwargs\u001b[0m\u001b[0;34m:\u001b[0m\u001b[0;34m\u001b[0m\u001b[0m\n\u001b[1;32m    211\u001b[0m         \u001b[0;32mraise\u001b[0m \u001b[0mValueError\u001b[0m\u001b[0;34m(\u001b[0m\u001b[0;34m'stdout argument not allowed, it will be overridden.'\u001b[0m\u001b[0;34m)\u001b[0m\u001b[0;34m\u001b[0m\u001b[0m\n\u001b[0;32m--> 212\u001b[0;31m     \u001b[0mprocess\u001b[0m \u001b[0;34m=\u001b[0m \u001b[0mPopen\u001b[0m\u001b[0;34m(\u001b[0m\u001b[0mstdout\u001b[0m\u001b[0;34m=\u001b[0m\u001b[0mPIPE\u001b[0m\u001b[0;34m,\u001b[0m \u001b[0;34m*\u001b[0m\u001b[0mpopenargs\u001b[0m\u001b[0;34m,\u001b[0m \u001b[0;34m**\u001b[0m\u001b[0mkwargs\u001b[0m\u001b[0;34m)\u001b[0m\u001b[0;34m\u001b[0m\u001b[0m\n\u001b[0m\u001b[1;32m    213\u001b[0m     \u001b[0moutput\u001b[0m\u001b[0;34m,\u001b[0m \u001b[0munused_err\u001b[0m \u001b[0;34m=\u001b[0m \u001b[0mprocess\u001b[0m\u001b[0;34m.\u001b[0m\u001b[0mcommunicate\u001b[0m\u001b[0;34m(\u001b[0m\u001b[0;34m)\u001b[0m\u001b[0;34m\u001b[0m\u001b[0m\n\u001b[1;32m    214\u001b[0m     \u001b[0mretcode\u001b[0m \u001b[0;34m=\u001b[0m \u001b[0mprocess\u001b[0m\u001b[0;34m.\u001b[0m\u001b[0mpoll\u001b[0m\u001b[0;34m(\u001b[0m\u001b[0;34m)\u001b[0m\u001b[0;34m\u001b[0m\u001b[0m\n",
      "\u001b[0;32m/home/tcloudost/anac3/lib/python2.7/subprocess.pyc\u001b[0m in \u001b[0;36m__init__\u001b[0;34m(self, args, bufsize, executable, stdin, stdout, stderr, preexec_fn, close_fds, shell, cwd, env, universal_newlines, startupinfo, creationflags)\u001b[0m\n\u001b[1;32m    388\u001b[0m                                 \u001b[0mp2cread\u001b[0m\u001b[0;34m,\u001b[0m \u001b[0mp2cwrite\u001b[0m\u001b[0;34m,\u001b[0m\u001b[0;34m\u001b[0m\u001b[0m\n\u001b[1;32m    389\u001b[0m                                 \u001b[0mc2pread\u001b[0m\u001b[0;34m,\u001b[0m \u001b[0mc2pwrite\u001b[0m\u001b[0;34m,\u001b[0m\u001b[0;34m\u001b[0m\u001b[0m\n\u001b[0;32m--> 390\u001b[0;31m                                 errread, errwrite)\n\u001b[0m\u001b[1;32m    391\u001b[0m         \u001b[0;32mexcept\u001b[0m \u001b[0mException\u001b[0m\u001b[0;34m:\u001b[0m\u001b[0;34m\u001b[0m\u001b[0m\n\u001b[1;32m    392\u001b[0m             \u001b[0;31m# Preserve original exception in case os.close raises.\u001b[0m\u001b[0;34m\u001b[0m\u001b[0;34m\u001b[0m\u001b[0m\n",
      "\u001b[0;32m/home/tcloudost/anac3/lib/python2.7/subprocess.pyc\u001b[0m in \u001b[0;36m_execute_child\u001b[0;34m(self, args, executable, preexec_fn, close_fds, cwd, env, universal_newlines, startupinfo, creationflags, shell, to_close, p2cread, p2cwrite, c2pread, c2pwrite, errread, errwrite)\u001b[0m\n\u001b[1;32m   1022\u001b[0m                         \u001b[0;32mraise\u001b[0m\u001b[0;34m\u001b[0m\u001b[0m\n\u001b[1;32m   1023\u001b[0m                 \u001b[0mchild_exception\u001b[0m \u001b[0;34m=\u001b[0m \u001b[0mpickle\u001b[0m\u001b[0;34m.\u001b[0m\u001b[0mloads\u001b[0m\u001b[0;34m(\u001b[0m\u001b[0mdata\u001b[0m\u001b[0;34m)\u001b[0m\u001b[0;34m\u001b[0m\u001b[0m\n\u001b[0;32m-> 1024\u001b[0;31m                 \u001b[0;32mraise\u001b[0m \u001b[0mchild_exception\u001b[0m\u001b[0;34m\u001b[0m\u001b[0m\n\u001b[0m\u001b[1;32m   1025\u001b[0m \u001b[0;34m\u001b[0m\u001b[0m\n\u001b[1;32m   1026\u001b[0m \u001b[0;34m\u001b[0m\u001b[0m\n",
      "\u001b[0;31mOSError\u001b[0m: [Errno 2] No such file or directory"
     ]
    }
   ],
   "source": [
    "check_output(\"ls -l\")"
   ]
  },
  {
   "cell_type": "code",
   "execution_count": 6,
   "metadata": {
    "collapsed": false
   },
   "outputs": [
    {
     "data": {
      "text/plain": [
       "'total 5444\\n-rw-rw-r-- 1 tcloudost tcloudost      43 Jul  6 08:22 a1.py\\n-rw-rw-r-- 1 tcloudost tcloudost     182 Jul  6 08:22 a1.pyc\\ndrwxrwxr-x 2 tcloudost tcloudost    4096 Jul 23 10:14 app\\ndrwxrwxr-x 2 tcloudost tcloudost    4096 Aug 12 09:41 app2\\n-rw-rw-r-- 1 tcloudost tcloudost    2276 Aug 12 13:14 app2.zip\\n-rw-rw-r-- 1 tcloudost tcloudost      25 Jun 30 08:25 app.py\\n-rw-rw-r-- 1 tcloudost tcloudost      37 Jul 25 07:23 coding.py\\n-rw-rw-r-- 1 tcloudost tcloudost     222 Jul 23 11:01 data1.csv\\n-rw-rw-r-- 1 tcloudost tcloudost      78 Jul 23 11:18 data2.csv\\n-rw-rw-r-- 1 tcloudost tcloudost   16082 Jul 27 09:35 database.ipynb\\n-rw-rw-r-- 1 tcloudost tcloudost    5517 Jul 28 08:36 database-postgres.ipynb\\n-rw-rw-r-- 1 tcloudost tcloudost     273 Jul 23 10:28 data.csv\\n-rw-rw-r-- 1 tcloudost tcloudost     149 Aug  4 08:31 data_reg1.csv\\n-rw-rw-r-- 1 tcloudost tcloudost     167 Aug  4 08:23 data_reg.csv\\n-rw-rw-r-- 1 tcloudost tcloudost   39056 Jul  7 09:19 datatypes2.ipynb\\n-rw-rw-r-- 1 tcloudost tcloudost   62291 Jul  7 09:37 datatypes2.pdf\\n-rw-rw-r-- 1 tcloudost tcloudost   30647 Jul  6 09:15 datatypes.ipynb\\n-rw-rw-r-- 1 tcloudost tcloudost   53737 Jul  1 12:59 datatypes.pdf\\n-rw-r--r-- 1 tcloudost tcloudost    8192 Jul 27 09:20 db1.db\\n-rw-rw-r-- 1 tcloudost tcloudost   62168 Jul 23 11:28 dictionaries.ipynb\\n-rw-rw-r-- 1 tcloudost tcloudost   35584 Jul 26 09:14 exceptions.ipynb\\n-rw-rw-r-- 1 tcloudost tcloudost     229 Jul  4 09:31 features of python\\n-rw-rw-r-- 1 tcloudost tcloudost     229 Jul  4 09:31 features of python~\\n-rw-rw-r-- 1 tcloudost tcloudost   29189 Jul 23 11:20 files.ipynb\\ndrwxrwxr-x 3 tcloudost tcloudost    4096 Aug 13 12:48 flask_app\\n-rw-rw-r-- 1 tcloudost tcloudost    3635 Aug 13 13:26 flask_app.zip\\n-rw-rw-r-- 1 tcloudost tcloudost   38178 Jul 25 09:17 functions advanced1.ipynb\\n-rw-rw-r-- 1 tcloudost tcloudost   41305 Jul 24 09:21 functions advanced.ipynb\\n-rw-rw-r-- 1 tcloudost tcloudost   31658 Jul 17 09:22 functions.ipynb\\n-rw-rw-r-- 1 tcloudost tcloudost      21 Jun 30 08:34 hr.py\\n-rw-rw-r-- 1 tcloudost tcloudost     139 Jul  3 08:13 installation steps\\n-rw-rw-r-- 1 tcloudost tcloudost   19978 Jul 21 09:33 lists.ipynb\\ndrwxrwxr-x 2 tcloudost tcloudost    4096 Aug  8 07:17 logging_module\\n-rw-rw-r-- 1 tcloudost tcloudost      72 Jul 11 09:10 looping controlstatements2.ipynb\\n-rw-rw-r-- 1 tcloudost tcloudost 4387597 Jul 11 09:06 looping control statements.ipynb\\n-rw-rw-r-- 1 tcloudost tcloudost     484 Jul 27 09:38 mails.txt\\n-rw-rw-r-- 1 tcloudost tcloudost     462 Jul 27 08:26 mails.txt~\\n-rw-rw-r-- 1 tcloudost tcloudost   37915 Jul  4 08:19 mem.jpg\\n-rw-rw-r-- 1 tcloudost tcloudost    5129 Jul  4 09:33 memory organization1.ipynb\\n-rw-rw-r-- 1 tcloudost tcloudost   35073 Jul  8 09:40 memory+organization1.pdf\\ndrwxrwxr-x 3 tcloudost tcloudost    4096 Aug  5 11:14 modules\\n-rw-rw-r-- 1 tcloudost tcloudost      58 Jul 20 08:52 num.py\\n-rw-rw-r-- 1 tcloudost tcloudost   66594 Aug  6 12:26 oops2.ipynb\\n-rw-rw-r-- 1 tcloudost tcloudost   23598 Aug  5 11:07 oops.ipynb\\ndrwxrwxr-x 2 tcloudost tcloudost    4096 Aug 11 08:21 pdb_module\\n-rw-rw-r-- 1 tcloudost tcloudost    1479 Aug  8 09:29 pdb_module.zip\\n-rw-rw-r-- 1 tcloudost tcloudost       5 Jun 30 08:25 pur.py\\n-rw-rw-r-- 1 tcloudost tcloudost   54055 Aug  4 09:05 reg.ipynb\\n-rw-rw-r-- 1 tcloudost tcloudost       5 Jun 30 08:25 sales.py\\n-rw-rw-r-- 1 tcloudost tcloudost   30653 Jul 10 09:13 slicing and looping.ipynb\\n-rw-rw-r-- 1 tcloudost tcloudost    5602 Aug 12 10:28 snow_man.py\\ndrwxrwxr-x 2 tcloudost tcloudost    4096 Aug  6 12:45 socket_programing\\n-rw-rw-r-- 1 tcloudost tcloudost    1401 Aug  6 13:15 socket_programing.zip\\n-rw-rw-r-- 1 tcloudost tcloudost   23912 Jul 18 09:20 strings2.ipynb\\n-rw-rw-r-- 1 tcloudost tcloudost   45264 Jul 19 09:19 strings3.ipynb\\n-rw-rw-r-- 1 tcloudost tcloudost   21044 Jul 20 09:35 strings4.ipynb\\n-rw-rw-r-- 1 tcloudost tcloudost   39260 Jul  8 09:19 strings.ipynb\\n-rw-rw-r-- 1 tcloudost tcloudost   65321 Jul  8 09:24 strings.pdf\\n-rw-rw-r-- 1 tcloudost tcloudost    6531 Jul  3 09:07 Untitled1.ipynb\\n-rw-rw-r-- 1 tcloudost tcloudost    1457 Jul 28 08:26 Untitled2.ipynb\\n-rw-rw-r-- 1 tcloudost tcloudost    9347 Jul 15 07:17 Untitled3.ipynb\\n-rw-rw-r-- 1 tcloudost tcloudost    1289 Aug  5 08:49 Untitled4.ipynb\\n-rw-rw-r-- 1 tcloudost tcloudost   23504 Aug 12 10:10 Untitled5.ipynb\\n-rw-rw-r-- 1 tcloudost tcloudost    1960 Aug 15 07:51 Untitled6.ipynb\\n-rw-rw-r-- 1 tcloudost tcloudost       0 Jul 19 09:23 Untitled Document\\n-rw-rw-r-- 1 tcloudost tcloudost       0 Jul 23 10:16 Untitled Document 2\\n-rw-rw-r-- 1 tcloudost tcloudost   11116 Jun 30 08:58 Untitled.ipynb\\n-rw-rw-r-- 1 tcloudost tcloudost       5 Jun 30 08:25 ware.py\\n'"
      ]
     },
     "execution_count": 6,
     "metadata": {},
     "output_type": "execute_result"
    }
   ],
   "source": [
    "check_output(['ls','-l'])"
   ]
  },
  {
   "cell_type": "code",
   "execution_count": 7,
   "metadata": {
    "collapsed": true
   },
   "outputs": [],
   "source": [
    "hostname=\"localhost\"\n",
    "username='tcloudost'\n",
    "password=\"pythonrocks\"\n",
    "import paramiko"
   ]
  },
  {
   "cell_type": "code",
   "execution_count": 12,
   "metadata": {
    "collapsed": false
   },
   "outputs": [],
   "source": [
    "ssh = paramiko.SSHClient()\n",
    "ssh.set_missing_host_key_policy(paramiko.AutoAddPolicy())\n",
    "ssh.connect(hostname=\"localhost\", username=\"tcloudost\",password=\"pythonrocks\")"
   ]
  },
  {
   "cell_type": "code",
   "execution_count": 14,
   "metadata": {
    "collapsed": false
   },
   "outputs": [
    {
     "data": {
      "text/plain": [
       "(<paramiko.ChannelFile from <paramiko.Channel 0 (open) window=2097152 -> <paramiko.Transport at 0x925e9bd0L (cipher aes128-ctr, 128 bits) (active; 1 open channel(s))>>>,\n",
       " <paramiko.ChannelFile from <paramiko.Channel 0 (open) window=2097152 -> <paramiko.Transport at 0x925e9bd0L (cipher aes128-ctr, 128 bits) (active; 1 open channel(s))>>>,\n",
       " <paramiko.ChannelFile from <paramiko.Channel 0 (open) window=2097152 -> <paramiko.Transport at 0x925e9bd0L (cipher aes128-ctr, 128 bits) (active; 1 open channel(s))>>>)"
      ]
     },
     "execution_count": 14,
     "metadata": {},
     "output_type": "execute_result"
    }
   ],
   "source": [
    "ssh.exec_command(\"mkdir f1\")"
   ]
  },
  {
   "cell_type": "code",
   "execution_count": 15,
   "metadata": {
    "collapsed": true
   },
   "outputs": [],
   "source": [
    "inp, outp, errp = ssh.exec_command(\"rm -r f1\")"
   ]
  },
  {
   "cell_type": "code",
   "execution_count": 16,
   "metadata": {
    "collapsed": true
   },
   "outputs": [],
   "source": [
    "inp, outp, errp = ssh.exec_command('ps -aux')"
   ]
  },
  {
   "cell_type": "code",
   "execution_count": 17,
   "metadata": {
    "collapsed": true
   },
   "outputs": [],
   "source": [
    "process = outp.readlines()"
   ]
  },
  {
   "cell_type": "code",
   "execution_count": 18,
   "metadata": {
    "collapsed": false
   },
   "outputs": [
    {
     "data": {
      "text/plain": [
       "[u'USER       PID %CPU %MEM    VSZ   RSS TTY      STAT START   TIME COMMAND\\n',\n",
       " u'root         1  0.0  0.1 185180  5712 ?        Ss   Aug13   0:21 /sbin/init splash\\n',\n",
       " u'root         2  0.0  0.0      0     0 ?        S    Aug13   0:00 [kthreadd]\\n',\n",
       " u'root         3  0.0  0.0      0     0 ?        S    Aug13   0:04 [ksoftirqd/0]\\n',\n",
       " u'root         5  0.0  0.0      0     0 ?        S<   Aug13   0:00 [kworker/0:0H]\\n',\n",
       " u'root         7  0.0  0.0      0     0 ?        S    Aug13   0:36 [rcu_sched]\\n',\n",
       " u'root         8  0.0  0.0      0     0 ?        S    Aug13   0:00 [rcu_bh]\\n',\n",
       " u'root         9  0.0  0.0      0     0 ?        S    Aug13   0:34 [rcuos/0]\\n',\n",
       " u'root        10  0.0  0.0      0     0 ?        S    Aug13   0:00 [rcuob/0]\\n',\n",
       " u'root        11  0.0  0.0      0     0 ?        S    Aug13   0:00 [migration/0]\\n',\n",
       " u'root        12  0.0  0.0      0     0 ?        S    Aug13   0:02 [watchdog/0]\\n',\n",
       " u'root        13  0.0  0.0      0     0 ?        S<   Aug13   0:00 [khelper]\\n',\n",
       " u'root        14  0.0  0.0      0     0 ?        S    Aug13   0:00 [kdevtmpfs]\\n',\n",
       " u'root        15  0.0  0.0      0     0 ?        S<   Aug13   0:00 [netns]\\n',\n",
       " u'root        16  0.0  0.0      0     0 ?        S<   Aug13   0:00 [perf]\\n',\n",
       " u'root        17  0.0  0.0      0     0 ?        S    Aug13   0:00 [khungtaskd]\\n',\n",
       " u'root        18  0.0  0.0      0     0 ?        S<   Aug13   0:00 [writeback]\\n',\n",
       " u'root        19  0.0  0.0      0     0 ?        SN   Aug13   0:00 [ksmd]\\n',\n",
       " u'root        20  0.0  0.0      0     0 ?        SN   Aug13   1:27 [khugepaged]\\n',\n",
       " u'root        21  0.0  0.0      0     0 ?        S<   Aug13   0:00 [crypto]\\n',\n",
       " u'root        22  0.0  0.0      0     0 ?        S<   Aug13   0:00 [kintegrityd]\\n',\n",
       " u'root        23  0.0  0.0      0     0 ?        S<   Aug13   0:00 [bioset]\\n',\n",
       " u'root        24  0.0  0.0      0     0 ?        S<   Aug13   0:00 [kblockd]\\n',\n",
       " u'root        25  0.0  0.0      0     0 ?        S<   Aug13   0:00 [ata_sff]\\n',\n",
       " u'root        26  0.0  0.0      0     0 ?        S<   Aug13   0:00 [md]\\n',\n",
       " u'root        27  0.0  0.0      0     0 ?        S<   Aug13   0:00 [devfreq_wq]\\n',\n",
       " u'root        30  0.0  0.0      0     0 ?        S    Aug13   0:00 [kswapd0]\\n',\n",
       " u'root        31  0.0  0.0      0     0 ?        S<   Aug13   0:00 [vmstat]\\n',\n",
       " u'root        32  0.0  0.0      0     0 ?        S    Aug13   0:00 [fsnotify_mark]\\n',\n",
       " u'root        33  0.0  0.0      0     0 ?        S    Aug13   0:00 [ecryptfs-kthrea]\\n',\n",
       " u'root        44  0.0  0.0      0     0 ?        S<   Aug13   0:00 [kthrotld]\\n',\n",
       " u'root        45  0.0  0.0      0     0 ?        S<   Aug13   0:00 [acpi_thermal_pm]\\n',\n",
       " u'root        46  0.0  0.0      0     0 ?        S    Aug13   0:00 [scsi_eh_0]\\n',\n",
       " u'root        47  0.0  0.0      0     0 ?        S<   Aug13   0:00 [scsi_tmf_0]\\n',\n",
       " u'root        48  0.0  0.0      0     0 ?        S    Aug13   0:00 [scsi_eh_1]\\n',\n",
       " u'root        49  0.0  0.0      0     0 ?        S<   Aug13   0:00 [scsi_tmf_1]\\n',\n",
       " u'root        54  0.0  0.0      0     0 ?        S<   Aug13   0:00 [ipv6_addrconf]\\n',\n",
       " u'root        74  0.0  0.0      0     0 ?        S<   Aug13   0:00 [deferwq]\\n',\n",
       " u'root        75  0.0  0.0      0     0 ?        S<   Aug13   0:00 [charger_manager]\\n',\n",
       " u'root       113  0.0  0.0      0     0 ?        S    Aug13   0:00 [scsi_eh_2]\\n',\n",
       " u'root       114  0.0  0.0      0     0 ?        S<   Aug13   0:00 [scsi_tmf_2]\\n',\n",
       " u'root       116  0.0  0.0      0     0 ?        S<   Aug13   0:00 [kpsmoused]\\n',\n",
       " u'root       118  0.0  0.0      0     0 ?        S<   Aug13   0:04 [kworker/0:1H]\\n',\n",
       " u'root       144  0.0  0.0      0     0 ?        S    Aug13   0:25 [jbd2/sda1-8]\\n',\n",
       " u'root       145  0.0  0.0      0     0 ?        S<   Aug13   0:00 [ext4-rsv-conver]\\n',\n",
       " u'root       184  0.0  0.0      0     0 ?        S    Aug13   0:00 [kauditd]\\n',\n",
       " u'root       196  0.0  0.2  40868 11080 ?        Ss   Aug13   0:10 /lib/systemd/systemd-journald\\n',\n",
       " u'root       212  0.0  0.1  45692  4940 ?        Ss   Aug13   0:05 /lib/systemd/systemd-udevd\\n',\n",
       " u'root       298  0.0  0.0      0     0 ?        S<   Aug13   0:00 [iprt-VBoxWQueue]\\n',\n",
       " u'systemd+   310  0.0  0.0 102356  2708 ?        Ssl  Aug13   0:03 /lib/systemd/systemd-timesyncd\\n',\n",
       " u'root       435  0.0  0.2  23456 10436 ?        S    07:23   0:00 /sbin/dhclient -d -q -sf /usr/lib/NetworkManager/nm-dhcp-helper -pf /run/sendsigs.omit.d/network-manager.dhclient-enp0s10.pid -lf /var/lib/NetworkManager/dhclient-cd60d770-25b1-418f-8f5e-6c5935e54c40-enp0s10.lease -cf /var/lib/NetworkManager/dhclient-enp0s10.conf enp0s10\\n',\n",
       " u'root       485  0.0  0.2 337292  8384 ?        Ssl  Aug13   0:00 /usr/sbin/ModemManager\\n',\n",
       " u'root       486  0.0  0.1 287292  7032 ?        Ssl  Aug13   0:22 /usr/lib/accountsservice/accounts-daemon\\n',\n",
       " u'avahi      488  0.0  0.0  40192  3392 ?        Ss   Aug13   0:03 avahi-daemon: running [tcloudost-VirtualBox.local]\\n',\n",
       " u'root       489  0.0  0.4 381876 16776 ?        Ssl  Aug13   0:08 /usr/sbin/NetworkManager --no-daemon\\n',\n",
       " u'syslog     496  0.0  0.0 256372  3444 ?        Ssl  Aug13   0:02 /usr/sbin/rsyslogd -n\\n',\n",
       " u'root       497  0.0  0.0  28600  3140 ?        Ss   Aug13   0:03 /lib/systemd/systemd-logind\\n',\n",
       " u'message+   502  0.0  0.1  44280  5368 ?        Ss   Aug13   0:46 /usr/bin/dbus-daemon --system --address=systemd: --nofork --nopidfile --systemd-activation\\n',\n",
       " u'avahi      539  0.0  0.0  40068   272 ?        S    Aug13   0:00 avahi-daemon: chroot helper\\n',\n",
       " u'root       556  0.0  0.0 247744  2176 ?        Sl   Aug13   1:39 /usr/sbin/VBoxService\\n',\n",
       " u'whoopsie   570  0.0  0.3 521236 12544 ?        Ssl  Aug13   0:01 /usr/bin/whoopsie -f\\n',\n",
       " u'root       572  0.0  0.0  25180  2588 ?        Ss   Aug13   0:00 /sbin/cgmanager -m name=systemd\\n',\n",
       " u'root       585  0.0  0.2 272360  9412 ?        Ssl  Aug13   0:00 /usr/sbin/cups-browsed\\n',\n",
       " u'root       587  0.0  0.0  33124  3020 ?        Ss   Aug13   0:02 /usr/sbin/cron -f\\n',\n",
       " u'root       594  0.0  0.1  69932  5948 ?        Ss   Aug13   0:03 /usr/sbin/sshd -D\\n',\n",
       " u'root       597  0.0  0.2 285720  8392 ?        Ssl  Aug13   0:01 /usr/lib/policykit-1/polkitd --no-debug\\n',\n",
       " u'mysql      605  0.0  0.0   4476  1728 ?        Ss   Aug13   0:00 /bin/sh /usr/bin/mysqld_safe\\n',\n",
       " u'root       739  0.0  0.2  23456 10348 ?        S    07:23   0:00 /sbin/dhclient -d -q -sf /usr/lib/NetworkManager/nm-dhcp-helper -pf /run/sendsigs.omit.d/network-manager.dhclient-enp0s9.pid -lf /var/lib/NetworkManager/dhclient-c9aaab2f-0078-4b7d-bb94-e9cf47ea7a0c-enp0s9.lease -cf /var/lib/NetworkManager/dhclient-enp0s9.conf enp0s9\\n',\n",
       " u'root       742  0.0  0.2  23456 10260 ?        S    07:23   0:00 /sbin/dhclient -d -q -sf /usr/lib/NetworkManager/nm-dhcp-helper -pf /run/sendsigs.omit.d/network-manager.dhclient-enp0s8.pid -lf /var/lib/NetworkManager/dhclient-3561e2f8-9001-4793-ad05-bc7a69338fe0-enp0s8.lease -cf /var/lib/NetworkManager/dhclient-enp0s8.conf enp0s8\\n',\n",
       " u'root       759  0.0  0.2  23580 10400 ?        S    07:23   0:00 /sbin/dhclient -d -q -sf /usr/lib/NetworkManager/nm-dhcp-helper -pf /run/sendsigs.omit.d/network-manager.dhclient-enp0s3.pid -lf /var/lib/NetworkManager/dhclient-d693b43d-f511-4b61-8167-1b8b49b3af1a-enp0s3.lease -cf /var/lib/NetworkManager/dhclient-enp0s3.conf enp0s3\\n',\n",
       " u'root       781  0.0  0.1  39192  4872 ?        Ss   Aug13   0:00 /sbin/wpa_supplicant -u -s -O /run/wpa_supplicant\\n',\n",
       " u'mysql      978  0.1  3.0 737464 125296 ?       Sl   Aug13   3:24 /usr/sbin/mysqld --basedir=/usr --datadir=/var/lib/mysql --plugin-dir=/usr/lib/mysql/plugin --log-error=/var/log/mysql/error.log --pid-file=/var/run/mysqld/mysqld.pid --socket=/var/run/mysqld/mysqld.sock --port=3306\\n',\n",
       " u'root       985  0.0  0.0 124520  1256 ?        Ss   Aug13   0:00 nginx: master process /usr/sbin/nginx -g daemon on; master_process on;\\n',\n",
       " u'www-data   986  0.0  0.1 125216  4684 ?        S    Aug13   0:00 nginx: worker process                           \\n',\n",
       " u'nobody    1024  0.0  0.0  52288  4004 ?        S    Aug13   0:16 /usr/sbin/dnsmasq --no-resolv --keep-in-foreground --no-hosts --bind-interfaces --pid-file=/run/sendsigs.omit.d/network-manager.dnsmasq.pid --listen-address=127.0.1.1 --conf-file=/var/run/NetworkManager/dnsmasq.conf --cache-size=0 --proxy-dnssec --enable-dbus=org.freedesktop.NetworkManager.dnsmasq --conf-dir=/etc/NetworkManager/dnsmasq.d\\n',\n",
       " u'postgres  1084  0.0  0.5 293632 24192 ?        S    Aug13   0:23 /usr/lib/postgresql/9.4/bin/postgres -D /var/lib/postgresql/9.4/main -c config_file=/etc/postgresql/9.4/main/postgresql.conf\\n',\n",
       " u'kernoops  1251  0.0  0.0  45276  2712 ?        Ss   Aug13   0:04 /usr/sbin/kerneloops\\n',\n",
       " u'snmp      1738  0.1  0.2  61388  8100 ?        S    Aug13   5:25 /usr/sbin/snmpd -Lsd -Lf /dev/null -u snmp -g snmp -I -smux mteTrigger mteTriggerConf -p /run/snmpd.pid\\n',\n",
       " u'postgres  1852  0.0  0.1 293764  6864 ?        Ss   Aug13   0:00 postgres: checkpointer process                                                                                              \\n',\n",
       " u'postgres  1854  0.0  0.1 293632  5444 ?        Ss   Aug13   0:12 postgres: writer process                                                                                                    \\n',\n",
       " u'postgres  1857  0.0  0.2 293632  8516 ?        Ss   Aug13   0:15 postgres: wal writer process                                                                                                \\n',\n",
       " u'postgres  1862  0.0  0.1 294028  6456 ?        Ss   Aug13   0:12 postgres: autovacuum launcher process                                                                                       \\n',\n",
       " u'postgres  1866  0.0  0.1 148884  4128 ?        Ss   Aug13   0:11 postgres: stats collector process                                                                                           \\n',\n",
       " u'root      1938  0.0  0.1 352420  6232 ?        SLsl Aug13   0:00 /usr/sbin/lightdm\\n',\n",
       " u'root      1950  0.0  0.0  20052  2256 tty1     Ss+  Aug13   0:00 /sbin/agetty --noclear tty1 linux\\n',\n",
       " u'root      1951  7.1  3.2 377096 129648 tty7    Ss+  Aug13 226:39 /usr/bin/X -core :0 -seat seat0 -auth /var/run/lightdm/root/:0 -nolisten tcp vt7 -novtswitch\\n',\n",
       " u'root      2021  0.0  0.1 230224  6184 ?        Sl   Aug13   0:00 lightdm --session-child 12 19\\n',\n",
       " u'rtkit     2074  0.0  0.0 178820  2932 ?        SNsl Aug13   0:09 /usr/lib/rtkit/rtkit-daemon\\n',\n",
       " u'root      2103  0.0  0.3 345636 12324 ?        Ssl  Aug13   0:00 /usr/lib/upower/upowerd\\n',\n",
       " u'colord    2116  0.0  0.2 305100 10580 ?        Ssl  Aug13   0:00 /usr/lib/colord/colord\\n',\n",
       " u'tcloudo+  2453  0.0  0.1  45164  5132 ?        Ss   Aug13   0:00 /lib/systemd/systemd --user\\n',\n",
       " u'tcloudo+  2455  0.0  0.0  61168  1840 ?        S    Aug13   0:00 (sd-pam)         \\n',\n",
       " u'tcloudo+  2461  0.0  0.1 366124  7404 ?        Sl   Aug13   0:01 /usr/bin/gnome-keyring-daemon --daemonize --login\\n',\n",
       " u'tcloudo+  2463  0.0  0.1  45876  4280 ?        Ss   Aug13   0:03 /sbin/upstart --user\\n',\n",
       " u'tcloudo+  2540  0.0  0.0  49464  1168 ?        S    Aug13   1:05 /usr/bin/VBoxClient --clipboard\\n',\n",
       " u'tcloudo+  2546  0.0  0.0  49464  1172 ?        S    Aug13   1:06 /usr/bin/VBoxClient --checkhostversion\\n',\n",
       " u'tcloudo+  2553  0.0  0.0  49464  1104 ?        S    Aug13   1:07 /usr/bin/VBoxClient --display\\n',\n",
       " u'tcloudo+  2561  0.0  0.0  39016  1384 ?        S    Aug13   0:00 dbus-launch --autolaunch=e51c7092bfbd4fb4ac8b04918ff33401 --binary-syntax --close-stderr\\n',\n",
       " u'tcloudo+  2566  0.0  0.0  42860  2704 ?        Ss   Aug13   0:00 /usr/bin/dbus-daemon --fork --print-pid 5 --print-address 7 --session\\n',\n",
       " u'tcloudo+  2574  0.0  0.5 439336 23820 ?        Sl   Aug13   0:38 /usr/lib/x86_64-linux-gnu/notify-osd\\n',\n",
       " u'tcloudo+  2580  0.0  0.0  49464  1144 ?        S    Aug13   1:10 /usr/bin/VBoxClient --seamless\\n',\n",
       " u'tcloudo+  2587  0.0  0.0  49464  1128 ?        S    Aug13   1:06 /usr/bin/VBoxClient --draganddrop\\n',\n",
       " u'tcloudo+  2599  0.0  0.1 337956  5276 ?        Sl   Aug13   0:00 /usr/lib/at-spi2-core/at-spi-bus-launcher\\n',\n",
       " u'tcloudo+  2609  0.0  0.0  42860  3884 ?        S    Aug13   0:11 /usr/bin/dbus-daemon --config-file=/etc/at-spi2/accessibility.conf --nofork --print-address 3\\n',\n",
       " u'tcloudo+  2615  0.0  0.0  32296   108 ?        S    Aug13   0:00 upstart-udev-bridge --daemon --user\\n',\n",
       " u'tcloudo+  2621  0.0  0.1 206936  4784 ?        Sl   Aug13   0:33 /usr/lib/at-spi2-core/at-spi2-registryd --use-gnome-session\\n',\n",
       " u'tcloudo+  2630  0.0  0.1 271164  5296 ?        Sl   Aug13   0:00 /usr/lib/gvfs/gvfsd\\n',\n",
       " u'tcloudo+  2638  0.0  0.1 409032  4824 ?        Sl   Aug13   0:00 /usr/lib/gvfs/gvfsd-fuse /run/user/1000/gvfs -f -o big_writes\\n',\n",
       " u'tcloudo+  2640  0.0  0.1  44032  4232 ?        Ss   Aug13   0:39 dbus-daemon --fork --session --address=unix:abstract=/tmp/dbus-XlK3rIdea9\\n',\n",
       " u'tcloudo+  2659  0.0  0.2  88176  9312 ?        Ss   Aug13   0:03 /usr/lib/x86_64-linux-gnu/hud/window-stack-bridge\\n',\n",
       " u'tcloudo+  2662  0.0  0.4 426984 18388 ?        Sl   Aug13   0:38 /usr/bin/gnome-screensaver --no-daemon\\n',\n",
       " u'tcloudo+  2691  0.0  0.5 515220 24024 ?        Sl   Aug13   1:35 /usr/lib/x86_64-linux-gnu/bamf/bamfdaemon\\n',\n",
       " u'tcloudo+  2709  0.0  0.0  32232   144 ?        S    Aug13   0:00 upstart-dbus-bridge --daemon --system --user --bus-name system\\n',\n",
       " u'tcloudo+  2717  0.0  0.1 623840  5900 ?        Sl   Aug13   0:00 /usr/lib/gvfs/gvfsd\\n',\n",
       " u'tcloudo+  2718  0.3  1.1 380400 46580 ?        Rsl  Aug13  10:55 /usr/bin/ibus-daemon --daemonize --xim\\n',\n",
       " u'tcloudo+  2737  0.0  0.1 270504  7968 ?        Sl   Aug13   0:00 /usr/lib/ibus/ibus-dconf\\n',\n",
       " u'tcloudo+  2739  0.0  1.2 495184 48932 ?        Sl   Aug13   2:49 /usr/lib/ibus/ibus-ui-gtk3\\n',\n",
       " u'tcloudo+  2743  0.0  0.3 376792 13512 ?        Sl   Aug13   0:10 /usr/lib/ibus/ibus-x11 --kill-daemon\\n',\n",
       " u'tcloudo+  2748  0.0  0.0  32392  1800 ?        S    Aug13   0:12 upstart-dbus-bridge --daemon --session --user --bus-name session\\n',\n",
       " u'tcloudo+  2750  0.0  0.0  40824  1592 ?        S    Aug13   0:00 upstart-file-bridge --daemon --user\\n',\n",
       " u'tcloudo+  2765  0.0  1.3 725312 55172 ?        Ssl  Aug13   1:54 /usr/lib/x86_64-linux-gnu/hud/hud-service\\n',\n",
       " u'tcloudo+  2767  0.0  0.9 797496 37184 ?        Ssl  Aug13   1:50 /usr/lib/unity-settings-daemon/unity-settings-daemon\\n',\n",
       " u'tcloudo+  2773 10.2  9.2 1308820 374792 ?      Rsl  Aug13 321:51 compiz\\n',\n",
       " u'tcloudo+  2774  0.0  0.3 628328 15564 ?        Ssl  Aug13   0:02 gnome-session --session=ubuntu\\n',\n",
       " u'tcloudo+  2779  0.0  0.1 194772  5996 ?        Sl   Aug13   2:00 /usr/lib/ibus/ibus-engine-simple\\n',\n",
       " u'tcloudo+  2780  0.0  1.8 741976 73528 ?        Ssl  Aug13   1:56 /usr/lib/unity/unity-panel-service\\n',\n",
       " u'tcloudo+  2795  0.0  0.1 178628  4964 ?        Sl   Aug13   0:00 /usr/lib/dconf/dconf-service\\n',\n",
       " u'tcloudo+  2817  0.0  0.2 363568  9520 ?        Ssl  Aug13   0:00 /usr/lib/x86_64-linux-gnu/indicator-messages/indicator-messages-service\\n',\n",
       " u'tcloudo+  2818  0.0  0.1 337480  5504 ?        Ssl  Aug13   0:00 /usr/lib/x86_64-linux-gnu/indicator-bluetooth/indicator-bluetooth-service\\n',\n",
       " u'tcloudo+  2819  0.0  0.1 426828  7092 ?        Ssl  Aug13   0:00 /usr/lib/x86_64-linux-gnu/indicator-power/indicator-power-service\\n',\n",
       " u'tcloudo+  2823  0.0  0.4 775932 17544 ?        Ssl  Aug13   0:09 /usr/lib/x86_64-linux-gnu/indicator-datetime/indicator-datetime-service\\n',\n",
       " u'tcloudo+  2838  0.0  0.6 650196 26252 ?        Ssl  Aug13   0:35 /usr/lib/x86_64-linux-gnu/indicator-keyboard/indicator-keyboard-service --use-gtk\\n',\n",
       " u'tcloudo+  2840  0.0  0.2 549004 10456 ?        Ssl  Aug13   0:00 /usr/lib/x86_64-linux-gnu/indicator-sound/indicator-sound-service\\n',\n",
       " u'tcloudo+  2848  0.0  0.5 541696 21756 ?        Ssl  Aug13   0:34 /usr/lib/x86_64-linux-gnu/indicator-printers/indicator-printers-service\\n',\n",
       " u'root      2849  0.0  0.1  90212  6868 ?        Ss   07:35   0:00 /usr/sbin/cupsd -l\\n',\n",
       " u'tcloudo+  2851  0.0  0.5 911876 21236 ?        Sl   Aug13   0:00 /usr/lib/evolution/evolution-source-registry\\n',\n",
       " u'tcloudo+  2853  0.0  0.2 631616  9020 ?        Ssl  Aug13   0:00 /usr/lib/x86_64-linux-gnu/indicator-session/indicator-session-service\\n',\n",
       " u'tcloudo+  2858  0.0  0.3 469320 13704 ?        Ssl  Aug13   0:01 /usr/lib/x86_64-linux-gnu/indicator-application/indicator-application-service\\n',\n",
       " u'tcloudo+  2880  0.0  0.2 434488 11256 ?        S<l  Aug13   0:01 /usr/bin/pulseaudio --start --log-target=syslog\\n',\n",
       " u'tcloudo+  2908  0.1  1.9 1093832 77360 ?       Sl   Aug13   5:32 nautilus -n\\n',\n",
       " u'tcloudo+  2913  0.0  0.4 426144 19208 ?        Sl   Aug13   0:31 /usr/lib/policykit-1-gnome/polkit-gnome-authentication-agent-1\\n',\n",
       " u'tcloudo+  2915  0.0  0.5 573456 21892 ?        Sl   Aug13   0:32 /usr/lib/unity-settings-daemon/unity-fallback-mount-helper\\n',\n",
       " u'tcloudo+  2916  0.0  0.8 588536 34764 ?        Sl   Aug13   0:45 nm-applet\\n',\n",
       " u'tcloudo+  2927  0.0  1.4 859160 58092 ?        Sl   Aug13   0:00 /usr/lib/evolution/evolution-calendar-factory\\n',\n",
       " u'tcloudo+  2932  0.0  0.1 289516  7476 ?        Sl   Aug13   0:00 /usr/lib/gvfs/gvfs-udisks2-volume-monitor\\n',\n",
       " u'root      2938  0.0  0.2 367508 10488 ?        Ssl  Aug13   0:00 /usr/lib/udisks2/udisksd --no-debug\\n',\n",
       " u'tcloudo+  2942  0.0  0.1  66292  6448 ?        S    Aug13   0:02 /usr/lib/x86_64-linux-gnu/gconf/gconfd-2\\n',\n",
       " u'tcloudo+  2950  0.0  0.2 403168  8628 ?        Sl   Aug13   0:00 /usr/lib/gvfs/gvfs-afc-volume-monitor\\n',\n",
       " u'tcloudo+  2956  0.0  0.1 275816  5596 ?        Sl   Aug13   0:00 /usr/lib/gvfs/gvfs-gphoto2-volume-monitor\\n',\n",
       " u'tcloudo+  2964  0.0  0.1 263620  5376 ?        Sl   Aug13   0:00 /usr/lib/gvfs/gvfs-mtp-volume-monitor\\n',\n",
       " u'tcloudo+  2974  0.0  0.1 358616  7700 ?        Sl   Aug13   0:04 /usr/lib/gvfs/gvfsd-trash --spawner :1.6 /org/gtk/gvfs/exec_spaw/0\\n',\n",
       " u'tcloudo+  2996  0.0  0.3 783660 15348 ?        Sl   Aug13   0:00 /usr/lib/evolution/evolution-calendar-factory-subprocess --factory contacts --bus-name org.gnome.evolution.dataserver.Subprocess.Backend.Calendarx2927x2 --own-path /org/gnome/evolution/dataserver/Subprocess/Backend/Calendar/2927/2\\n',\n",
       " u'tcloudo+  3005  0.0  0.4 768156 18852 ?        Sl   Aug13   0:00 /usr/lib/evolution/evolution-calendar-factory-subprocess --factory local --bus-name org.gnome.evolution.dataserver.Subprocess.Backend.Calendarx2927x3 --own-path /org/gnome/evolution/dataserver/Subprocess/Backend/Calendar/2927/3\\n',\n",
       " u'tcloudo+  3008  0.0  0.4 692320 17652 ?        Sl   Aug13   0:00 /usr/lib/evolution/evolution-addressbook-factory\\n',\n",
       " u'tcloudo+  3027  0.0  0.4 767880 19384 ?        Sl   Aug13   0:00 /usr/lib/evolution/evolution-addressbook-factory-subprocess --factory local --bus-name org.gnome.evolution.dataserver.Subprocess.Backend.AddressBookx3008x2 --own-path /org/gnome/evolution/dataserver/Subprocess/Backend/AddressBook/3008/2\\n',\n",
       " u'tcloudo+  3052  0.0  0.1 344896  5648 ?        Sl   Aug13   0:00 /usr/lib/gvfs/gvfsd-burn --spawner :1.6 /org/gtk/gvfs/exec_spaw/1\\n',\n",
       " u'tcloudo+  3071  0.0  0.1 190856  6128 ?        Sl   Aug13   0:01 /usr/lib/gvfs/gvfsd-metadata\\n',\n",
       " u'tcloudo+  3074  0.0  0.6 549184 24392 ?        Sl   Aug13   0:33 telepathy-indicator\\n',\n",
       " u'tcloudo+  3082  0.0  0.3 425156 13148 ?        Sl   Aug13   0:03 /usr/lib/telepathy/mission-control-5\\n',\n",
       " u'tcloudo+  3110  0.0  0.3 552312 15748 ?        Sl   Aug13   1:53 zeitgeist-datahub\\n',\n",
       " u'tcloudo+  3119  0.0  0.1 412584  7840 ?        Sl   Aug13   0:05 /usr/bin/zeitgeist-daemon\\n',\n",
       " u'tcloudo+  3128  0.0  0.7 334392 31192 ?        Sl   Aug13   0:10 /usr/lib/x86_64-linux-gnu/zeitgeist-fts\\n',\n",
       " u'tcloudo+  3270  0.0  0.6 520836 26348 ?        Sl   Aug13   0:35 update-notifier\\n',\n",
       " u'tcloudo+  3382  0.0  0.2 589296  9900 ?        Sl   Aug13   0:00 /usr/lib/x86_64-linux-gnu/deja-dup/deja-dup-monitor\\n',\n",
       " u'tcloudo+  3783  0.4  1.4 355024 56784 pts/16   Sl+  07:46   0:05 /home/tcloudost/anac3/bin/python /home/tcloudost/anac3/bin/ipython notebook\\n',\n",
       " u'tcloudo+  3847  0.4  1.2 800500 51024 ?        Ssl  07:47   0:04 /home/tcloudost/anac3/bin/python -m ipykernel -f /run/user/1000/jupyter/kernel-da64ced6-9d59-41f8-bf38-645ca25b2d29.json\\n',\n",
       " u'root      4067  0.1  0.0      0     0 ?        S    07:50   0:01 [kworker/0:0]\\n',\n",
       " u'root      4208  0.0  0.0      0     0 ?        S    07:52   0:00 [kworker/u2:2]\\n',\n",
       " u'tcloudo+  4234  0.0  0.4 714004 17948 ?        Sl   Aug13   0:01 /usr/lib/gvfs/gvfsd-http --spawner :1.6 /org/gtk/gvfs/exec_spaw/2\\n',\n",
       " u'root      4764  0.0  0.1 101896  6912 ?        Ss   08:01   0:00 sshd: tcloudost [priv]\\n',\n",
       " u'tcloudo+  4827  0.0  0.1 101896  4100 ?        S    08:01   0:00 sshd: tcloudost@notty\\n',\n",
       " u'tcloudo+  4997  0.8  0.5 502744 23024 ?        Sl   08:03   0:00 /usr/bin/python3 /usr/share/unity-scopes/scope-runner-dbus.py /usr/share/unity-scopes/zotero/unity_zotero_daemon.py\\n',\n",
       " u'tcloudo+  5010  0.9  0.6 681076 27376 ?        Sl   08:03   0:00 /usr/bin/python3 /usr/share/unity-scopes/scope-runner-dbus.py -s files/gdrive.scope\\n',\n",
       " u'tcloudo+  5034  3.9  1.3 884860 54620 ?        Ssl  08:03   0:01 /opt/sublime_text/sublime_text\\n',\n",
       " u'tcloudo+  5048 10.0  1.0 238392 41828 ?        Sl   08:03   0:04 /opt/sublime_text/plugin_host 5034\\n',\n",
       " u'tcloudo+  5106  0.0  0.0  22676  2696 ?        Rs   08:04   0:00 ps -aux\\n',\n",
       " u'tcloudo+  5308  0.0  0.1 111552  7992 ?        Sl   01:14   0:00 /home/tcloudost/Downloads/chromedriver\\n',\n",
       " u'tcloudo+  5323  0.0  0.2 111552  8684 ?        Sl   01:14   0:00 /home/tcloudost/Downloads/chromedriver\\n',\n",
       " u'tcloudo+  5643  0.0  0.6 741620 26308 ?        Sl   Aug13   0:07 /usr/lib/x86_64-linux-gnu/unity-scope-home/unity-scope-home\\n',\n",
       " u'tcloudo+  5662  0.0  0.3 710684 14172 ?        Sl   Aug13   0:42 /usr/lib/x86_64-linux-gnu/unity-lens-files/unity-files-daemon\\n',\n",
       " u'tcloudo+  5663  0.0  0.6 583484 27332 ?        Sl   Aug13   0:30 /usr/bin/unity-scope-loader applications/applications.scope applications/scopes.scope commands.scope\\n',\n",
       " u'uuidd     5701  0.0  0.0  27592  1264 ?        Ss   Aug13   0:00 /usr/sbin/uuidd --socket-activation\\n',\n",
       " u'tcloudo+  5705  0.0  0.3 339344 13516 ?        Sl   Aug13   0:23 /usr/lib/x86_64-linux-gnu/unity-lens-music/unity-music-daemon\\n',\n",
       " u'tcloudo+  6937 11.6 21.8 2076420 882672 ?      Rl   Aug14  98:44 /usr/lib/firefox/firefox\\n',\n",
       " u'tcloudo+  9762  0.0  0.7 487520 30252 ?        Sl   Aug13   0:41 /usr/lib/x86_64-linux-gnu/notify-osd\\n',\n",
       " u'tcloudo+ 23115  0.0  1.0 635640 44376 ?        Ssl  Aug13   0:40 /home/tcloudost/anac3/bin/python -m ipykernel -f /run/user/1000/jupyter/kernel-3e4ddd5d-8bfb-44c6-8012-3038dbdf82e3.json\\n',\n",
       " u'tcloudo+ 28908  0.1  0.9 648728 36764 ?        Sl   06:28   0:10 /usr/lib/gnome-terminal/gnome-terminal-server\\n',\n",
       " u'tcloudo+ 28919  0.0  0.0  14852  1984 ?        S    06:28   0:00 gnome-pty-helper\\n',\n",
       " u'tcloudo+ 28920  0.0  0.1  27556  6284 pts/16   Ss   06:28   0:00 bash\\n',\n",
       " u'tcloudo+ 30050  0.0  0.1  27556  6308 pts/17   Ss+  06:41   0:00 bash\\n',\n",
       " u'root     30305  0.0  0.0      0     0 ?        S    06:43   0:00 [kworker/0:2]\\n',\n",
       " u'root     31055  0.0  0.0      0     0 ?        S    06:55   0:00 [kworker/u2:0]\\n']"
      ]
     },
     "execution_count": 18,
     "metadata": {},
     "output_type": "execute_result"
    }
   ],
   "source": [
    "process"
   ]
  },
  {
   "cell_type": "code",
   "execution_count": 27,
   "metadata": {
    "collapsed": false
   },
   "outputs": [],
   "source": [
    "for proc  in process:\n",
    "    if 'sublime' in proc:\n",
    "        pid = proc.split()[1]\n",
    "        break"
   ]
  },
  {
   "cell_type": "code",
   "execution_count": 28,
   "metadata": {
    "collapsed": false
   },
   "outputs": [
    {
     "data": {
      "text/plain": [
       "(<paramiko.ChannelFile from <paramiko.Channel 3 (open) window=2097152 -> <paramiko.Transport at 0x925e9bd0L (cipher aes128-ctr, 128 bits) (active; 1 open channel(s))>>>,\n",
       " <paramiko.ChannelFile from <paramiko.Channel 3 (open) window=2097152 -> <paramiko.Transport at 0x925e9bd0L (cipher aes128-ctr, 128 bits) (active; 1 open channel(s))>>>,\n",
       " <paramiko.ChannelFile from <paramiko.Channel 3 (open) window=2097152 -> <paramiko.Transport at 0x925e9bd0L (cipher aes128-ctr, 128 bits) (active; 0 open channel(s))>>>)"
      ]
     },
     "execution_count": 28,
     "metadata": {},
     "output_type": "execute_result"
    }
   ],
   "source": [
    "ssh.exec_command('kill -9 %s'%pid)"
   ]
  },
  {
   "cell_type": "code",
   "execution_count": 29,
   "metadata": {
    "collapsed": true
   },
   "outputs": [],
   "source": [
    "sftp = ssh.open_sftp()"
   ]
  },
  {
   "cell_type": "code",
   "execution_count": 30,
   "metadata": {
    "collapsed": true
   },
   "outputs": [],
   "source": [
    "sftp.get('/home/tcloudost/pythonexamples/batch31/socket_programing/client.py','/home/tcloudost/pythonexamples/batch30/socket_program/client.py')"
   ]
  },
  {
   "cell_type": "code",
   "execution_count": 31,
   "metadata": {
    "collapsed": true
   },
   "outputs": [],
   "source": [
    "ssh.close()"
   ]
  },
  {
   "cell_type": "code",
   "execution_count": 34,
   "metadata": {
    "collapsed": false
   },
   "outputs": [],
   "source": [
    "ssh = paramiko.SSHClient()\n",
    "ssh.set_missing_host_key_policy(paramiko.AutoAddPolicy())\n",
    "ssh.connect(hostname=\"localhost\", username=\"tcloudost\", key_filename=\"/home/tcloudost/.ssh/id_rsa\")"
   ]
  },
  {
   "cell_type": "code",
   "execution_count": 35,
   "metadata": {
    "collapsed": false
   },
   "outputs": [
    {
     "data": {
      "text/plain": [
       "(<paramiko.ChannelFile from <paramiko.Channel 0 (open) window=2097152 -> <paramiko.Transport at 0x908ae310L (cipher aes128-ctr, 128 bits) (active; 1 open channel(s))>>>,\n",
       " <paramiko.ChannelFile from <paramiko.Channel 0 (open) window=2097152 -> <paramiko.Transport at 0x908ae310L (cipher aes128-ctr, 128 bits) (active; 1 open channel(s))>>>,\n",
       " <paramiko.ChannelFile from <paramiko.Channel 0 (open) window=2097152 -> <paramiko.Transport at 0x908ae310L (cipher aes128-ctr, 128 bits) (active; 1 open channel(s))>>>)"
      ]
     },
     "execution_count": 35,
     "metadata": {},
     "output_type": "execute_result"
    }
   ],
   "source": [
    "ssh.exec_command(\"mkdir f1\")"
   ]
  },
  {
   "cell_type": "code",
   "execution_count": 36,
   "metadata": {
    "collapsed": false
   },
   "outputs": [
    {
     "data": {
      "text/plain": [
       "(<paramiko.ChannelFile from <paramiko.Channel 1 (open) window=2097152 -> <paramiko.Transport at 0x908ae310L (cipher aes128-ctr, 128 bits) (active; 1 open channel(s))>>>,\n",
       " <paramiko.ChannelFile from <paramiko.Channel 1 (open) window=2097152 -> <paramiko.Transport at 0x908ae310L (cipher aes128-ctr, 128 bits) (active; 1 open channel(s))>>>,\n",
       " <paramiko.ChannelFile from <paramiko.Channel 1 (open) window=2097152 -> <paramiko.Transport at 0x908ae310L (cipher aes128-ctr, 128 bits) (active; 1 open channel(s))>>>)"
      ]
     },
     "execution_count": 36,
     "metadata": {},
     "output_type": "execute_result"
    }
   ],
   "source": [
    "ssh.exec_command(\"rm -r f1\")"
   ]
  },
  {
   "cell_type": "code",
   "execution_count": null,
   "metadata": {
    "collapsed": true
   },
   "outputs": [],
   "source": []
  }
 ],
 "metadata": {
  "kernelspec": {
   "display_name": "Python 2",
   "language": "python",
   "name": "python2"
  },
  "language_info": {
   "codemirror_mode": {
    "name": "ipython",
    "version": 2
   },
   "file_extension": ".py",
   "mimetype": "text/x-python",
   "name": "python",
   "nbconvert_exporter": "python",
   "pygments_lexer": "ipython2",
   "version": "2.7.13"
  }
 },
 "nbformat": 4,
 "nbformat_minor": 2
}
