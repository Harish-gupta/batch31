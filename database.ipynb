{
 "cells": [
  {
   "cell_type": "code",
   "execution_count": null,
   "metadata": {
    "collapsed": true
   },
   "outputs": [],
   "source": [
    "\"\"\"\n",
    "Data base migration:\n",
    "1. migrate\n",
    "2. configure the migration.\n",
    "\"\"\"\n",
    "\"\"\"\n",
    "library management system:\n",
    "1.register\n",
    "2. login\n",
    "    a. suggest book\n",
    "    b. search for a book\n",
    "    c. Issue a book\n",
    "    d. return a book\n",
    "3.reports\n",
    "    a. how many books\n",
    "    b. how many books are issued\n",
    "    c. Total books\n",
    "    d. pending books\n",
    "    \n",
    "\"\"\"\n",
    "\"\"\"\n",
    "Medical app:\n",
    "    1.register\n",
    "    2.login\n",
    "        a. select sysmptoms and suggest medicines\n",
    "        \n",
    "        b. \n",
    "\"\"\"\n",
    "\"\"\"\n",
    "Hospitalization:\n",
    "\n",
    "\"\"\""
   ]
  },
  {
   "cell_type": "code",
   "execution_count": 1,
   "metadata": {
    "collapsed": true
   },
   "outputs": [],
   "source": [
    "import sqlite3\n",
    "con = sqlite3.connect('db1.db')"
   ]
  },
  {
   "cell_type": "code",
   "execution_count": 2,
   "metadata": {
    "collapsed": true
   },
   "outputs": [],
   "source": [
    "cur= con.cursor()\n"
   ]
  },
  {
   "cell_type": "code",
   "execution_count": 3,
   "metadata": {
    "collapsed": false
   },
   "outputs": [
    {
     "data": {
      "text/plain": [
       "<sqlite3.Cursor at 0x7fc65caafc70>"
      ]
     },
     "execution_count": 3,
     "metadata": {},
     "output_type": "execute_result"
    }
   ],
   "source": [
    "cur.execute('create table books(id int, name varchar(250))')"
   ]
  },
  {
   "cell_type": "code",
   "execution_count": 5,
   "metadata": {
    "collapsed": false
   },
   "outputs": [
    {
     "data": {
      "text/plain": [
       "<sqlite3.Cursor at 0x7fc65caafc70>"
      ]
     },
     "execution_count": 5,
     "metadata": {},
     "output_type": "execute_result"
    }
   ],
   "source": [
    "cur.execute(\"insert into books values(1,'learning python edition5')\")"
   ]
  },
  {
   "cell_type": "code",
   "execution_count": 6,
   "metadata": {
    "collapsed": true
   },
   "outputs": [],
   "source": [
    "cur.close()"
   ]
  },
  {
   "cell_type": "code",
   "execution_count": 7,
   "metadata": {
    "collapsed": true
   },
   "outputs": [],
   "source": [
    "con.close()"
   ]
  },
  {
   "cell_type": "code",
   "execution_count": 8,
   "metadata": {
    "collapsed": false
   },
   "outputs": [
    {
     "ename": "ProgrammingError",
     "evalue": "Cannot operate on a closed cursor.",
     "output_type": "error",
     "traceback": [
      "\u001b[0;31m---------------------------------------------------------------------------\u001b[0m",
      "\u001b[0;31mProgrammingError\u001b[0m                          Traceback (most recent call last)",
      "\u001b[0;32m<ipython-input-8-4463a6568551>\u001b[0m in \u001b[0;36m<module>\u001b[0;34m()\u001b[0m\n\u001b[0;32m----> 1\u001b[0;31m \u001b[0mcur\u001b[0m\u001b[0;34m.\u001b[0m\u001b[0mexecute\u001b[0m\u001b[0;34m(\u001b[0m\u001b[0;34m'create table books(id int, name varchar(250))'\u001b[0m\u001b[0;34m)\u001b[0m\u001b[0;34m\u001b[0m\u001b[0m\n\u001b[0m",
      "\u001b[0;31mProgrammingError\u001b[0m: Cannot operate on a closed cursor."
     ]
    }
   ],
   "source": [
    "cur.execute('create table books(id int, name varchar(250))')"
   ]
  },
  {
   "cell_type": "code",
   "execution_count": 10,
   "metadata": {
    "collapsed": false
   },
   "outputs": [],
   "source": [
    "import sqlite3\n",
    "con = sqlite3.connect('db1.db')\n",
    "cur=con.cursor()\n",
    "cur.execute(\"insert into books values(1,'learning python edition5')\")\n",
    "con.commit()"
   ]
  },
  {
   "cell_type": "code",
   "execution_count": 11,
   "metadata": {
    "collapsed": true
   },
   "outputs": [],
   "source": [
    "cur.close()"
   ]
  },
  {
   "cell_type": "code",
   "execution_count": 12,
   "metadata": {
    "collapsed": true
   },
   "outputs": [],
   "source": [
    "con.close()"
   ]
  },
  {
   "cell_type": "code",
   "execution_count": 13,
   "metadata": {
    "collapsed": true
   },
   "outputs": [],
   "source": [
    "import sqlite3\n",
    "con = sqlite3.connect('db1.db')\n",
    "cur=con.cursor()\n",
    "cur.execute(\"update books set name='learning python edition6' where id=1\")\n",
    "con.commit()"
   ]
  },
  {
   "cell_type": "code",
   "execution_count": 14,
   "metadata": {
    "collapsed": true
   },
   "outputs": [],
   "source": [
    "cur.execute(\"delete from books where id=1\")\n",
    "con.commit()"
   ]
  },
  {
   "cell_type": "code",
   "execution_count": 19,
   "metadata": {
    "collapsed": false
   },
   "outputs": [],
   "source": [
    "books=[{'id':1,'name':'name1'},\n",
    "       {'id':2,'name':'name2'},\n",
    "       {'id':3,'name':'name3'},\n",
    "       {'id':4,'name':'name4'},\n",
    "       {'id':5,'name':'name5'},\n",
    "      ]\n",
    "query = \"insert into books values(%s, '%s')\"%(books[0].get('id'),books[0].get('name'))\n",
    "cur.execute(query)\n",
    "con.commit()"
   ]
  },
  {
   "cell_type": "code",
   "execution_count": 17,
   "metadata": {
    "collapsed": false
   },
   "outputs": [
    {
     "name": "stdout",
     "output_type": "stream",
     "text": [
      "[1, 'name1']\n"
     ]
    }
   ],
   "source": [
    "books=[{'id':1,'name':'name1'},\n",
    "       {'id':2,'name':'name2'},\n",
    "       {'id':3,'name':'name3'},\n",
    "       {'id':4,'name':'name4'},\n",
    "       {'id':5,'name':'name5'},\n",
    "      ]\n",
    "print books[0].values()"
   ]
  },
  {
   "cell_type": "code",
   "execution_count": 20,
   "metadata": {
    "collapsed": false
   },
   "outputs": [
    {
     "name": "stdout",
     "output_type": "stream",
     "text": [
      "{'id': 2, 'name': 'name2'}\n",
      "{'id': 3, 'name': 'name3'}\n",
      "{'id': 4, 'name': 'name4'}\n",
      "{'id': 5, 'name': 'name5'}\n"
     ]
    }
   ],
   "source": [
    "books=[\n",
    "       {'id':2,'name':'name2'},\n",
    "       {'id':3,'name':'name3'},\n",
    "       {'id':4,'name':'name4'},\n",
    "       {'id':5,'name':'name5'},\n",
    "      ]\n",
    "for book in books:\n",
    "    print book"
   ]
  },
  {
   "cell_type": "code",
   "execution_count": 21,
   "metadata": {
    "collapsed": false
   },
   "outputs": [
    {
     "name": "stdout",
     "output_type": "stream",
     "text": [
      "2 name2\n",
      "3 name3\n",
      "4 name4\n",
      "5 name5\n"
     ]
    }
   ],
   "source": [
    "books=[\n",
    "       {'id':2,'name':'name2'},\n",
    "       {'id':3,'name':'name3'},\n",
    "       {'id':4,'name':'name4'},\n",
    "       {'id':5,'name':'name5'},\n",
    "      ]\n",
    "for book in books:\n",
    "    print book.get('id'),book.get('name')"
   ]
  },
  {
   "cell_type": "code",
   "execution_count": 22,
   "metadata": {
    "collapsed": true
   },
   "outputs": [],
   "source": [
    "books=[\n",
    "       {'id':2,'name':'name2'},\n",
    "       {'id':3,'name':'name3'},\n",
    "       {'id':4,'name':'name4'},\n",
    "       {'id':5,'name':'name5'},\n",
    "      ]\n",
    "for book in books:\n",
    "    query = \"insert into books values(%s, '%s')\"%(book.get('id'),book.get('name'))\n",
    "    cur.execute(query)\n",
    "con.commit()"
   ]
  },
  {
   "cell_type": "code",
   "execution_count": 24,
   "metadata": {
    "collapsed": false
   },
   "outputs": [
    {
     "name": "stdout",
     "output_type": "stream",
     "text": [
      "Enter id of the book:6\n",
      "Enter name of the book:name6\n"
     ]
    }
   ],
   "source": [
    "book_id=raw_input(\"Enter id of the book:\")\n",
    "book_name=raw_input(\"Enter name of the book:\")\n",
    "query = \"insert into books values(%s, '%s')\"%(book_id,book_name)\n",
    "cur.execute(query)\n",
    "con.commit()"
   ]
  },
  {
   "cell_type": "code",
   "execution_count": 25,
   "metadata": {
    "collapsed": true
   },
   "outputs": [],
   "source": [
    "data = cur.execute(\"select * from books\")"
   ]
  },
  {
   "cell_type": "code",
   "execution_count": 26,
   "metadata": {
    "collapsed": false
   },
   "outputs": [
    {
     "name": "stdout",
     "output_type": "stream",
     "text": [
      "<sqlite3.Cursor object at 0x7fc65c19c3b0>\n"
     ]
    }
   ],
   "source": [
    "print data"
   ]
  },
  {
   "cell_type": "code",
   "execution_count": 27,
   "metadata": {
    "collapsed": false
   },
   "outputs": [
    {
     "data": {
      "text/plain": [
       "[(1, u'name1'),\n",
       " (2, u'name2'),\n",
       " (3, u'name3'),\n",
       " (4, u'name4'),\n",
       " (5, u'name5'),\n",
       " (6, u'name6')]"
      ]
     },
     "execution_count": 27,
     "metadata": {},
     "output_type": "execute_result"
    }
   ],
   "source": [
    "cur.fetchall()"
   ]
  },
  {
   "cell_type": "code",
   "execution_count": 28,
   "metadata": {
    "collapsed": false
   },
   "outputs": [
    {
     "data": {
      "text/plain": [
       "[]"
      ]
     },
     "execution_count": 28,
     "metadata": {},
     "output_type": "execute_result"
    }
   ],
   "source": [
    "cur.fetchall()"
   ]
  },
  {
   "cell_type": "code",
   "execution_count": 29,
   "metadata": {
    "collapsed": false
   },
   "outputs": [
    {
     "name": "stdout",
     "output_type": "stream",
     "text": [
      "(1, u'name1')\n"
     ]
    }
   ],
   "source": [
    "data = cur.execute(\"select * from books\")\n",
    "print cur.fetchone()"
   ]
  },
  {
   "cell_type": "code",
   "execution_count": 30,
   "metadata": {
    "collapsed": false
   },
   "outputs": [
    {
     "data": {
      "text/plain": [
       "(2, u'name2')"
      ]
     },
     "execution_count": 30,
     "metadata": {},
     "output_type": "execute_result"
    }
   ],
   "source": [
    "cur.fetchone()"
   ]
  },
  {
   "cell_type": "code",
   "execution_count": 31,
   "metadata": {
    "collapsed": false
   },
   "outputs": [
    {
     "name": "stdout",
     "output_type": "stream",
     "text": [
      "Enter book id:1\n",
      "(1, u'name1')\n",
      "(2, u'name2')\n",
      "(3, u'name3')\n",
      "(4, u'name4')\n",
      "(5, u'name5')\n",
      "(6, u'name6')\n"
     ]
    }
   ],
   "source": [
    "book_id=raw_input(\"Enter book id:\")\n",
    "cur.execute(\"select * from books\")\n",
    "data = cur.fetchall()\n",
    "for row in data:\n",
    "    print row"
   ]
  },
  {
   "cell_type": "code",
   "execution_count": 32,
   "metadata": {
    "collapsed": false
   },
   "outputs": [
    {
     "name": "stdout",
     "output_type": "stream",
     "text": [
      "Enter book id:1\n",
      "1\n",
      "2\n",
      "3\n",
      "4\n",
      "5\n",
      "6\n"
     ]
    }
   ],
   "source": [
    "book_id=raw_input(\"Enter book id:\")\n",
    "cur.execute(\"select * from books\")\n",
    "data = cur.fetchall()\n",
    "for row in data:\n",
    "    print row[0]"
   ]
  },
  {
   "cell_type": "code",
   "execution_count": 34,
   "metadata": {
    "collapsed": false
   },
   "outputs": [
    {
     "name": "stdout",
     "output_type": "stream",
     "text": [
      "Enter book id:1\n",
      "(1, u'name1')\n"
     ]
    }
   ],
   "source": [
    "book_id=raw_input(\"Enter book id:\")\n",
    "cur.execute(\"select * from books\")\n",
    "data = cur.fetchall()\n",
    "for row in data:\n",
    "    if str(row[0])==book_id:\n",
    "        print row"
   ]
  },
  {
   "cell_type": "code",
   "execution_count": 36,
   "metadata": {
    "collapsed": false
   },
   "outputs": [
    {
     "name": "stdout",
     "output_type": "stream",
     "text": [
      "Enter book id:3\n",
      "bookinbformation:\n",
      " book_id:3, book_name:name3\n"
     ]
    }
   ],
   "source": [
    "book_id=raw_input(\"Enter book id:\")\n",
    "cur.execute(\"select * from books\")\n",
    "data = cur.fetchall()\n",
    "for row in data:\n",
    "    if str(row[0])==book_id:\n",
    "        print \"bookinbformation:\\n book_id:%s, book_name:%s\"%(row[0],row[1])"
   ]
  },
  {
   "cell_type": "code",
   "execution_count": 41,
   "metadata": {
    "collapsed": false
   },
   "outputs": [
    {
     "name": "stdout",
     "output_type": "stream",
     "text": [
      "Enter book id:3\n",
      "query= select * from books where id=3\n",
      "(3, u'name3')\n",
      "bookinbformation:\n",
      " book_id:3, book_name:name3\n"
     ]
    }
   ],
   "source": [
    "book_id=raw_input(\"Enter book id:\")\n",
    "query=\"select * from books where id=%s\"%book_id\n",
    "print \"query=\",query\n",
    "cur.execute(query)\n",
    "data = cur.fetchone()\n",
    "print data\n",
    "print \"bookinbformation:\\n book_id:%s, book_name:%s\"%(data[0],data[1])        "
   ]
  },
  {
   "cell_type": "code",
   "execution_count": 42,
   "metadata": {
    "collapsed": false
   },
   "outputs": [
    {
     "name": "stdout",
     "output_type": "stream",
     "text": [
      "Enter book id:10\n",
      "query= select * from books where id=10\n",
      "None\n"
     ]
    },
    {
     "ename": "TypeError",
     "evalue": "'NoneType' object has no attribute '__getitem__'",
     "output_type": "error",
     "traceback": [
      "\u001b[0;31m---------------------------------------------------------------------------\u001b[0m",
      "\u001b[0;31mTypeError\u001b[0m                                 Traceback (most recent call last)",
      "\u001b[0;32m<ipython-input-42-9b8064b95934>\u001b[0m in \u001b[0;36m<module>\u001b[0;34m()\u001b[0m\n\u001b[1;32m      5\u001b[0m \u001b[0mdata\u001b[0m \u001b[0;34m=\u001b[0m \u001b[0mcur\u001b[0m\u001b[0;34m.\u001b[0m\u001b[0mfetchone\u001b[0m\u001b[0;34m(\u001b[0m\u001b[0;34m)\u001b[0m\u001b[0;34m\u001b[0m\u001b[0m\n\u001b[1;32m      6\u001b[0m \u001b[0;32mprint\u001b[0m \u001b[0mdata\u001b[0m\u001b[0;34m\u001b[0m\u001b[0m\n\u001b[0;32m----> 7\u001b[0;31m \u001b[0;32mprint\u001b[0m \u001b[0;34m\"bookinbformation:\\n book_id:%s, book_name:%s\"\u001b[0m\u001b[0;34m%\u001b[0m\u001b[0;34m(\u001b[0m\u001b[0mdata\u001b[0m\u001b[0;34m[\u001b[0m\u001b[0;36m0\u001b[0m\u001b[0;34m]\u001b[0m\u001b[0;34m,\u001b[0m\u001b[0mdata\u001b[0m\u001b[0;34m[\u001b[0m\u001b[0;36m1\u001b[0m\u001b[0;34m]\u001b[0m\u001b[0;34m)\u001b[0m\u001b[0;34m\u001b[0m\u001b[0m\n\u001b[0m",
      "\u001b[0;31mTypeError\u001b[0m: 'NoneType' object has no attribute '__getitem__'"
     ]
    }
   ],
   "source": [
    "book_id=raw_input(\"Enter book id:\")\n",
    "query=\"select * from books where id=%s\"%book_id\n",
    "print \"query=\",query\n",
    "cur.execute(query)\n",
    "data = cur.fetchone()\n",
    "print data\n",
    "print \"bookinbformation:\\n book_id:%s, book_name:%s\"%(data[0],data[1])        "
   ]
  },
  {
   "cell_type": "code",
   "execution_count": 43,
   "metadata": {
    "collapsed": false
   },
   "outputs": [
    {
     "name": "stdout",
     "output_type": "stream",
     "text": [
      "Enter book id:10\n",
      "query= select * from books where id=10\n",
      "no Books found\n"
     ]
    }
   ],
   "source": [
    "book_id=raw_input(\"Enter book id:\")\n",
    "query=\"select * from books where id=%s\"%book_id\n",
    "print \"query=\",query\n",
    "cur.execute(query)\n",
    "data = cur.fetchone()\n",
    "if data:\n",
    "    print \"bookinbformation:\\n book_id:%s, book_name:%s\"%(data[0],data[1]) \n",
    "else:\n",
    "    print \"no Books found\""
   ]
  },
  {
   "cell_type": "code",
   "execution_count": null,
   "metadata": {
    "collapsed": true
   },
   "outputs": [],
   "source": []
  }
 ],
 "metadata": {
  "kernelspec": {
   "display_name": "Python 2",
   "language": "python",
   "name": "python2"
  },
  "language_info": {
   "codemirror_mode": {
    "name": "ipython",
    "version": 2
   },
   "file_extension": ".py",
   "mimetype": "text/x-python",
   "name": "python",
   "nbconvert_exporter": "python",
   "pygments_lexer": "ipython2",
   "version": "2.7.13"
  }
 },
 "nbformat": 4,
 "nbformat_minor": 2
}
