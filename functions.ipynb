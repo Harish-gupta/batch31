{
 "cells": [
  {
   "cell_type": "code",
   "execution_count": 1,
   "metadata": {
    "collapsed": false
   },
   "outputs": [
    {
     "name": "stdout",
     "output_type": "stream",
     "text": [
      "program started\n",
      "other statements in program.\n",
      "program ended.\n"
     ]
    }
   ],
   "source": [
    "print \"program started\"\n",
    "def fun():\n",
    "    print \"this is function.\"\n",
    "print \"other statements in program.\"\n",
    "print \"program ended.\"\n"
   ]
  },
  {
   "cell_type": "code",
   "execution_count": 2,
   "metadata": {
    "collapsed": false
   },
   "outputs": [
    {
     "name": "stdout",
     "output_type": "stream",
     "text": [
      "program started\n",
      "other statements in program.\n",
      "program ended.\n"
     ]
    }
   ],
   "source": [
    "print \"program started\"\n",
    "def fun():\n",
    "    a=10\n",
    "    b=20\n",
    "    print \"this is function.\"\n",
    "    \n",
    "print \"other statements in program.\"\n",
    "print \"program ended.\"\n"
   ]
  },
  {
   "cell_type": "code",
   "execution_count": 3,
   "metadata": {
    "collapsed": false
   },
   "outputs": [
    {
     "name": "stdout",
     "output_type": "stream",
     "text": [
      "program started\n",
      "other statements in program.\n"
     ]
    },
    {
     "ename": "NameError",
     "evalue": "name 'fun1' is not defined",
     "output_type": "error",
     "traceback": [
      "\u001b[0;31m---------------------------------------------------------------------------\u001b[0m",
      "\u001b[0;31mNameError\u001b[0m                                 Traceback (most recent call last)",
      "\u001b[0;32m<ipython-input-3-0ffa629fc872>\u001b[0m in \u001b[0;36m<module>\u001b[0;34m()\u001b[0m\n\u001b[1;32m      6\u001b[0m \u001b[0;34m\u001b[0m\u001b[0m\n\u001b[1;32m      7\u001b[0m \u001b[0;32mprint\u001b[0m \u001b[0;34m\"other statements in program.\"\u001b[0m\u001b[0;34m\u001b[0m\u001b[0m\n\u001b[0;32m----> 8\u001b[0;31m \u001b[0mfun1\u001b[0m\u001b[0;34m(\u001b[0m\u001b[0;34m)\u001b[0m\u001b[0;34m\u001b[0m\u001b[0m\n\u001b[0m\u001b[1;32m      9\u001b[0m \u001b[0;32mprint\u001b[0m \u001b[0;34m\"program ended.\"\u001b[0m\u001b[0;34m\u001b[0m\u001b[0m\n",
      "\u001b[0;31mNameError\u001b[0m: name 'fun1' is not defined"
     ]
    }
   ],
   "source": [
    "print \"program started\"\n",
    "def fun():\n",
    "    a=10\n",
    "    b=20\n",
    "    print \"this is function.\"\n",
    "    \n",
    "print \"other statements in program.\"\n",
    "fun1()\n",
    "print \"program ended.\"\n"
   ]
  },
  {
   "cell_type": "code",
   "execution_count": 4,
   "metadata": {
    "collapsed": false
   },
   "outputs": [
    {
     "name": "stdout",
     "output_type": "stream",
     "text": [
      "program started\n",
      "other statements in program.\n",
      "this is function.\n",
      "program ended.\n"
     ]
    }
   ],
   "source": [
    "print \"program started\"\n",
    "def fun():\n",
    "    a=10\n",
    "    b=20\n",
    "    print \"this is function.\"\n",
    "    \n",
    "print \"other statements in program.\"\n",
    "fun()\n",
    "print \"program ended.\"\n"
   ]
  },
  {
   "cell_type": "code",
   "execution_count": 5,
   "metadata": {
    "collapsed": false
   },
   "outputs": [
    {
     "name": "stdout",
     "output_type": "stream",
     "text": [
      "program started\n",
      "other statements in program.\n",
      "this is function.\n",
      "program ended.\n",
      "this is fun1\n"
     ]
    }
   ],
   "source": [
    "print \"program started\"\n",
    "def fun():\n",
    "    a=10\n",
    "    b=20\n",
    "    print \"this is function.\"\n",
    "    \n",
    "def fun1():\n",
    "    c=1000\n",
    "    d=2000\n",
    "    c=10\n",
    "    print \"this is fun1\"\n",
    "    \n",
    "print \"other statements in program.\"\n",
    "fun()\n",
    "print \"program ended.\"\n",
    "fun1()"
   ]
  },
  {
   "cell_type": "code",
   "execution_count": 6,
   "metadata": {
    "collapsed": false
   },
   "outputs": [
    {
     "name": "stdout",
     "output_type": "stream",
     "text": [
      "program started\n",
      "other statements in program.\n",
      "<function fun at 0x7f78281d8230>\n",
      "program ended.\n"
     ]
    }
   ],
   "source": [
    "print \"program started\"\n",
    "def fun():\n",
    "    a=10\n",
    "    b=20\n",
    "    print \"this is function.\"    \n",
    "print \"other statements in program.\"\n",
    "print fun\n",
    "print \"program ended.\""
   ]
  },
  {
   "cell_type": "code",
   "execution_count": 7,
   "metadata": {
    "collapsed": false
   },
   "outputs": [
    {
     "name": "stdout",
     "output_type": "stream",
     "text": [
      "program started\n",
      "other statements in program.\n",
      "<function fun at 0x7f78281d8500>\n",
      "140154045826304\n",
      "program ended.\n"
     ]
    }
   ],
   "source": [
    "print \"program started\"\n",
    "def fun():\n",
    "    a=10\n",
    "    b=20\n",
    "    print \"this is function.\"    \n",
    "print \"other statements in program.\"\n",
    "print fun\n",
    "print id(fun)\n",
    "print \"program ended.\""
   ]
  },
  {
   "cell_type": "code",
   "execution_count": 8,
   "metadata": {
    "collapsed": false
   },
   "outputs": [
    {
     "name": "stdout",
     "output_type": "stream",
     "text": [
      "program started\n",
      "other statements in program.\n",
      "<function fun at 0x7f78281d8230>\n",
      "140154045825584\n",
      "<function fun at 0x7f78281d8230>\n",
      "140154045825584\n",
      "program ended.\n"
     ]
    }
   ],
   "source": [
    "print \"program started\"\n",
    "def fun():\n",
    "    a=10\n",
    "    b=20\n",
    "    print \"this is function.\"    \n",
    "print \"other statements in program.\"\n",
    "print fun\n",
    "print id(fun)\n",
    "a=fun\n",
    "print a\n",
    "print id(a)\n",
    "print \"program ended.\""
   ]
  },
  {
   "cell_type": "code",
   "execution_count": 9,
   "metadata": {
    "collapsed": false
   },
   "outputs": [
    {
     "name": "stdout",
     "output_type": "stream",
     "text": [
      "10\n"
     ]
    }
   ],
   "source": [
    "a=10\n",
    "b=a\n",
    "print b"
   ]
  },
  {
   "cell_type": "code",
   "execution_count": 10,
   "metadata": {
    "collapsed": false
   },
   "outputs": [
    {
     "name": "stdout",
     "output_type": "stream",
     "text": [
      "program started\n",
      "other statements in program.\n",
      "<function fun at 0x7f78281d8500>\n",
      "140154045826304\n",
      "<function fun at 0x7f78281d8500>\n",
      "140154045826304\n",
      "this is function.\n",
      "this is function.\n",
      "program ended.\n"
     ]
    }
   ],
   "source": [
    "print \"program started\"\n",
    "def fun():\n",
    "    a=10\n",
    "    b=20\n",
    "    print \"this is function.\"    \n",
    "print \"other statements in program.\"\n",
    "print fun\n",
    "print id(fun)\n",
    "a=fun\n",
    "print a\n",
    "print id(a)\n",
    "fun()\n",
    "a()\n",
    "print \"program ended.\""
   ]
  },
  {
   "cell_type": "code",
   "execution_count": 11,
   "metadata": {
    "collapsed": false
   },
   "outputs": [
    {
     "name": "stdout",
     "output_type": "stream",
     "text": [
      "st1\n",
      "st2\n",
      "st3\n",
      "a= <function fun at 0x7f78281d8230>\n"
     ]
    }
   ],
   "source": [
    "def fun():\n",
    "    print \"st1\"\n",
    "    print \"st2\"\n",
    "    print \"st3\"\n",
    "a=fun\n",
    "fun()\n",
    "print \"a=\",a"
   ]
  },
  {
   "cell_type": "code",
   "execution_count": 13,
   "metadata": {
    "collapsed": false
   },
   "outputs": [
    {
     "name": "stdout",
     "output_type": "stream",
     "text": [
      "st1\n",
      "st2\n",
      "st3\n",
      "a= <function fun at 0x7f78281d8398>\n",
      "b= None\n"
     ]
    }
   ],
   "source": [
    "def fun():\n",
    "    print \"st1\"\n",
    "    print \"st2\"\n",
    "    print \"st3\"\n",
    "    c=100\n",
    "    e=400\n",
    "    f=c+e\n",
    "a=fun\n",
    "b=fun()\n",
    "print \"a=\",a\n",
    "print \"b=\",b"
   ]
  },
  {
   "cell_type": "code",
   "execution_count": 14,
   "metadata": {
    "collapsed": false
   },
   "outputs": [
    {
     "name": "stdout",
     "output_type": "stream",
     "text": [
      "st1\n",
      "st2\n",
      "st3\n",
      "a= <function fun at 0x7f7828157f50>\n",
      "b= None\n",
      "f="
     ]
    },
    {
     "ename": "NameError",
     "evalue": "name 'f' is not defined",
     "output_type": "error",
     "traceback": [
      "\u001b[0;31m---------------------------------------------------------------------------\u001b[0m",
      "\u001b[0;31mNameError\u001b[0m                                 Traceback (most recent call last)",
      "\u001b[0;32m<ipython-input-14-bbcc573dbb79>\u001b[0m in \u001b[0;36m<module>\u001b[0;34m()\u001b[0m\n\u001b[1;32m     10\u001b[0m \u001b[0;32mprint\u001b[0m \u001b[0;34m\"a=\"\u001b[0m\u001b[0;34m,\u001b[0m\u001b[0ma\u001b[0m\u001b[0;34m\u001b[0m\u001b[0m\n\u001b[1;32m     11\u001b[0m \u001b[0;32mprint\u001b[0m \u001b[0;34m\"b=\"\u001b[0m\u001b[0;34m,\u001b[0m\u001b[0mb\u001b[0m\u001b[0;34m\u001b[0m\u001b[0m\n\u001b[0;32m---> 12\u001b[0;31m \u001b[0;32mprint\u001b[0m \u001b[0;34m\"f=\"\u001b[0m\u001b[0;34m,\u001b[0m\u001b[0mf\u001b[0m\u001b[0;34m\u001b[0m\u001b[0m\n\u001b[0m",
      "\u001b[0;31mNameError\u001b[0m: name 'f' is not defined"
     ]
    }
   ],
   "source": [
    "def fun():\n",
    "    print \"st1\"\n",
    "    print \"st2\"\n",
    "    print \"st3\"\n",
    "    c=100\n",
    "    e=400\n",
    "    f=c+e\n",
    "a=fun\n",
    "b=fun()\n",
    "print \"a=\",a\n",
    "print \"b=\",b\n",
    "print \"f=\",f"
   ]
  },
  {
   "cell_type": "code",
   "execution_count": 18,
   "metadata": {
    "collapsed": false
   },
   "outputs": [
    {
     "name": "stdout",
     "output_type": "stream",
     "text": [
      "a= 10000\n",
      "1000\n",
      "\n"
     ]
    }
   ],
   "source": [
    "a=1000\n",
    "def fun():\n",
    "    a12 = 100\n",
    "    b12 = 200\n",
    "    \n",
    "    c12=a12+b12\n",
    "    a=10000\n",
    "    print \"a=\",a\n",
    "fun()\n",
    "print a\n",
    "print c12"
   ]
  },
  {
   "cell_type": "code",
   "execution_count": 19,
   "metadata": {
    "collapsed": false
   },
   "outputs": [
    {
     "name": "stdout",
     "output_type": "stream",
     "text": [
      "a inside function:  10000\n",
      "a out side funtion: 1000\n",
      "\n"
     ]
    }
   ],
   "source": [
    "a=1000\n",
    "c12=\"\"\n",
    "def fun():\n",
    "    a12 = 100\n",
    "    b12 = 200\n",
    "    \n",
    "    c12=a12+b12\n",
    "    a=10000\n",
    "    print \"a inside function: \",a\n",
    "fun()\n",
    "print \"a out side funtion:\",a\n",
    "print c12"
   ]
  },
  {
   "cell_type": "code",
   "execution_count": 20,
   "metadata": {
    "collapsed": false
   },
   "outputs": [
    {
     "name": "stdout",
     "output_type": "stream",
     "text": [
      "a inside function:  10000\n"
     ]
    },
    {
     "ename": "AttributeError",
     "evalue": "'function' object has no attribute 'c12'",
     "output_type": "error",
     "traceback": [
      "\u001b[0;31m---------------------------------------------------------------------------\u001b[0m",
      "\u001b[0;31mAttributeError\u001b[0m                            Traceback (most recent call last)",
      "\u001b[0;32m<ipython-input-20-0584c2d8346d>\u001b[0m in \u001b[0;36m<module>\u001b[0;34m()\u001b[0m\n\u001b[1;32m      9\u001b[0m     \u001b[0;32mprint\u001b[0m \u001b[0;34m\"a inside function: \"\u001b[0m\u001b[0;34m,\u001b[0m\u001b[0ma\u001b[0m\u001b[0;34m\u001b[0m\u001b[0m\n\u001b[1;32m     10\u001b[0m \u001b[0mfun\u001b[0m\u001b[0;34m(\u001b[0m\u001b[0;34m)\u001b[0m\u001b[0;34m\u001b[0m\u001b[0m\n\u001b[0;32m---> 11\u001b[0;31m \u001b[0;32mprint\u001b[0m \u001b[0mfun\u001b[0m\u001b[0;34m.\u001b[0m\u001b[0mc12\u001b[0m\u001b[0;34m\u001b[0m\u001b[0m\n\u001b[0m\u001b[1;32m     12\u001b[0m \u001b[0;32mprint\u001b[0m \u001b[0;34m\"a out side funtion:\"\u001b[0m\u001b[0;34m,\u001b[0m\u001b[0ma\u001b[0m\u001b[0;34m\u001b[0m\u001b[0m\n\u001b[1;32m     13\u001b[0m \u001b[0;32mprint\u001b[0m \u001b[0mc12\u001b[0m\u001b[0;34m\u001b[0m\u001b[0m\n",
      "\u001b[0;31mAttributeError\u001b[0m: 'function' object has no attribute 'c12'"
     ]
    }
   ],
   "source": [
    "a=1000\n",
    "c12=\"\"\n",
    "def fun():\n",
    "    a12 = 100\n",
    "    b12 = 200\n",
    "    \n",
    "    c12=a12+b12\n",
    "    a=10000\n",
    "    print \"a inside function: \",a\n",
    "fun()\n",
    "print fun.c12\n",
    "print \"a out side funtion:\",a\n",
    "print c12"
   ]
  },
  {
   "cell_type": "code",
   "execution_count": 21,
   "metadata": {
    "collapsed": false
   },
   "outputs": [
    {
     "name": "stdout",
     "output_type": "stream",
     "text": [
      "a inside function:  10000\n",
      "result= None\n",
      "a out side funtion: 1000\n",
      "\n"
     ]
    }
   ],
   "source": [
    "a=1000\n",
    "c12=\"\"\n",
    "def fun():\n",
    "    a12 = 100\n",
    "    b12 = 200\n",
    "    \n",
    "    c12=a12+b12\n",
    "    a=10000\n",
    "    print \"a inside function: \",a\n",
    "res = fun()\n",
    "print \"result=\",res\n",
    "print \"a out side funtion:\",a\n",
    "print c12"
   ]
  },
  {
   "cell_type": "code",
   "execution_count": 22,
   "metadata": {
    "collapsed": false
   },
   "outputs": [
    {
     "name": "stdout",
     "output_type": "stream",
     "text": [
      "a inside function:  10000\n",
      "result= 300\n",
      "a out side funtion: 1000\n",
      "\n"
     ]
    }
   ],
   "source": [
    "a=1000\n",
    "c12=\"\"\n",
    "def fun():\n",
    "    a12 = 100\n",
    "    b12 = 200\n",
    "    \n",
    "    c12=a12+b12\n",
    "    a=10000\n",
    "    print \"a inside function: \",a\n",
    "    return c12\n",
    "res = fun()\n",
    "print \"result=\",res\n",
    "print \"a out side funtion:\",a\n",
    "print c12"
   ]
  },
  {
   "cell_type": "code",
   "execution_count": 23,
   "metadata": {
    "collapsed": false
   },
   "outputs": [
    {
     "name": "stdout",
     "output_type": "stream",
     "text": [
      "a inside function:  10000\n",
      "result= (300, 300)\n",
      "a out side funtion: 1000\n",
      "\n"
     ]
    }
   ],
   "source": [
    "a=1000\n",
    "c12=\"\"\n",
    "def fun():\n",
    "    a12 = 100\n",
    "    b12 = 200\n",
    "    \n",
    "    c12=a12+b12\n",
    "    a=10000\n",
    "    print \"a inside function: \",a\n",
    "    return c12,300\n",
    "res = fun()\n",
    "print \"result=\",res\n",
    "print \"a out side funtion:\",a\n",
    "print c12"
   ]
  },
  {
   "cell_type": "code",
   "execution_count": 24,
   "metadata": {
    "collapsed": false
   },
   "outputs": [
    {
     "name": "stdout",
     "output_type": "stream",
     "text": [
      "a inside function:  10000\n",
      "result= (300, 300)\n",
      "a out side funtion: 1000\n",
      "\n"
     ]
    }
   ],
   "source": [
    "a=1000\n",
    "c12=\"\"\n",
    "def fun():\n",
    "    a12 = 100\n",
    "    b12 = 200\n",
    "    \n",
    "    c12=a12+b12\n",
    "    a=10000\n",
    "    print \"a inside function: \",a\n",
    "    return c12,300\n",
    "    print \"statements after return statements.\" \n",
    "res = fun()\n",
    "print \"result=\",res\n",
    "print \"a out side funtion:\",a\n",
    "print c12"
   ]
  },
  {
   "cell_type": "code",
   "execution_count": 25,
   "metadata": {
    "collapsed": false
   },
   "outputs": [
    {
     "name": "stdout",
     "output_type": "stream",
     "text": [
      "a=10, b=20\n",
      "d= None\n"
     ]
    }
   ],
   "source": [
    "def fun(a,b):\n",
    "    print \"a=%s, b=%s\"%(a,b)\n",
    "    c=a+b\n",
    "d=fun(10,20)\n",
    "print \"d=\",d"
   ]
  },
  {
   "cell_type": "code",
   "execution_count": 26,
   "metadata": {
    "collapsed": false
   },
   "outputs": [
    {
     "name": "stdout",
     "output_type": "stream",
     "text": [
      "a=10, b=20\n",
      "d= 30\n"
     ]
    }
   ],
   "source": [
    "def fun(a,b):\n",
    "    print \"a=%s, b=%s\"%(a,b)\n",
    "    c=a+b\n",
    "    return c\n",
    "d=fun(10,20)\n",
    "print \"d=\",d"
   ]
  },
  {
   "cell_type": "code",
   "execution_count": 27,
   "metadata": {
    "collapsed": false
   },
   "outputs": [
    {
     "name": "stdout",
     "output_type": "stream",
     "text": [
      "a=10, b=20\n",
      "30\n",
      "d= None\n"
     ]
    }
   ],
   "source": [
    "def fun(a,b):\n",
    "    print \"a=%s, b=%s\"%(a,b)\n",
    "    c=a+b\n",
    "    print c\n",
    "d=fun(10,20)\n",
    "print \"d=\",d"
   ]
  },
  {
   "cell_type": "code",
   "execution_count": 28,
   "metadata": {
    "collapsed": false
   },
   "outputs": [
    {
     "name": "stdout",
     "output_type": "stream",
     "text": [
      "30\n"
     ]
    },
    {
     "ename": "TypeError",
     "evalue": "add() takes exactly 2 arguments (1 given)",
     "output_type": "error",
     "traceback": [
      "\u001b[0;31m---------------------------------------------------------------------------\u001b[0m",
      "\u001b[0;31mTypeError\u001b[0m                                 Traceback (most recent call last)",
      "\u001b[0;32m<ipython-input-28-32ef30f972ec>\u001b[0m in \u001b[0;36m<module>\u001b[0;34m()\u001b[0m\n\u001b[1;32m      2\u001b[0m     \u001b[0;32mreturn\u001b[0m \u001b[0ma\u001b[0m\u001b[0;34m+\u001b[0m\u001b[0mb\u001b[0m\u001b[0;34m\u001b[0m\u001b[0m\n\u001b[1;32m      3\u001b[0m \u001b[0;32mprint\u001b[0m \u001b[0madd\u001b[0m\u001b[0;34m(\u001b[0m\u001b[0;36m10\u001b[0m\u001b[0;34m,\u001b[0m\u001b[0;36m20\u001b[0m\u001b[0;34m)\u001b[0m\u001b[0;34m\u001b[0m\u001b[0m\n\u001b[0;32m----> 4\u001b[0;31m \u001b[0;32mprint\u001b[0m \u001b[0madd\u001b[0m\u001b[0;34m(\u001b[0m\u001b[0;36m10\u001b[0m\u001b[0;34m)\u001b[0m\u001b[0;34m\u001b[0m\u001b[0m\n\u001b[0m\u001b[1;32m      5\u001b[0m \u001b[0;32mprint\u001b[0m \u001b[0madd\u001b[0m\u001b[0;34m(\u001b[0m\u001b[0;36m10\u001b[0m\u001b[0;34m,\u001b[0m\u001b[0;36m20\u001b[0m\u001b[0;34m,\u001b[0m\u001b[0;36m30\u001b[0m\u001b[0;34m)\u001b[0m\u001b[0;34m\u001b[0m\u001b[0m\n",
      "\u001b[0;31mTypeError\u001b[0m: add() takes exactly 2 arguments (1 given)"
     ]
    }
   ],
   "source": [
    "def add(a,b):\n",
    "    return a+b\n",
    "print add(10,20)\n",
    "print add(10)\n",
    "print add(10,20,30)"
   ]
  },
  {
   "cell_type": "code",
   "execution_count": 29,
   "metadata": {
    "collapsed": false
   },
   "outputs": [
    {
     "name": "stdout",
     "output_type": "stream",
     "text": [
      "30\n"
     ]
    },
    {
     "ename": "TypeError",
     "evalue": "add() takes exactly 2 arguments (3 given)",
     "output_type": "error",
     "traceback": [
      "\u001b[0;31m---------------------------------------------------------------------------\u001b[0m",
      "\u001b[0;31mTypeError\u001b[0m                                 Traceback (most recent call last)",
      "\u001b[0;32m<ipython-input-29-02a6c00d6b8b>\u001b[0m in \u001b[0;36m<module>\u001b[0;34m()\u001b[0m\n\u001b[1;32m      3\u001b[0m \u001b[0;32mprint\u001b[0m \u001b[0madd\u001b[0m\u001b[0;34m(\u001b[0m\u001b[0;36m10\u001b[0m\u001b[0;34m,\u001b[0m\u001b[0;36m20\u001b[0m\u001b[0;34m)\u001b[0m\u001b[0;34m\u001b[0m\u001b[0m\n\u001b[1;32m      4\u001b[0m \u001b[0;31m#print add(10)\u001b[0m\u001b[0;34m\u001b[0m\u001b[0;34m\u001b[0m\u001b[0m\n\u001b[0;32m----> 5\u001b[0;31m \u001b[0;32mprint\u001b[0m \u001b[0madd\u001b[0m\u001b[0;34m(\u001b[0m\u001b[0;36m10\u001b[0m\u001b[0;34m,\u001b[0m\u001b[0;36m20\u001b[0m\u001b[0;34m,\u001b[0m\u001b[0;36m30\u001b[0m\u001b[0;34m)\u001b[0m\u001b[0;34m\u001b[0m\u001b[0m\n\u001b[0m",
      "\u001b[0;31mTypeError\u001b[0m: add() takes exactly 2 arguments (3 given)"
     ]
    }
   ],
   "source": [
    "def add(a,b):\n",
    "    return a+b\n",
    "print add(10,20)\n",
    "#print add(10)\n",
    "print add(10,20,30)"
   ]
  },
  {
   "cell_type": "code",
   "execution_count": 30,
   "metadata": {
    "collapsed": false
   },
   "outputs": [
    {
     "data": {
      "text/plain": [
       "[0, 1, 2, 3, 4, 5, 6, 7, 8, 9]"
      ]
     },
     "execution_count": 30,
     "metadata": {},
     "output_type": "execute_result"
    }
   ],
   "source": [
    "range(10)"
   ]
  },
  {
   "cell_type": "code",
   "execution_count": 31,
   "metadata": {
    "collapsed": false
   },
   "outputs": [
    {
     "ename": "TypeError",
     "evalue": "add() takes exactly 4 arguments (2 given)",
     "output_type": "error",
     "traceback": [
      "\u001b[0;31m---------------------------------------------------------------------------\u001b[0m",
      "\u001b[0;31mTypeError\u001b[0m                                 Traceback (most recent call last)",
      "\u001b[0;32m<ipython-input-31-6bc4aafc0d41>\u001b[0m in \u001b[0;36m<module>\u001b[0;34m()\u001b[0m\n\u001b[1;32m      6\u001b[0m     \u001b[0;32mprint\u001b[0m \u001b[0;34m\"a=%s, b=%s, c=%s, d=%s\"\u001b[0m \u001b[0;34m%\u001b[0m \u001b[0;34m(\u001b[0m\u001b[0ma\u001b[0m\u001b[0;34m,\u001b[0m\u001b[0mb\u001b[0m\u001b[0;34m,\u001b[0m\u001b[0mc\u001b[0m\u001b[0;34m,\u001b[0m\u001b[0md\u001b[0m\u001b[0;34m)\u001b[0m\u001b[0;34m\u001b[0m\u001b[0m\n\u001b[1;32m      7\u001b[0m \u001b[0;34m\u001b[0m\u001b[0m\n\u001b[0;32m----> 8\u001b[0;31m \u001b[0;32mprint\u001b[0m \u001b[0madd\u001b[0m\u001b[0;34m(\u001b[0m\u001b[0;36m10\u001b[0m\u001b[0;34m,\u001b[0m\u001b[0;36m20\u001b[0m\u001b[0;34m)\u001b[0m\u001b[0;34m\u001b[0m\u001b[0m\n\u001b[0m\u001b[1;32m      9\u001b[0m \u001b[0;32mprint\u001b[0m \u001b[0madd\u001b[0m\u001b[0;34m(\u001b[0m\u001b[0;36m10\u001b[0m\u001b[0;34m,\u001b[0m\u001b[0;36m20\u001b[0m\u001b[0;34m,\u001b[0m\u001b[0;36m30\u001b[0m\u001b[0;34m)\u001b[0m\u001b[0;34m\u001b[0m\u001b[0m\n\u001b[1;32m     10\u001b[0m \u001b[0;32mprint\u001b[0m \u001b[0madd\u001b[0m\u001b[0;34m(\u001b[0m\u001b[0;36m10\u001b[0m\u001b[0;34m,\u001b[0m\u001b[0;36m20\u001b[0m\u001b[0;34m,\u001b[0m\u001b[0;36m30\u001b[0m\u001b[0;34m,\u001b[0m\u001b[0;36m40\u001b[0m\u001b[0;34m)\u001b[0m\u001b[0;34m\u001b[0m\u001b[0m\n",
      "\u001b[0;31mTypeError\u001b[0m: add() takes exactly 4 arguments (2 given)"
     ]
    }
   ],
   "source": [
    "def add(a,b):\n",
    "    print \"a=%s, b=%s\" % (a,b)\n",
    "def add(a,b,c):\n",
    "    print \"a=%s, b=%s, c=%s\" % (a,b,c)\n",
    "def add(a,b,c,d):\n",
    "    print \"a=%s, b=%s, c=%s, d=%s\" % (a,b,c,d)\n",
    "    \n",
    "print add(10,20)\n",
    "print add(10,20,30)\n",
    "print add(10,20,30,40)\n"
   ]
  },
  {
   "cell_type": "code",
   "execution_count": 32,
   "metadata": {
    "collapsed": false
   },
   "outputs": [
    {
     "name": "stdout",
     "output_type": "stream",
     "text": [
      "30\n"
     ]
    }
   ],
   "source": [
    "a=10\n",
    "a=20\n",
    "a=30\n",
    "print a"
   ]
  },
  {
   "cell_type": "code",
   "execution_count": 33,
   "metadata": {
    "collapsed": false
   },
   "outputs": [
    {
     "name": "stdout",
     "output_type": "stream",
     "text": [
      "a=10, b=20\n",
      "None\n",
      "a=10, b=20, c=30\n",
      "None\n",
      "a=10, b=20, c=30, d=40\n",
      "None\n"
     ]
    }
   ],
   "source": [
    "def add2(a,b):\n",
    "    print \"a=%s, b=%s\" % (a,b)\n",
    "def add3(a,b,c):\n",
    "    print \"a=%s, b=%s, c=%s\" % (a,b,c)\n",
    "def add4(a,b,c,d):\n",
    "    print \"a=%s, b=%s, c=%s, d=%s\" % (a,b,c,d)\n",
    "    \n",
    "print add2(10,20)\n",
    "print add3(10,20,30)\n",
    "print add4(10,20,30,40)\n"
   ]
  },
  {
   "cell_type": "code",
   "execution_count": 34,
   "metadata": {
    "collapsed": false
   },
   "outputs": [
    {
     "ename": "TypeError",
     "evalue": "add() takes exactly 1 argument (2 given)",
     "output_type": "error",
     "traceback": [
      "\u001b[0;31m---------------------------------------------------------------------------\u001b[0m",
      "\u001b[0;31mTypeError\u001b[0m                                 Traceback (most recent call last)",
      "\u001b[0;32m<ipython-input-34-fa7e7d17d2b7>\u001b[0m in \u001b[0;36m<module>\u001b[0;34m()\u001b[0m\n\u001b[1;32m      1\u001b[0m \u001b[0;32mdef\u001b[0m \u001b[0madd\u001b[0m\u001b[0;34m(\u001b[0m\u001b[0ma\u001b[0m\u001b[0;34m)\u001b[0m\u001b[0;34m:\u001b[0m\u001b[0;34m\u001b[0m\u001b[0m\n\u001b[1;32m      2\u001b[0m     \u001b[0;32mreturn\u001b[0m \u001b[0msum\u001b[0m\u001b[0;34m(\u001b[0m\u001b[0ma\u001b[0m\u001b[0;34m)\u001b[0m\u001b[0;34m\u001b[0m\u001b[0m\n\u001b[0;32m----> 3\u001b[0;31m \u001b[0;32mprint\u001b[0m \u001b[0madd\u001b[0m\u001b[0;34m(\u001b[0m\u001b[0;34m[\u001b[0m\u001b[0;36m1\u001b[0m\u001b[0;34m,\u001b[0m\u001b[0;36m2\u001b[0m\u001b[0;34m,\u001b[0m\u001b[0;36m3\u001b[0m\u001b[0;34m,\u001b[0m\u001b[0;36m4\u001b[0m\u001b[0;34m]\u001b[0m\u001b[0;34m,\u001b[0m\u001b[0;34m[\u001b[0m\u001b[0;36m5\u001b[0m\u001b[0;34m,\u001b[0m\u001b[0;36m6\u001b[0m\u001b[0;34m,\u001b[0m\u001b[0;36m7\u001b[0m\u001b[0;34m,\u001b[0m\u001b[0;36m8\u001b[0m\u001b[0;34m]\u001b[0m\u001b[0;34m)\u001b[0m\u001b[0;34m\u001b[0m\u001b[0m\n\u001b[0m\u001b[1;32m      4\u001b[0m \u001b[0;34m\u001b[0m\u001b[0m\n",
      "\u001b[0;31mTypeError\u001b[0m: add() takes exactly 1 argument (2 given)"
     ]
    }
   ],
   "source": [
    "def add(a):\n",
    "    return sum(a)\n",
    "print add([1,2,3,4],[5,6,7,8])\n",
    "    "
   ]
  },
  {
   "cell_type": "code",
   "execution_count": 35,
   "metadata": {
    "collapsed": false
   },
   "outputs": [
    {
     "name": "stdout",
     "output_type": "stream",
     "text": [
      "a=0, b=10\n",
      "None\n",
      "a=1, b=11\n",
      "None\n",
      "a=2, b=12\n",
      "None\n",
      "a=3, b=13\n",
      "None\n",
      "a=4, b=14\n",
      "None\n",
      "a=5, b=15\n",
      "None\n",
      "a=6, b=16\n",
      "None\n",
      "a=7, b=17\n",
      "None\n",
      "a=8, b=18\n",
      "None\n",
      "a=9, b=19\n",
      "None\n"
     ]
    }
   ],
   "source": [
    "def add2(a,b):\n",
    "    print \"a=%s, b=%s\" % (a,b)\n",
    "for i in range(10):\n",
    "    print add2(i,i+10)"
   ]
  },
  {
   "cell_type": "code",
   "execution_count": 36,
   "metadata": {
    "collapsed": false
   },
   "outputs": [
    {
     "ename": "TypeError",
     "evalue": "add2() takes exactly 2 arguments (3 given)",
     "output_type": "error",
     "traceback": [
      "\u001b[0;31m---------------------------------------------------------------------------\u001b[0m",
      "\u001b[0;31mTypeError\u001b[0m                                 Traceback (most recent call last)",
      "\u001b[0;32m<ipython-input-36-076fe576aa50>\u001b[0m in \u001b[0;36m<module>\u001b[0;34m()\u001b[0m\n\u001b[1;32m      2\u001b[0m     \u001b[0;32mprint\u001b[0m \u001b[0;34m\"a=%s, b=%s\"\u001b[0m \u001b[0;34m%\u001b[0m \u001b[0;34m(\u001b[0m\u001b[0ma\u001b[0m\u001b[0;34m,\u001b[0m\u001b[0mb\u001b[0m\u001b[0;34m)\u001b[0m\u001b[0;34m\u001b[0m\u001b[0m\n\u001b[1;32m      3\u001b[0m \u001b[0;32mfor\u001b[0m \u001b[0mi\u001b[0m \u001b[0;32min\u001b[0m \u001b[0mrange\u001b[0m\u001b[0;34m(\u001b[0m\u001b[0;36m10\u001b[0m\u001b[0;34m)\u001b[0m\u001b[0;34m:\u001b[0m\u001b[0;34m\u001b[0m\u001b[0m\n\u001b[0;32m----> 4\u001b[0;31m     \u001b[0;32mprint\u001b[0m \u001b[0madd2\u001b[0m\u001b[0;34m(\u001b[0m\u001b[0mi\u001b[0m\u001b[0;34m,\u001b[0m\u001b[0mi\u001b[0m\u001b[0;34m+\u001b[0m\u001b[0;36m10\u001b[0m\u001b[0;34m,\u001b[0m\u001b[0mi\u001b[0m\u001b[0;34m+\u001b[0m\u001b[0;36m20\u001b[0m\u001b[0;34m)\u001b[0m\u001b[0;34m\u001b[0m\u001b[0m\n\u001b[0m",
      "\u001b[0;31mTypeError\u001b[0m: add2() takes exactly 2 arguments (3 given)"
     ]
    }
   ],
   "source": [
    "def add2(a,b):\n",
    "    print \"a=%s, b=%s\" % (a,b)\n",
    "for i in range(10):\n",
    "    print add2(i,i+10,i+20)"
   ]
  },
  {
   "cell_type": "code",
   "execution_count": 38,
   "metadata": {
    "collapsed": false
   },
   "outputs": [
    {
     "name": "stdout",
     "output_type": "stream",
     "text": [
      "a=10, b=0, c=0, d=0, e=0\n",
      "10\n",
      "a=10, b=20, c=0, d=0, e=0\n",
      "30\n",
      "a=10, b=20, c=30, d=0, e=0\n",
      "60\n",
      "a=10, b=20, c=30, d=40, e=0\n",
      "100\n",
      "a=10, b=20, c=30, d=40, e=50\n",
      "150\n"
     ]
    }
   ],
   "source": [
    "def add(a,b=0,c=0,d=0,e=0):\n",
    "    print \"a=%s, b=%s, c=%s, d=%s, e=%s\"%(a,b,c,d,e)\n",
    "    return a+b+c+d+e\n",
    "def mul(a,b=1,c=1,d=1,e=1):\n",
    "    print \"a=%s, b=%s, c=%s, d=%s, e=%s\"%(a,b,c,d,e)\n",
    "    return a*b*c*d*e\n",
    "print add(10)\n",
    "print add(10,20)\n",
    "print add(10,20,30)\n",
    "print add(10,20,30,40)\n",
    "print add(10,20,30,40,50)"
   ]
  },
  {
   "cell_type": "code",
   "execution_count": 39,
   "metadata": {
    "collapsed": true
   },
   "outputs": [],
   "source": [
    "import pandas as pd\n",
    "pd.read_csv?"
   ]
  },
  {
   "cell_type": "code",
   "execution_count": 40,
   "metadata": {
    "collapsed": false
   },
   "outputs": [
    {
     "name": "stdout",
     "output_type": "stream",
     "text": [
      "a=100, b=300, c=0, d=0, e=0\n",
      "400\n"
     ]
    }
   ],
   "source": [
    "def add(a,b=0,c=0,d=0,e=0):\n",
    "    print \"a=%s, b=%s, c=%s, d=%s, e=%s\"%(a,b,c,d,e)\n",
    "    return a+b+c+d+e\n",
    "def mul(a,b=1,c=1,d=1,e=1):\n",
    "    print \"a=%s, b=%s, c=%s, d=%s, e=%s\"%(a,b,c,d,e)\n",
    "    return a*b*c*d*e\n",
    "#100,3000\n",
    "print add(100,300)"
   ]
  },
  {
   "cell_type": "code",
   "execution_count": 41,
   "metadata": {
    "collapsed": false
   },
   "outputs": [
    {
     "name": "stdout",
     "output_type": "stream",
     "text": [
      "a=100, b=0, c=300, d=0, e=0\n",
      "400\n"
     ]
    }
   ],
   "source": [
    "def add(a,b=0,c=0,d=0,e=0):\n",
    "    print \"a=%s, b=%s, c=%s, d=%s, e=%s\"%(a,b,c,d,e)\n",
    "    return a+b+c+d+e\n",
    "def mul(a,b=1,c=1,d=1,e=1):\n",
    "    print \"a=%s, b=%s, c=%s, d=%s, e=%s\"%(a,b,c,d,e)\n",
    "    return a*b*c*d*e\n",
    "#100,3000\n",
    "print add(100,0,300)"
   ]
  },
  {
   "cell_type": "code",
   "execution_count": 42,
   "metadata": {
    "collapsed": true
   },
   "outputs": [],
   "source": [
    "pd.read_csv?"
   ]
  },
  {
   "cell_type": "code",
   "execution_count": 43,
   "metadata": {
    "collapsed": false
   },
   "outputs": [
    {
     "name": "stdout",
     "output_type": "stream",
     "text": [
      "a=100, b=0, c=300, d=0, e=0\n",
      "400\n"
     ]
    }
   ],
   "source": [
    "# default parameters/arguments\n",
    "def add(a,b=0,c=0,d=0,e=0):\n",
    "    print \"a=%s, b=%s, c=%s, d=%s, e=%s\"%(a,b,c,d,e)\n",
    "    return a+b+c+d+e\n",
    "def mul(a,b=1,c=1,d=1,e=1):\n",
    "    print \"a=%s, b=%s, c=%s, d=%s, e=%s\"%(a,b,c,d,e)\n",
    "    return a*b*c*d*e\n",
    "#100,3000\n",
    "# keyword arguments\n",
    "print add(a=100,c=300)"
   ]
  },
  {
   "cell_type": "code",
   "execution_count": null,
   "metadata": {
    "collapsed": true
   },
   "outputs": [],
   "source": []
  }
 ],
 "metadata": {
  "kernelspec": {
   "display_name": "Python 2",
   "language": "python",
   "name": "python2"
  },
  "language_info": {
   "codemirror_mode": {
    "name": "ipython",
    "version": 2
   },
   "file_extension": ".py",
   "mimetype": "text/x-python",
   "name": "python",
   "nbconvert_exporter": "python",
   "pygments_lexer": "ipython2",
   "version": "2.7.13"
  }
 },
 "nbformat": 4,
 "nbformat_minor": 2
}
