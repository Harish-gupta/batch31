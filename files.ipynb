{
 "cells": [
  {
   "cell_type": "code",
   "execution_count": 1,
   "metadata": {
    "collapsed": false
   },
   "outputs": [
    {
     "name": "stdout",
     "output_type": "stream",
     "text": [
      "id,name,address,phone,email\n",
      "1,name1,ad1,6789035465,email1@gamil.com\n",
      "2,name2,ad1,6789035465,email1@gamil.com\n",
      "3,name3,ad1,6789035465,email1@gamil.com\n",
      "4,name4,ad1,6789035465,email1@gamil.com\n",
      "5,name5,ad1,6789035465,email1@gamil.com\n",
      "\n"
     ]
    }
   ],
   "source": [
    "f=open('data.csv')\n",
    "data=f.read()\n",
    "print data"
   ]
  },
  {
   "cell_type": "code",
   "execution_count": 2,
   "metadata": {
    "collapsed": false
   },
   "outputs": [
    {
     "name": "stdout",
     "output_type": "stream",
     "text": [
      "id,name,address,phone,email\n",
      "1,name1,ad1,6789035465,email1@gamil.com\n",
      "2,name2,ad1,6789035465,email1@gamil.com\n",
      "3,name3,ad1,6789035465,email1@gamil.com\n",
      "4,name4,ad1,6789035465,email1@gamil.com\n",
      "5,name5,ad1,6789035465,email1@gamil.com\n",
      "\n",
      "<type 'str'>\n"
     ]
    }
   ],
   "source": [
    "f=open('data.csv')\n",
    "data=f.read()\n",
    "print data\n",
    "print type(data)"
   ]
  },
  {
   "cell_type": "code",
   "execution_count": 3,
   "metadata": {
    "collapsed": false
   },
   "outputs": [
    {
     "name": "stdout",
     "output_type": "stream",
     "text": [
      "p\n",
      "y\n",
      "t\n",
      "h\n",
      "o\n",
      "n\n",
      " \n",
      "p\n",
      "r\n",
      "o\n",
      "g\n",
      "r\n",
      "a\n",
      "m\n"
     ]
    }
   ],
   "source": [
    "s=\"python program\"\n",
    "for i in s:\n",
    "    print i"
   ]
  },
  {
   "cell_type": "code",
   "execution_count": 4,
   "metadata": {
    "collapsed": false
   },
   "outputs": [
    {
     "name": "stdout",
     "output_type": "stream",
     "text": [
      "id,name,address,phone,email\n",
      "1,name1,ad1,6789035465,email1@gamil.com\n",
      "2,name2,ad1,6789035465,email1@gamil.com\n",
      "3,name3,ad1,6789035465,email1@gamil.com\n",
      "4,name4,ad1,6789035465,email1@gamil.com\n",
      "5,name5,ad1,6789035465,email1@gamil.com\n",
      "\n",
      "i\n"
     ]
    }
   ],
   "source": [
    "f=open('data.csv')\n",
    "data=f.read()\n",
    "print data\n",
    "for i in data:\n",
    "    print i\n",
    "    break"
   ]
  },
  {
   "cell_type": "code",
   "execution_count": 5,
   "metadata": {
    "collapsed": false
   },
   "outputs": [
    {
     "data": {
      "text/plain": [
       "['i', 'd', ',', 'n', 'a', 'm', 'e', ',', 'a', 'd']"
      ]
     },
     "execution_count": 5,
     "metadata": {},
     "output_type": "execute_result"
    }
   ],
   "source": [
    "list(data[:10])"
   ]
  },
  {
   "cell_type": "code",
   "execution_count": 6,
   "metadata": {
    "collapsed": false
   },
   "outputs": [
    {
     "data": {
      "text/plain": [
       "['id',\n",
       " 'name',\n",
       " 'address',\n",
       " 'phone',\n",
       " 'email\\n1',\n",
       " 'name1',\n",
       " 'ad1',\n",
       " '6789035465',\n",
       " 'email1@gamil.com\\n2',\n",
       " 'name2',\n",
       " 'ad1',\n",
       " '6789035465',\n",
       " 'email1@gamil.com\\n3',\n",
       " 'name3',\n",
       " 'ad1',\n",
       " '6789035465',\n",
       " 'email1@gamil.com\\n4',\n",
       " 'name4',\n",
       " 'ad1',\n",
       " '6789035465',\n",
       " 'email1@gamil.com\\n5',\n",
       " 'name5',\n",
       " 'ad1',\n",
       " '6789035465',\n",
       " 'email1@gamil.com\\n']"
      ]
     },
     "execution_count": 6,
     "metadata": {},
     "output_type": "execute_result"
    }
   ],
   "source": [
    "data.split(',')"
   ]
  },
  {
   "cell_type": "code",
   "execution_count": 7,
   "metadata": {
    "collapsed": false
   },
   "outputs": [
    {
     "data": {
      "text/plain": [
       "['id,name,address,phone,email',\n",
       " '1,name1,ad1,6789035465,email1@gamil.com',\n",
       " '2,name2,ad1,6789035465,email1@gamil.com',\n",
       " '3,name3,ad1,6789035465,email1@gamil.com',\n",
       " '4,name4,ad1,6789035465,email1@gamil.com',\n",
       " '5,name5,ad1,6789035465,email1@gamil.com',\n",
       " '']"
      ]
     },
     "execution_count": 7,
     "metadata": {},
     "output_type": "execute_result"
    }
   ],
   "source": [
    "data.split('\\n')"
   ]
  },
  {
   "cell_type": "code",
   "execution_count": 8,
   "metadata": {
    "collapsed": false
   },
   "outputs": [
    {
     "name": "stdout",
     "output_type": "stream",
     "text": [
      "id,name,address,phone,email\n",
      "1,name1,ad1,6789035465,email1@gamil.com\n",
      "2,name2,ad1,6789035465,email1@gamil.com\n",
      "3,name3,ad1,6789035465,email1@gamil.com\n",
      "4,name4,ad1,6789035465,email1@gamil.com\n",
      "5,name5,ad1,6789035465,email1@gamil.com\n",
      "\n"
     ]
    }
   ],
   "source": [
    "for i in data.split('\\n'):\n",
    "    print i"
   ]
  },
  {
   "cell_type": "code",
   "execution_count": 9,
   "metadata": {
    "collapsed": false
   },
   "outputs": [
    {
     "name": "stdout",
     "output_type": "stream",
     "text": [
      "id,name,address,phone,email\n",
      "1,name1,ad1,6789035465,email1@gamil.com\n",
      "2,name2,ad1,6789035465,email1@gamil.com\n",
      "3,name3,ad1,6789035465,email1@gamil.com\n",
      "4,name4,ad1,6789035465,email1@gamil.com\n",
      "5,name5,ad1,6789035465,email1@gamil.com\n",
      "500,name500,ad1,6789035465,email1@gamil.com\n",
      "\n",
      "<type 'str'>\n",
      "<type 'str'>\n",
      "<type 'str'>\n",
      "<type 'str'>\n",
      "<type 'str'>\n",
      "<type 'str'>\n",
      "<type 'str'>\n",
      "<type 'str'>\n",
      "<type 'str'>\n"
     ]
    }
   ],
   "source": [
    "f=open('data.csv')\n",
    "data=f.read()\n",
    "print data\n",
    "print type(data)\n",
    "for row in data.split('\\n'):\n",
    "    print type(row)"
   ]
  },
  {
   "cell_type": "code",
   "execution_count": 10,
   "metadata": {
    "collapsed": false
   },
   "outputs": [
    {
     "name": "stdout",
     "output_type": "stream",
     "text": [
      "id,name,address,phone,email\n",
      "1,name1,ad1,6789035465,email1@gamil.com\n",
      "23,name2,ad1,6789035465,email1@gamil.com\n",
      "3,name3,ad1,6789035465,email1@gamil.com\n",
      "4,name4,ad1,6789035465,email1@gamil.com\n",
      "5,name5,ad1,6789035465,email1@gamil.com\n",
      "500,name500,ad1,6789035465,email1@gamil.com\n",
      "\n",
      "<type 'str'>\n",
      "1,name1,ad1,6789035465,email1@gamil.com\n",
      "23,name2,ad1,6789035465,email1@gamil.com\n",
      "3,name3,ad1,6789035465,email1@gamil.com\n",
      "4,name4,ad1,6789035465,email1@gamil.com\n",
      "5,name5,ad1,6789035465,email1@gamil.com\n",
      "500,name500,ad1,6789035465,email1@gamil.com\n"
     ]
    }
   ],
   "source": [
    "f=open('data.csv')\n",
    "data=f.read()\n",
    "print data\n",
    "print type(data)\n",
    "for row in data.split('\\n'):\n",
    "    if '3' in row:\n",
    "        print row"
   ]
  },
  {
   "cell_type": "code",
   "execution_count": 11,
   "metadata": {
    "collapsed": false
   },
   "outputs": [
    {
     "name": "stdout",
     "output_type": "stream",
     "text": [
      "id,name,address,phone,email\n",
      "1,name1,ad1,6789035465,email1@gamil.com\n",
      "23,name2,ad1,6789035465,email1@gamil.com\n",
      "3,name3,ad1,6789035465,email1@gamil.com\n",
      "4,name4,ad1,6789035465,email1@gamil.com\n",
      "5,name5,ad1,6789035465,email1@gamil.com\n",
      "500,name500,ad1,6789035465,email1@gamil.com\n",
      "\n",
      "<type 'str'>\n",
      "3,name3,ad1,6789035465,email1@gamil.com\n"
     ]
    }
   ],
   "source": [
    "f=open('data.csv')\n",
    "data=f.read()\n",
    "print data\n",
    "print type(data)\n",
    "for row in data.split('\\n'):\n",
    "    if '3' in row[:1]:\n",
    "        print row"
   ]
  },
  {
   "cell_type": "code",
   "execution_count": 12,
   "metadata": {
    "collapsed": false
   },
   "outputs": [
    {
     "name": "stdout",
     "output_type": "stream",
     "text": [
      "id,name,address,phone,email\n",
      "1,name1,ad1,6789035465,email1@gamil.com\n",
      "23,name2,ad1,6789035465,email1@gamil.com\n",
      "3,name3,ad1,6789035465,email1@gamil.com\n",
      "4,name4,ad1,6789035465,email1@gamil.com\n",
      "5,name5,ad1,6789035465,email1@gamil.com\n",
      "500,name500,ad1,6789035465,email1@gamil.com\n",
      "\n",
      "<type 'str'>\n",
      "['id', 'name', 'address', 'phone', 'email']\n",
      "['1', 'name1', 'ad1', '6789035465', 'email1@gamil.com']\n",
      "['23', 'name2', 'ad1', '6789035465', 'email1@gamil.com']\n",
      "['3', 'name3', 'ad1', '6789035465', 'email1@gamil.com']\n",
      "['4', 'name4', 'ad1', '6789035465', 'email1@gamil.com']\n",
      "['5', 'name5', 'ad1', '6789035465', 'email1@gamil.com']\n",
      "['500', 'name500', 'ad1', '6789035465', 'email1@gamil.com']\n",
      "['']\n"
     ]
    }
   ],
   "source": [
    "f=open('data.csv')\n",
    "data=f.read()\n",
    "print data\n",
    "print type(data)\n",
    "for row in data.split('\\n'):\n",
    "    print row.split(',')"
   ]
  },
  {
   "cell_type": "code",
   "execution_count": 13,
   "metadata": {
    "collapsed": false
   },
   "outputs": [
    {
     "name": "stdout",
     "output_type": "stream",
     "text": [
      "id,name,address,phone,email\n",
      "1,name1,ad1,6789035465,email1@gamil.com\n",
      "23,name2,ad1,6789035465,email1@gamil.com\n",
      "3,name3,ad1,6789035465,email1@gamil.com\n",
      "4,name4,ad1,6789035465,email1@gamil.com\n",
      "5,name5,ad1,6789035465,email1@gamil.com\n",
      "500,name500,ad1,6789035465,email1@gamil.com\n",
      "\n",
      "<type 'str'>\n",
      "id\n",
      "1\n",
      "23\n",
      "3\n",
      "4\n",
      "5\n",
      "500\n",
      "\n"
     ]
    }
   ],
   "source": [
    "f=open('data.csv')\n",
    "data=f.read()\n",
    "print data\n",
    "print type(data)\n",
    "for row in data.split('\\n'):\n",
    "    c_id = row.split(',')[0]\n",
    "    print c_id"
   ]
  },
  {
   "cell_type": "code",
   "execution_count": 14,
   "metadata": {
    "collapsed": false
   },
   "outputs": [
    {
     "name": "stdout",
     "output_type": "stream",
     "text": [
      "id,name,address,phone,email\n",
      "1,name1,ad1,6789035465,email1@gamil.com\n",
      "23,name2,ad1,6789035465,email1@gamil.com\n",
      "3,name3,ad1,6789035465,email1@gamil.com\n",
      "4,name4,ad1,6789035465,email1@gamil.com\n",
      "5,name5,ad1,6789035465,email1@gamil.com\n",
      "500,name500,ad1,6789035465,email1@gamil.com\n",
      "\n",
      "<type 'str'>\n",
      "Enter an id:3\n",
      "3,name3,ad1,6789035465,email1@gamil.com\n"
     ]
    }
   ],
   "source": [
    "f=open('data.csv')\n",
    "data=f.read()\n",
    "print data\n",
    "print type(data)\n",
    "u_id = raw_input(\"Enter an id:\")\n",
    "for row in data.split('\\n'):\n",
    "    c_id = row.split(',')[0]\n",
    "    if c_id==u_id:\n",
    "        print row\n",
    "    "
   ]
  },
  {
   "cell_type": "code",
   "execution_count": 15,
   "metadata": {
    "collapsed": false
   },
   "outputs": [
    {
     "name": "stdout",
     "output_type": "stream",
     "text": [
      "id,name,address,phone,email\n",
      "1,name1,ad1,6789035465,email1@gamil.com\n",
      "23,name2,ad1,6789035465,email1@gamil.com\n",
      "3,name3,ad1,6789035465,email1@gamil.com\n",
      "4,name4,ad1,6789035465,email1@gamil.com\n",
      "5,name5,ad1,6789035465,email1@gamil.com\n",
      "500,name500,ad1,6789035465,email1@gamil.com\n",
      "\n",
      "<type 'str'>\n",
      "Enter an id:500\n",
      "500,name500,ad1,6789035465,email1@gamil.com\n"
     ]
    }
   ],
   "source": [
    "f=open('data.csv')\n",
    "data=f.read()\n",
    "print data\n",
    "print type(data)\n",
    "u_id = raw_input(\"Enter an id:\")\n",
    "for row in data.split('\\n'):\n",
    "    c_id = row.split(',')[0]\n",
    "    if c_id==u_id:\n",
    "        print row\n",
    "    "
   ]
  },
  {
   "cell_type": "code",
   "execution_count": 24,
   "metadata": {
    "collapsed": false
   },
   "outputs": [
    {
     "name": "stdout",
     "output_type": "stream",
     "text": [
      "SEARCH BY: \n",
      " 1.id \n",
      " 2.emai\n",
      "Enter an option:2\n"
     ]
    }
   ],
   "source": [
    "f=open('data.csv')\n",
    "def search(value,index):\n",
    "    data=f.read()\n",
    "    for row in data.split('\\n'):\n",
    "        c_id = row.split(',')[index]\n",
    "        if c_id==value:\n",
    "            return row\n",
    "print \"SEARCH BY: \\n 1.id \\n 2.emai\"\n",
    "flags = {'id':0,'name':1,'email':2}\n",
    "opt=raw_input(\"Enter an option:\")\n",
    "if opt=='1':\n",
    "    u_id = raw_input(\"Enter id to search:\")\n",
    "    print search(u_id,flags.get('id'))\n",
    "    "
   ]
  },
  {
   "cell_type": "code",
   "execution_count": 25,
   "metadata": {
    "collapsed": false
   },
   "outputs": [
    {
     "ename": "IOError",
     "evalue": "[Errno 2] No such file or directory: 'data1.csv'",
     "output_type": "error",
     "traceback": [
      "\u001b[0;31m---------------------------------------------------------------------------\u001b[0m",
      "\u001b[0;31mIOError\u001b[0m                                   Traceback (most recent call last)",
      "\u001b[0;32m<ipython-input-25-04488610ee89>\u001b[0m in \u001b[0;36m<module>\u001b[0;34m()\u001b[0m\n\u001b[0;32m----> 1\u001b[0;31m \u001b[0mf\u001b[0m\u001b[0;34m=\u001b[0m\u001b[0mopen\u001b[0m\u001b[0;34m(\u001b[0m\u001b[0;34m'data1.csv'\u001b[0m\u001b[0;34m)\u001b[0m\u001b[0;34m\u001b[0m\u001b[0m\n\u001b[0m",
      "\u001b[0;31mIOError\u001b[0m: [Errno 2] No such file or directory: 'data1.csv'"
     ]
    }
   ],
   "source": [
    "f=open('data1.csv')"
   ]
  },
  {
   "cell_type": "code",
   "execution_count": 28,
   "metadata": {
    "collapsed": false
   },
   "outputs": [],
   "source": [
    "f=open('data1.csv','w')\n",
    "f.write(\"some content\")"
   ]
  },
  {
   "cell_type": "code",
   "execution_count": 29,
   "metadata": {
    "collapsed": true
   },
   "outputs": [],
   "source": [
    "f.close()"
   ]
  },
  {
   "cell_type": "code",
   "execution_count": 32,
   "metadata": {
    "collapsed": true
   },
   "outputs": [],
   "source": [
    "f=open('data1.csv','w')\n",
    "f.write(\"some content\")\n",
    "f.close()"
   ]
  },
  {
   "cell_type": "code",
   "execution_count": 35,
   "metadata": {
    "collapsed": true
   },
   "outputs": [],
   "source": [
    "f=open('data1.csv','a')\n",
    "f.write(\"some content\")\n",
    "f.close()"
   ]
  },
  {
   "cell_type": "code",
   "execution_count": 36,
   "metadata": {
    "collapsed": false
   },
   "outputs": [
    {
     "data": {
      "text/plain": [
       "'inner1/data.csv'"
      ]
     },
     "execution_count": 36,
     "metadata": {},
     "output_type": "execute_result"
    }
   ],
   "source": [
    "import os\n",
    "os.path.join(\"inner1\",'data.csv')"
   ]
  },
  {
   "cell_type": "code",
   "execution_count": 37,
   "metadata": {
    "collapsed": true
   },
   "outputs": [],
   "source": [
    "f=open('data1.csv','a')\n",
    "f.write(\"some content\")\n",
    "l=['str1','content2','content3']\n",
    "f.writelines(l)\n",
    "f.close()"
   ]
  },
  {
   "cell_type": "code",
   "execution_count": 38,
   "metadata": {
    "collapsed": false
   },
   "outputs": [
    {
     "ename": "TypeError",
     "evalue": "expected a string or other character buffer object",
     "output_type": "error",
     "traceback": [
      "\u001b[0;31m---------------------------------------------------------------------------\u001b[0m",
      "\u001b[0;31mTypeError\u001b[0m                                 Traceback (most recent call last)",
      "\u001b[0;32m<ipython-input-38-8fc80f9b99b4>\u001b[0m in \u001b[0;36m<module>\u001b[0;34m()\u001b[0m\n\u001b[1;32m      1\u001b[0m \u001b[0mf\u001b[0m\u001b[0;34m=\u001b[0m\u001b[0mopen\u001b[0m\u001b[0;34m(\u001b[0m\u001b[0;34m'data1.csv'\u001b[0m\u001b[0;34m,\u001b[0m\u001b[0;34m'a'\u001b[0m\u001b[0;34m)\u001b[0m\u001b[0;34m\u001b[0m\u001b[0m\n\u001b[0;32m----> 2\u001b[0;31m \u001b[0mf\u001b[0m\u001b[0;34m.\u001b[0m\u001b[0mwrite\u001b[0m\u001b[0;34m(\u001b[0m\u001b[0;36m10\u001b[0m\u001b[0;34m)\u001b[0m\u001b[0;34m\u001b[0m\u001b[0m\n\u001b[0m\u001b[1;32m      3\u001b[0m \u001b[0mf\u001b[0m\u001b[0;34m.\u001b[0m\u001b[0mclose\u001b[0m\u001b[0;34m(\u001b[0m\u001b[0;34m)\u001b[0m\u001b[0;34m\u001b[0m\u001b[0m\n",
      "\u001b[0;31mTypeError\u001b[0m: expected a string or other character buffer object"
     ]
    }
   ],
   "source": [
    "f=open('data1.csv','a')\n",
    "f.write(10)\n",
    "f.close()"
   ]
  },
  {
   "cell_type": "code",
   "execution_count": 39,
   "metadata": {
    "collapsed": true
   },
   "outputs": [],
   "source": [
    "f=open('data1.csv','a')\n",
    "f.write(str(10))\n",
    "f.close()"
   ]
  },
  {
   "cell_type": "code",
   "execution_count": 40,
   "metadata": {
    "collapsed": true
   },
   "outputs": [],
   "source": [
    "f=open('data1.csv','a')\n",
    "persons=['1,name1,895766453,email1@gmail.com\\n',\n",
    "          '2,name1,895766453,email1@gmail.com\\n',\n",
    "          '3,name1,895766453,email1@gmail.com\\n',\n",
    "          '4,name1,895766453,email1@gmail.com\\n',\n",
    "         ]\n",
    "f.writelines(persons)\n",
    "f.close()"
   ]
  },
  {
   "cell_type": "code",
   "execution_count": 41,
   "metadata": {
    "collapsed": false
   },
   "outputs": [
    {
     "name": "stdout",
     "output_type": "stream",
     "text": [
      "some contentsome contentsome contentsome contentsome contentstr1content2content3101,name1,895766453,email1@gmail.com\n",
      "2,name1,895766453,email1@gmail.com\n",
      "3,name1,895766453,email1@gmail.com\n",
      "4,name1,895766453,email1@gmail.com\n",
      "\n",
      "second time reading:\n",
      "\n"
     ]
    }
   ],
   "source": [
    "f=open('data1.csv','r')\n",
    "data=f.read()\n",
    "print data\n",
    "print \"second time reading:\"\n",
    "\n",
    "data1=f.read()\n",
    "print data1"
   ]
  },
  {
   "cell_type": "code",
   "execution_count": 42,
   "metadata": {
    "collapsed": false
   },
   "outputs": [
    {
     "name": "stdout",
     "output_type": "stream",
     "text": [
      "some contentsome contentsome contentsome contentsome contentstr1content2content3101,name1,895766453,email1@gmail.com\n",
      "2,name1,895766453,email1@gmail.com\n",
      "3,name1,895766453,email1@gmail.com\n",
      "4,name1,895766453,email1@gmail.com\n",
      "\n",
      "second time reading:\n",
      "some contentsome contentsome contentsome contentsome contentstr1content2content3101,name1,895766453,email1@gmail.com\n",
      "2,name1,895766453,email1@gmail.com\n",
      "3,name1,895766453,email1@gmail.com\n",
      "4,name1,895766453,email1@gmail.com\n",
      "\n"
     ]
    }
   ],
   "source": [
    "f=open('data1.csv','r')\n",
    "data=f.read()\n",
    "print data\n",
    "print \"second time reading:\"\n",
    "f.close()\n",
    "f=open('data1.csv','r')\n",
    "data1=f.read()\n",
    "print data1\n",
    "f.close()"
   ]
  },
  {
   "cell_type": "code",
   "execution_count": 43,
   "metadata": {
    "collapsed": false
   },
   "outputs": [
    {
     "name": "stdout",
     "output_type": "stream",
     "text": [
      "0\n",
      "222\n",
      "some contentsome contentsome contentsome contentsome contentstr1content2content3101,name1,895766453,email1@gmail.com\n",
      "2,name1,895766453,email1@gmail.com\n",
      "3,name1,895766453,email1@gmail.com\n",
      "4,name1,895766453,email1@gmail.com\n",
      "\n",
      "second time reading:\n",
      "\n",
      "222\n"
     ]
    }
   ],
   "source": [
    "f=open('data1.csv','r')\n",
    "print f.tell()\n",
    "data=f.read()\n",
    "print f.tell()\n",
    "print data\n",
    "print \"second time reading:\"\n",
    "\n",
    "data1=f.read()\n",
    "print data1\n",
    "print f.tell()"
   ]
  },
  {
   "cell_type": "code",
   "execution_count": 45,
   "metadata": {
    "collapsed": false
   },
   "outputs": [
    {
     "name": "stdout",
     "output_type": "stream",
     "text": [
      "0\n",
      "222\n",
      "some contentsome contentsome contentsome contentsome contentstr1content2content3101,name1,895766453,email1@gmail.com\n",
      "2,name1,895766453,email1@gmail.com\n",
      "3,name1,895766453,email1@gmail.com\n",
      "4,name1,895766453,email1@gmail.com\n",
      "\n",
      "sfter seek\n",
      "0\n",
      "second time reading:\n",
      "some contentsome contentsome contentsome contentsome contentstr1content2content3101,name1,895766453,email1@gmail.com\n",
      "2,name1,895766453,email1@gmail.com\n",
      "3,name1,895766453,email1@gmail.com\n",
      "4,name1,895766453,email1@gmail.com\n",
      "\n",
      "222\n"
     ]
    }
   ],
   "source": [
    "f=open('data1.csv','r')\n",
    "print f.tell()\n",
    "data=f.read()\n",
    "print f.tell()\n",
    "print data\n",
    "f.seek(0)\n",
    "print \"sfter seek\"\n",
    "print f.tell()\n",
    "print \"second time reading:\"\n",
    "data1=f.read()\n",
    "print data1\n",
    "print f.tell()"
   ]
  },
  {
   "cell_type": "code",
   "execution_count": 46,
   "metadata": {
    "collapsed": false
   },
   "outputs": [
    {
     "name": "stdout",
     "output_type": "stream",
     "text": [
      "0\n",
      "222\n",
      "some contentsome contentsome contentsome contentsome contentstr1content2content3101,name1,895766453,email1@gmail.com\n",
      "2,name1,895766453,email1@gmail.com\n",
      "3,name1,895766453,email1@gmail.com\n",
      "4,name1,895766453,email1@gmail.com\n",
      "\n",
      "sfter seek\n",
      "10\n",
      "second time reading:\n",
      "ntsome contentsome contentsome contentsome contentstr1content2content3101,name1,895766453,email1@gmail.com\n",
      "2,name1,895766453,email1@gmail.com\n",
      "3,name1,895766453,email1@gmail.com\n",
      "4,name1,895766453,email1@gmail.com\n",
      "\n",
      "222\n"
     ]
    }
   ],
   "source": [
    "f=open('data1.csv','r')\n",
    "print f.tell()\n",
    "data=f.read()\n",
    "print f.tell()\n",
    "print data\n",
    "f.seek(10)\n",
    "print \"sfter seek\"\n",
    "print f.tell()\n",
    "print \"second time reading:\"\n",
    "data1=f.read()\n",
    "print data1\n",
    "print f.tell()"
   ]
  },
  {
   "cell_type": "code",
   "execution_count": 47,
   "metadata": {
    "collapsed": false
   },
   "outputs": [
    {
     "name": "stdout",
     "output_type": "stream",
     "text": [
      "some contentsome contentsome contentsome contentsome contentstr1content2content3101,name1,895766453,email1@gmail.com\n",
      "\n",
      "2,name1,895766453,email1@gmail.com\n",
      "\n",
      "3,name1,895766453,email1@gmail.com\n",
      "\n",
      "['4,name1,895766453,email1@gmail.com\\n']\n"
     ]
    }
   ],
   "source": [
    "f=open('data1.csv')\n",
    "print f.readline()\n",
    "print f.readline()\n",
    "print f.readline()\n",
    "print f.readlines()"
   ]
  },
  {
   "cell_type": "code",
   "execution_count": 48,
   "metadata": {
    "collapsed": false
   },
   "outputs": [
    {
     "data": {
      "text/plain": [
       "['some contentsome contentsome contentsome contentsome contentstr1content2content3101,name1,895766453,email1@gmail.com\\n',\n",
       " '2,name1,895766453,email1@gmail.com\\n',\n",
       " '3,name1,895766453,email1@gmail.com\\n',\n",
       " '4,name1,895766453,email1@gmail.com\\n']"
      ]
     },
     "execution_count": 48,
     "metadata": {},
     "output_type": "execute_result"
    }
   ],
   "source": [
    "f=open('data1.csv')\n",
    "f.readlines()"
   ]
  },
  {
   "cell_type": "code",
   "execution_count": 49,
   "metadata": {
    "collapsed": false
   },
   "outputs": [
    {
     "ename": "TypeError",
     "evalue": "expected a string or other character buffer object",
     "output_type": "error",
     "traceback": [
      "\u001b[0;31m---------------------------------------------------------------------------\u001b[0m",
      "\u001b[0;31mTypeError\u001b[0m                                 Traceback (most recent call last)",
      "\u001b[0;32m<ipython-input-49-3677109f82b7>\u001b[0m in \u001b[0;36m<module>\u001b[0;34m()\u001b[0m\n\u001b[1;32m      1\u001b[0m \u001b[0mpersons\u001b[0m\u001b[0;34m=\u001b[0m\u001b[0;34m[\u001b[0m\u001b[0;34m{\u001b[0m\u001b[0;34m'id'\u001b[0m\u001b[0;34m:\u001b[0m\u001b[0;36m1\u001b[0m\u001b[0;34m,\u001b[0m\u001b[0;34m'name'\u001b[0m\u001b[0;34m:\u001b[0m\u001b[0;34m'name1'\u001b[0m\u001b[0;34m}\u001b[0m\u001b[0;34m,\u001b[0m\u001b[0;34m{\u001b[0m\u001b[0;34m'id'\u001b[0m\u001b[0;34m:\u001b[0m\u001b[0;36m2\u001b[0m\u001b[0;34m,\u001b[0m\u001b[0;34m'name'\u001b[0m\u001b[0;34m:\u001b[0m\u001b[0;34m'name2'\u001b[0m\u001b[0;34m}\u001b[0m\u001b[0;34m]\u001b[0m\u001b[0;34m\u001b[0m\u001b[0m\n\u001b[1;32m      2\u001b[0m \u001b[0mf\u001b[0m\u001b[0;34m=\u001b[0m\u001b[0mopen\u001b[0m\u001b[0;34m(\u001b[0m\u001b[0;34m'data2.csv'\u001b[0m\u001b[0;34m,\u001b[0m\u001b[0;34m'w'\u001b[0m\u001b[0;34m)\u001b[0m\u001b[0;34m\u001b[0m\u001b[0m\n\u001b[0;32m----> 3\u001b[0;31m \u001b[0mf\u001b[0m\u001b[0;34m.\u001b[0m\u001b[0mwrite\u001b[0m\u001b[0;34m(\u001b[0m\u001b[0mpersons\u001b[0m\u001b[0;34m)\u001b[0m\u001b[0;34m\u001b[0m\u001b[0m\n\u001b[0m\u001b[1;32m      4\u001b[0m \u001b[0mf\u001b[0m\u001b[0;34m.\u001b[0m\u001b[0mclose\u001b[0m\u001b[0;34m(\u001b[0m\u001b[0;34m)\u001b[0m\u001b[0;34m\u001b[0m\u001b[0m\n",
      "\u001b[0;31mTypeError\u001b[0m: expected a string or other character buffer object"
     ]
    }
   ],
   "source": [
    "persons=[{'id':1,'name':'name1'},{'id':2,'name':'name2'}]\n",
    "f=open('data2.csv','w')\n",
    "f.write(persons)\n",
    "f.close()"
   ]
  },
  {
   "cell_type": "code",
   "execution_count": 50,
   "metadata": {
    "collapsed": true
   },
   "outputs": [],
   "source": [
    "persons=[{'id':1,'name':'name1'},{'id':2,'name':'name2'}]\n",
    "f=open('data2.csv','w')\n",
    "f.write(str(persons))\n",
    "f.close()"
   ]
  },
  {
   "cell_type": "code",
   "execution_count": 51,
   "metadata": {
    "collapsed": false
   },
   "outputs": [
    {
     "name": "stdout",
     "output_type": "stream",
     "text": [
      "<type 'str'>\n"
     ]
    }
   ],
   "source": [
    "f=open('data2.csv')\n",
    "data=f.read()\n",
    "print type(data)"
   ]
  },
  {
   "cell_type": "code",
   "execution_count": 52,
   "metadata": {
    "collapsed": false
   },
   "outputs": [
    {
     "name": "stdout",
     "output_type": "stream",
     "text": [
      "[\n",
      "{\n",
      "'\n",
      "i\n",
      "d\n",
      "'\n",
      ":\n",
      " \n",
      "1\n",
      ",\n",
      " \n",
      "'\n",
      "n\n",
      "a\n",
      "m\n",
      "e\n",
      "'\n",
      ":\n",
      " \n",
      "'\n",
      "n\n",
      "a\n",
      "m\n",
      "e\n",
      "1\n",
      "'\n",
      "}\n",
      ",\n",
      " \n",
      "{\n",
      "'\n",
      "i\n",
      "d\n",
      "'\n",
      ":\n",
      " \n",
      "2\n",
      ",\n",
      " \n",
      "'\n",
      "n\n",
      "a\n",
      "m\n",
      "e\n",
      "'\n",
      ":\n",
      " \n",
      "'\n",
      "n\n",
      "a\n",
      "m\n",
      "e\n",
      "2\n",
      "'\n",
      "}\n",
      "]\n"
     ]
    }
   ],
   "source": [
    "for  i in data:\n",
    "    print i"
   ]
  },
  {
   "cell_type": "code",
   "execution_count": 53,
   "metadata": {
    "collapsed": true
   },
   "outputs": [],
   "source": [
    "import pickle \n",
    "persons=[{'id':1,'name':'name1'},{'id':2,'name':'name2'}]\n",
    "f=open('data2.csv','w')\n",
    "pickle.dump(persons, f)\n",
    "f.close()"
   ]
  },
  {
   "cell_type": "code",
   "execution_count": 54,
   "metadata": {
    "collapsed": false
   },
   "outputs": [
    {
     "name": "stdout",
     "output_type": "stream",
     "text": [
      "<type 'list'>\n"
     ]
    }
   ],
   "source": [
    "import pickle \n",
    "f=open('data2.csv')\n",
    "data=pickle.load(f)\n",
    "print type(data)\n",
    "f.close()"
   ]
  },
  {
   "cell_type": "code",
   "execution_count": 55,
   "metadata": {
    "collapsed": false
   },
   "outputs": [
    {
     "name": "stdout",
     "output_type": "stream",
     "text": [
      "{'id': 1, 'name': 'name1'}\n",
      "{'id': 2, 'name': 'name2'}\n"
     ]
    }
   ],
   "source": [
    "for i in data:\n",
    "    print i"
   ]
  },
  {
   "cell_type": "code",
   "execution_count": null,
   "metadata": {
    "collapsed": true
   },
   "outputs": [],
   "source": []
  }
 ],
 "metadata": {
  "kernelspec": {
   "display_name": "Python 2",
   "language": "python",
   "name": "python2"
  },
  "language_info": {
   "codemirror_mode": {
    "name": "ipython",
    "version": 2
   },
   "file_extension": ".py",
   "mimetype": "text/x-python",
   "name": "python",
   "nbconvert_exporter": "python",
   "pygments_lexer": "ipython2",
   "version": "2.7.13"
  }
 },
 "nbformat": 4,
 "nbformat_minor": 2
}
