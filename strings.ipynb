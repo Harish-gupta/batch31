{
 "cells": [
  {
   "cell_type": "code",
   "execution_count": 1,
   "metadata": {
    "collapsed": false
   },
   "outputs": [
    {
     "name": "stdout",
     "output_type": "stream",
     "text": [
      "14\n"
     ]
    }
   ],
   "source": [
    "s=\"python program\"\n",
    "print len(s)"
   ]
  },
  {
   "cell_type": "code",
   "execution_count": 2,
   "metadata": {
    "collapsed": false
   },
   "outputs": [
    {
     "data": {
      "text/plain": [
       "'p'"
      ]
     },
     "execution_count": 2,
     "metadata": {},
     "output_type": "execute_result"
    }
   ],
   "source": [
    "s[0]"
   ]
  },
  {
   "cell_type": "code",
   "execution_count": 3,
   "metadata": {
    "collapsed": false
   },
   "outputs": [
    {
     "data": {
      "text/plain": [
       "'y'"
      ]
     },
     "execution_count": 3,
     "metadata": {},
     "output_type": "execute_result"
    }
   ],
   "source": [
    "s[1]"
   ]
  },
  {
   "cell_type": "code",
   "execution_count": 4,
   "metadata": {
    "collapsed": false
   },
   "outputs": [
    {
     "data": {
      "text/plain": [
       "'t'"
      ]
     },
     "execution_count": 4,
     "metadata": {},
     "output_type": "execute_result"
    }
   ],
   "source": [
    "s[2]"
   ]
  },
  {
   "cell_type": "code",
   "execution_count": 5,
   "metadata": {
    "collapsed": false
   },
   "outputs": [
    {
     "data": {
      "text/plain": [
       "'python program'"
      ]
     },
     "execution_count": 5,
     "metadata": {},
     "output_type": "execute_result"
    }
   ],
   "source": [
    "s"
   ]
  },
  {
   "cell_type": "code",
   "execution_count": 6,
   "metadata": {
    "collapsed": false
   },
   "outputs": [
    {
     "data": {
      "text/plain": [
       "'m'"
      ]
     },
     "execution_count": 6,
     "metadata": {},
     "output_type": "execute_result"
    }
   ],
   "source": [
    "s[13]"
   ]
  },
  {
   "cell_type": "code",
   "execution_count": 7,
   "metadata": {
    "collapsed": false
   },
   "outputs": [
    {
     "name": "stdout",
     "output_type": "stream",
     "text": [
      "Enter a value:python\n",
      "n\n"
     ]
    }
   ],
   "source": [
    "s=raw_input(\"Enter a value:\")\n",
    "print s[-1]"
   ]
  },
  {
   "cell_type": "code",
   "execution_count": 8,
   "metadata": {
    "collapsed": false
   },
   "outputs": [
    {
     "name": "stdout",
     "output_type": "stream",
     "text": [
      "14\n"
     ]
    }
   ],
   "source": [
    "s=\"python program\"\n",
    "print len(s)"
   ]
  },
  {
   "cell_type": "code",
   "execution_count": 9,
   "metadata": {
    "collapsed": false
   },
   "outputs": [
    {
     "data": {
      "text/plain": [
       "'m'"
      ]
     },
     "execution_count": 9,
     "metadata": {},
     "output_type": "execute_result"
    }
   ],
   "source": [
    "s[13]"
   ]
  },
  {
   "cell_type": "code",
   "execution_count": 10,
   "metadata": {
    "collapsed": false
   },
   "outputs": [
    {
     "ename": "IndexError",
     "evalue": "string index out of range",
     "output_type": "error",
     "traceback": [
      "\u001b[0;31m---------------------------------------------------------------------------\u001b[0m",
      "\u001b[0;31mIndexError\u001b[0m                                Traceback (most recent call last)",
      "\u001b[0;32m<ipython-input-10-057690f8ca17>\u001b[0m in \u001b[0;36m<module>\u001b[0;34m()\u001b[0m\n\u001b[0;32m----> 1\u001b[0;31m \u001b[0ms\u001b[0m\u001b[0;34m[\u001b[0m\u001b[0;36m14\u001b[0m\u001b[0;34m]\u001b[0m\u001b[0;34m\u001b[0m\u001b[0m\n\u001b[0m",
      "\u001b[0;31mIndexError\u001b[0m: string index out of range"
     ]
    }
   ],
   "source": [
    "s[14]"
   ]
  },
  {
   "cell_type": "code",
   "execution_count": 11,
   "metadata": {
    "collapsed": false
   },
   "outputs": [
    {
     "data": {
      "text/plain": [
       "14"
      ]
     },
     "execution_count": 11,
     "metadata": {},
     "output_type": "execute_result"
    }
   ],
   "source": [
    "len(s)"
   ]
  },
  {
   "cell_type": "code",
   "execution_count": 12,
   "metadata": {
    "collapsed": false
   },
   "outputs": [
    {
     "data": {
      "text/plain": [
       "False"
      ]
     },
     "execution_count": 12,
     "metadata": {},
     "output_type": "execute_result"
    }
   ],
   "source": [
    "a=10\n",
    "b=20\n",
    "a>b"
   ]
  },
  {
   "cell_type": "code",
   "execution_count": 13,
   "metadata": {
    "collapsed": false
   },
   "outputs": [
    {
     "data": {
      "text/plain": [
       "False"
      ]
     },
     "execution_count": 13,
     "metadata": {},
     "output_type": "execute_result"
    }
   ],
   "source": [
    "a>=b"
   ]
  },
  {
   "cell_type": "code",
   "execution_count": 14,
   "metadata": {
    "collapsed": false
   },
   "outputs": [
    {
     "data": {
      "text/plain": [
       "True"
      ]
     },
     "execution_count": 14,
     "metadata": {},
     "output_type": "execute_result"
    }
   ],
   "source": [
    "a<=b"
   ]
  },
  {
   "cell_type": "code",
   "execution_count": 15,
   "metadata": {
    "collapsed": true
   },
   "outputs": [],
   "source": [
    "a=True"
   ]
  },
  {
   "cell_type": "code",
   "execution_count": 16,
   "metadata": {
    "collapsed": true
   },
   "outputs": [],
   "source": [
    "b=False"
   ]
  },
  {
   "cell_type": "code",
   "execution_count": 17,
   "metadata": {
    "collapsed": false
   },
   "outputs": [
    {
     "data": {
      "text/plain": [
       "bool"
      ]
     },
     "execution_count": 17,
     "metadata": {},
     "output_type": "execute_result"
    }
   ],
   "source": [
    "type(a)"
   ]
  },
  {
   "cell_type": "code",
   "execution_count": 18,
   "metadata": {
    "collapsed": false
   },
   "outputs": [
    {
     "data": {
      "text/plain": [
       "bool"
      ]
     },
     "execution_count": 18,
     "metadata": {},
     "output_type": "execute_result"
    }
   ],
   "source": [
    "type(b)"
   ]
  },
  {
   "cell_type": "code",
   "execution_count": 19,
   "metadata": {
    "collapsed": true
   },
   "outputs": [],
   "source": [
    "a=None"
   ]
  },
  {
   "cell_type": "code",
   "execution_count": 20,
   "metadata": {
    "collapsed": false
   },
   "outputs": [
    {
     "data": {
      "text/plain": [
       "NoneType"
      ]
     },
     "execution_count": 20,
     "metadata": {},
     "output_type": "execute_result"
    }
   ],
   "source": [
    "type(a)"
   ]
  },
  {
   "cell_type": "code",
   "execution_count": 21,
   "metadata": {
    "collapsed": false
   },
   "outputs": [
    {
     "data": {
      "text/plain": [
       "False"
      ]
     },
     "execution_count": 21,
     "metadata": {},
     "output_type": "execute_result"
    }
   ],
   "source": [
    "a>b"
   ]
  },
  {
   "cell_type": "code",
   "execution_count": 22,
   "metadata": {
    "collapsed": false
   },
   "outputs": [
    {
     "data": {
      "text/plain": [
       "False"
      ]
     },
     "execution_count": 22,
     "metadata": {},
     "output_type": "execute_result"
    }
   ],
   "source": [
    "bool(a>b)"
   ]
  },
  {
   "cell_type": "code",
   "execution_count": 23,
   "metadata": {
    "collapsed": false
   },
   "outputs": [
    {
     "data": {
      "text/plain": [
       "True"
      ]
     },
     "execution_count": 23,
     "metadata": {},
     "output_type": "execute_result"
    }
   ],
   "source": [
    "bool(10<20)"
   ]
  },
  {
   "cell_type": "code",
   "execution_count": 24,
   "metadata": {
    "collapsed": false
   },
   "outputs": [
    {
     "data": {
      "text/plain": [
       "'python program'"
      ]
     },
     "execution_count": 24,
     "metadata": {},
     "output_type": "execute_result"
    }
   ],
   "source": [
    "# == > < is in not in not is\n",
    "s"
   ]
  },
  {
   "cell_type": "code",
   "execution_count": 25,
   "metadata": {
    "collapsed": false
   },
   "outputs": [
    {
     "data": {
      "text/plain": [
       "True"
      ]
     },
     "execution_count": 25,
     "metadata": {},
     "output_type": "execute_result"
    }
   ],
   "source": [
    "'python' in s"
   ]
  },
  {
   "cell_type": "code",
   "execution_count": 26,
   "metadata": {
    "collapsed": false
   },
   "outputs": [
    {
     "data": {
      "text/plain": [
       "True"
      ]
     },
     "execution_count": 26,
     "metadata": {},
     "output_type": "execute_result"
    }
   ],
   "source": [
    "'p' in s"
   ]
  },
  {
   "cell_type": "code",
   "execution_count": 27,
   "metadata": {
    "collapsed": true
   },
   "outputs": [],
   "source": [
    "# and or !="
   ]
  },
  {
   "cell_type": "code",
   "execution_count": 28,
   "metadata": {
    "collapsed": false
   },
   "outputs": [
    {
     "data": {
      "text/plain": [
       "True"
      ]
     },
     "execution_count": 28,
     "metadata": {},
     "output_type": "execute_result"
    }
   ],
   "source": [
    "a=10\n",
    "b=20\n",
    "c=30\n",
    "a<b and b<c"
   ]
  },
  {
   "cell_type": "code",
   "execution_count": 29,
   "metadata": {
    "collapsed": false
   },
   "outputs": [
    {
     "data": {
      "text/plain": [
       "True"
      ]
     },
     "execution_count": 29,
     "metadata": {},
     "output_type": "execute_result"
    }
   ],
   "source": [
    "a<b or b>c"
   ]
  },
  {
   "cell_type": "code",
   "execution_count": 30,
   "metadata": {
    "collapsed": false
   },
   "outputs": [
    {
     "data": {
      "text/plain": [
       "False"
      ]
     },
     "execution_count": 30,
     "metadata": {},
     "output_type": "execute_result"
    }
   ],
   "source": [
    "a>b and b<c"
   ]
  },
  {
   "cell_type": "code",
   "execution_count": 31,
   "metadata": {
    "collapsed": false
   },
   "outputs": [
    {
     "data": {
      "text/plain": [
       "True"
      ]
     },
     "execution_count": 31,
     "metadata": {},
     "output_type": "execute_result"
    }
   ],
   "source": [
    "a<b or b>c"
   ]
  },
  {
   "cell_type": "code",
   "execution_count": 32,
   "metadata": {
    "collapsed": false
   },
   "outputs": [
    {
     "name": "stdout",
     "output_type": "stream",
     "text": [
      "0\n"
     ]
    }
   ],
   "source": [
    "# bitwise operators\n",
    "a=10\n",
    "b=20\n",
    "print a&b"
   ]
  },
  {
   "cell_type": "code",
   "execution_count": 33,
   "metadata": {
    "collapsed": false
   },
   "outputs": [
    {
     "name": "stdout",
     "output_type": "stream",
     "text": [
      "30\n"
     ]
    }
   ],
   "source": [
    "print a|b"
   ]
  },
  {
   "cell_type": "code",
   "execution_count": 36,
   "metadata": {
    "collapsed": false
   },
   "outputs": [
    {
     "name": "stdout",
     "output_type": "stream",
     "text": [
      "1010\n",
      "10100\n"
     ]
    }
   ],
   "source": [
    "print \"{0:b}\".format(a)\n",
    "print \"{0:b}\".format(b)"
   ]
  },
  {
   "cell_type": "code",
   "execution_count": 37,
   "metadata": {
    "collapsed": false
   },
   "outputs": [
    {
     "data": {
      "text/plain": [
       "'python program'"
      ]
     },
     "execution_count": 37,
     "metadata": {},
     "output_type": "execute_result"
    }
   ],
   "source": [
    "s"
   ]
  },
  {
   "cell_type": "code",
   "execution_count": 38,
   "metadata": {
    "collapsed": false
   },
   "outputs": [
    {
     "name": "stdout",
     "output_type": "stream",
     "text": [
      "value of the index: 3 h\n",
      "index not present\n"
     ]
    }
   ],
   "source": [
    "s=\"python program\"\n",
    "ind=3\n",
    "print \"value of the index:\",ind,s[ind]\n",
    "print \"index not present\""
   ]
  },
  {
   "cell_type": "code",
   "execution_count": 39,
   "metadata": {
    "collapsed": false
   },
   "outputs": [
    {
     "name": "stdout",
     "output_type": "stream",
     "text": [
      "program starting statements\n",
      "index not present\n",
      "other staements in program.\n",
      "program ending statements\n"
     ]
    }
   ],
   "source": [
    "print \"program starting statements\"\n",
    "s=\"python program\"\n",
    "ind=3\n",
    "string_length=len(s)\n",
    "if string_length<ind:\n",
    "    print \"value of the index:\",ind,s[ind]\n",
    "else:\n",
    "    print \"index not present\"\n",
    "\n",
    "print \"other staements in program.\"\n",
    "print \"program ending statements\""
   ]
  },
  {
   "cell_type": "code",
   "execution_count": 41,
   "metadata": {
    "collapsed": false
   },
   "outputs": [
    {
     "name": "stdout",
     "output_type": "stream",
     "text": [
      "program starting statements\n",
      "if block started\n",
      "value of the index:3 is h\n",
      "if block ended\n",
      "other staements in program.\n",
      "program ending statements\n"
     ]
    }
   ],
   "source": [
    "print \"program starting statements\"\n",
    "s=\"python program\"\n",
    "ind=3\n",
    "string_length=len(s)\n",
    "if string_length>ind:\n",
    "    print \"if block started\"\n",
    "    print \"value of the index:%s is %s\"%(ind,s[ind])\n",
    "    print \"if block ended\"\n",
    "else:\n",
    "    print \"else block started\"\n",
    "    print \"index not present\"\n",
    "    print \"else block ended.\"\n",
    "\n",
    "print \"other staements in program.\"\n",
    "print \"program ending statements\""
   ]
  },
  {
   "cell_type": "code",
   "execution_count": 42,
   "metadata": {
    "collapsed": false
   },
   "outputs": [
    {
     "name": "stdout",
     "output_type": "stream",
     "text": [
      "program starting statements\n",
      "if block started\n",
      "value of the index:3 is h\n",
      "if block ended\n",
      "other staements in program.\n",
      "program ending statements\n"
     ]
    }
   ],
   "source": [
    "print \"program starting statements\"\n",
    "s=\"python program\"\n",
    "ind=3\n",
    "string_length=len(s)\n",
    "if string_length>ind:\n",
    "    print \"if block started\"\n",
    "    print \"value of the index:%s is %s\"%(ind,s[ind])\n",
    "    print \"if block ended\"\n",
    "\n",
    "print \"other staements in program.\"\n",
    "print \"program ending statements\""
   ]
  },
  {
   "cell_type": "code",
   "execution_count": 43,
   "metadata": {
    "collapsed": false
   },
   "outputs": [
    {
     "name": "stdout",
     "output_type": "stream",
     "text": [
      "program starting statements\n",
      "other staements in program.\n",
      "program ending statements\n"
     ]
    }
   ],
   "source": [
    "print \"program starting statements\"\n",
    "s=\"python program\"\n",
    "ind=15\n",
    "string_length=len(s)\n",
    "if string_length>ind:\n",
    "    print \"if block started\"\n",
    "    print \"value of the index:%s is %s\"%(ind,s[ind])\n",
    "    print \"if block ended\"\n",
    "\n",
    "print \"other staements in program.\"\n",
    "print \"program ending statements\""
   ]
  },
  {
   "cell_type": "code",
   "execution_count": 44,
   "metadata": {
    "collapsed": false
   },
   "outputs": [
    {
     "name": "stdout",
     "output_type": "stream",
     "text": [
      "program starting statements\n",
      "if block started\n",
      "value of the index:3 is h\n",
      "if block ended\n",
      "other staements in program.\n",
      "program ending statements\n"
     ]
    }
   ],
   "source": [
    "print \"program starting statements\"\n",
    "s=\"python program\"\n",
    "ind=3\n",
    "string_length=len(s)\n",
    "if string_length>ind:\n",
    " print \"if block started\"\n",
    " print \"value of the index:%s is %s\"%(ind,s[ind])\n",
    " print \"if block ended\"\n",
    "else:\n",
    "    print \"else block started\"\n",
    "    print \"index not present\"\n",
    "    print \"else block ended.\"\n",
    "\n",
    "print \"other staements in program.\"\n",
    "print \"program ending statements\""
   ]
  },
  {
   "cell_type": "code",
   "execution_count": 45,
   "metadata": {
    "collapsed": false
   },
   "outputs": [
    {
     "name": "stdout",
     "output_type": "stream",
     "text": [
      "program starting statements\n",
      "if block started\n",
      "value of the index:3 is h\n",
      "if block ended\n",
      "other staements in program.\n",
      "program ending statements\n"
     ]
    }
   ],
   "source": [
    "print \"program starting statements\"\n",
    "s=\"python program\"\n",
    "ind=3\n",
    "string_length=len(s)\n",
    "if string_length>ind:\n",
    "    print \"if block started\"\n",
    "    print \"value of the index:%s is %s\"%(ind,s[ind])\n",
    "    print \"if block ended\"\n",
    "else:\n",
    "    print \"else block started\"\n",
    "    print \"index not present\"\n",
    "    print \"else block ended.\"\n",
    "\n",
    "print \"other staements in program.\"\n",
    "print \"program ending statements\""
   ]
  },
  {
   "cell_type": "code",
   "execution_count": 46,
   "metadata": {
    "collapsed": false
   },
   "outputs": [
    {
     "ename": "IndentationError",
     "evalue": "unindent does not match any outer indentation level (<ipython-input-46-2843dc2bce0e>, line 8)",
     "output_type": "error",
     "traceback": [
      "\u001b[0;36m  File \u001b[0;32m\"<ipython-input-46-2843dc2bce0e>\"\u001b[0;36m, line \u001b[0;32m8\u001b[0m\n\u001b[0;31m    print \"if block ended\"\u001b[0m\n\u001b[0m                          ^\u001b[0m\n\u001b[0;31mIndentationError\u001b[0m\u001b[0;31m:\u001b[0m unindent does not match any outer indentation level\n"
     ]
    }
   ],
   "source": [
    "print \"program starting statements\"\n",
    "s=\"python program\"\n",
    "ind=3\n",
    "string_length=len(s)\n",
    "if string_length>ind:\n",
    "    print \"if block started\"\n",
    "    print \"value of the index:%s is %s\"%(ind,s[ind])\n",
    " print \"if block ended\"\n",
    "else:\n",
    "    print \"else block started\"\n",
    "    print \"index not present\"\n",
    "    print \"else block ended.\"\n",
    "\n",
    "print \"other staements in program.\"\n",
    "print \"program ending statements\""
   ]
  },
  {
   "cell_type": "code",
   "execution_count": 47,
   "metadata": {
    "collapsed": false
   },
   "outputs": [
    {
     "ename": "IndentationError",
     "evalue": "unexpected indent (<ipython-input-47-164e9a853eb5>, line 7)",
     "output_type": "error",
     "traceback": [
      "\u001b[0;36m  File \u001b[0;32m\"<ipython-input-47-164e9a853eb5>\"\u001b[0;36m, line \u001b[0;32m7\u001b[0m\n\u001b[0;31m    print \"value of the index:%s is %s\"%(ind,s[ind])\u001b[0m\n\u001b[0m    ^\u001b[0m\n\u001b[0;31mIndentationError\u001b[0m\u001b[0;31m:\u001b[0m unexpected indent\n"
     ]
    }
   ],
   "source": [
    "print \"program starting statements\"\n",
    "s=\"python program\"\n",
    "ind=3\n",
    "string_length=len(s)\n",
    "if string_length>ind:\n",
    " print \"if block started\"\n",
    "    print \"value of the index:%s is %s\"%(ind,s[ind])\n",
    "    print \"if block ended\"\n",
    "else:\n",
    "    print \"else block started\"\n",
    "    print \"index not present\"\n",
    "    print \"else block ended.\"\n",
    "\n",
    "print \"other staements in program.\"\n",
    "print \"program ending statements\""
   ]
  },
  {
   "cell_type": "code",
   "execution_count": 48,
   "metadata": {
    "collapsed": false
   },
   "outputs": [
    {
     "ename": "SyntaxError",
     "evalue": "invalid syntax (<ipython-input-48-ac230e3b4277>, line 9)",
     "output_type": "error",
     "traceback": [
      "\u001b[0;36m  File \u001b[0;32m\"<ipython-input-48-ac230e3b4277>\"\u001b[0;36m, line \u001b[0;32m9\u001b[0m\n\u001b[0;31m    else:\u001b[0m\n\u001b[0m       ^\u001b[0m\n\u001b[0;31mSyntaxError\u001b[0m\u001b[0;31m:\u001b[0m invalid syntax\n"
     ]
    }
   ],
   "source": [
    "print \"program starting statements\"\n",
    "s=\"python program\"\n",
    "ind=3\n",
    "string_length=len(s)\n",
    "if string_length>ind:\n",
    "    print \"if block started\"\n",
    "    print \"value of the index:%s is %s\"%(ind,s[ind])\n",
    "print \"if block ended\"\n",
    "else:\n",
    "    print \"else block started\"\n",
    "    print \"index not present\"\n",
    "    print \"else block ended.\"\n",
    "\n",
    "print \"other staements in program.\"\n",
    "print \"program ending statements\""
   ]
  },
  {
   "cell_type": "code",
   "execution_count": 49,
   "metadata": {
    "collapsed": false
   },
   "outputs": [
    {
     "ename": "IndentationError",
     "evalue": "unexpected indent (<ipython-input-49-005c6606d902>, line 5)",
     "output_type": "error",
     "traceback": [
      "\u001b[0;36m  File \u001b[0;32m\"<ipython-input-49-005c6606d902>\"\u001b[0;36m, line \u001b[0;32m5\u001b[0m\n\u001b[0;31m    if string_length>ind:\u001b[0m\n\u001b[0m    ^\u001b[0m\n\u001b[0;31mIndentationError\u001b[0m\u001b[0;31m:\u001b[0m unexpected indent\n"
     ]
    }
   ],
   "source": [
    "print \"program starting statements\"\n",
    "s=\"python program\"\n",
    "ind=3\n",
    "string_length=len(s)\n",
    "    if string_length>ind:\n",
    "        print \"if block started\"\n",
    "        print \"value of the index:%s is %s\"%(ind,s[ind])\n",
    "        print \"if block ended\"\n",
    "    else:\n",
    "        print \"else block started\"\n",
    "        print \"index not present\"\n",
    "        print \"else block ended.\"\n",
    "\n",
    "print \"other staements in program.\"\n",
    "print \"program ending statements\""
   ]
  },
  {
   "cell_type": "code",
   "execution_count": 50,
   "metadata": {
    "collapsed": false
   },
   "outputs": [
    {
     "name": "stdout",
     "output_type": "stream",
     "text": [
      "program starting statements\n",
      "if block started\n",
      "value of the index:3 is h\n",
      "if block ended\n",
      "other staements in program.\n",
      "program ending statements\n"
     ]
    }
   ],
   "source": [
    "print \"program starting statements\"\n",
    "s=\"python program\"\n",
    "ind=3\n",
    "string_length=len(s)\n",
    "if string_length>ind:\n",
    "        print \"if block started\"\n",
    "        print \"value of the index:%s is %s\"%(ind,s[ind])\n",
    "        print \"if block ended\"\n",
    "else:\n",
    "        print \"else block started\"\n",
    "        print \"index not present\"\n",
    "        print \"else block ended.\"\n",
    "\n",
    "print \"other staements in program.\"\n",
    "print \"program ending statements\""
   ]
  },
  {
   "cell_type": "code",
   "execution_count": 51,
   "metadata": {
    "collapsed": false
   },
   "outputs": [
    {
     "name": "stdout",
     "output_type": "stream",
     "text": [
      "Mobiles available in store:\n",
      "1.Android\n",
      "2.IOS\n",
      "3.wondows\n"
     ]
    }
   ],
   "source": [
    "\"\"\"\n",
    "Mobiles available in store:\n",
    "1.Android\n",
    "2.Ios\n",
    "3.Windows\n",
    "\"\"\"\n",
    "print \"Mobiles available in store:\\n1.Android\\n2.IOS\\n3.wondows\""
   ]
  },
  {
   "cell_type": "code",
   "execution_count": 52,
   "metadata": {
    "collapsed": false
   },
   "outputs": [
    {
     "name": "stdout",
     "output_type": "stream",
     "text": [
      "starting staeemnts\n",
      "Mobiles available in store:\n",
      "1.Android\n",
      "2.IOS\n",
      "3.wondows\n",
      "Enter an option:1\n",
      "other statements in program.\n",
      "program ended.\n"
     ]
    }
   ],
   "source": [
    "\"\"\"\n",
    "Mobiles available in store:\n",
    "1.Android\n",
    "2.Ios\n",
    "3.Windows\n",
    "\n",
    "\"\"\"\n",
    "print \"starting staeemnts\"\n",
    "print \"Mobiles available in store:\\n1.Android\\n2.IOS\\n3.wondows\"\n",
    "opt=raw_input(\"Enter an option:\")\n",
    "if opt==1:\n",
    "    print \"GOTO 1st FLOOR\"\n",
    "print \"other statements in program.\"\n",
    "print \"program ended.\"\n"
   ]
  },
  {
   "cell_type": "code",
   "execution_count": 53,
   "metadata": {
    "collapsed": false
   },
   "outputs": [
    {
     "data": {
      "text/plain": [
       "False"
      ]
     },
     "execution_count": 53,
     "metadata": {},
     "output_type": "execute_result"
    }
   ],
   "source": [
    "1==\"1\""
   ]
  },
  {
   "cell_type": "code",
   "execution_count": 54,
   "metadata": {
    "collapsed": false
   },
   "outputs": [
    {
     "name": "stdout",
     "output_type": "stream",
     "text": [
      "starting staeemnts\n",
      "Mobiles available in store:\n",
      "1.Android\n",
      "2.IOS\n",
      "3.wondows\n",
      "Enter an option:1\n",
      "GOTO 1st FLOOR\n",
      "other statements in program.\n",
      "program ended.\n"
     ]
    }
   ],
   "source": [
    "\"\"\"\n",
    "Mobiles available in store:\n",
    "1.Android\n",
    "2.Ios\n",
    "3.Windows\n",
    "\n",
    "\"\"\"\n",
    "print \"starting staeemnts\"\n",
    "print \"Mobiles available in store:\\n1.Android\\n2.IOS\\n3.wondows\"\n",
    "opt=raw_input(\"Enter an option:\")\n",
    "if opt==\"1\":\n",
    "    print \"GOTO 1st FLOOR\"\n",
    "print \"other statements in program.\"\n",
    "print \"program ended.\"\n"
   ]
  },
  {
   "cell_type": "code",
   "execution_count": 55,
   "metadata": {
    "collapsed": false
   },
   "outputs": [
    {
     "data": {
      "text/plain": [
       "False"
      ]
     },
     "execution_count": 55,
     "metadata": {},
     "output_type": "execute_result"
    }
   ],
   "source": [
    "12>20"
   ]
  },
  {
   "cell_type": "code",
   "execution_count": 56,
   "metadata": {
    "collapsed": false
   },
   "outputs": [
    {
     "data": {
      "text/plain": [
       "False"
      ]
     },
     "execution_count": 56,
     "metadata": {},
     "output_type": "execute_result"
    }
   ],
   "source": [
    "\"2\"<12"
   ]
  },
  {
   "cell_type": "code",
   "execution_count": 57,
   "metadata": {
    "collapsed": false
   },
   "outputs": [
    {
     "data": {
      "text/plain": [
       "True"
      ]
     },
     "execution_count": 57,
     "metadata": {},
     "output_type": "execute_result"
    }
   ],
   "source": [
    "\"2\">12"
   ]
  },
  {
   "cell_type": "code",
   "execution_count": 58,
   "metadata": {
    "collapsed": false
   },
   "outputs": [
    {
     "data": {
      "text/plain": [
       "True"
      ]
     },
     "execution_count": 58,
     "metadata": {},
     "output_type": "execute_result"
    }
   ],
   "source": [
    "\"1\">10000000"
   ]
  },
  {
   "cell_type": "code",
   "execution_count": 59,
   "metadata": {
    "collapsed": false
   },
   "outputs": [
    {
     "data": {
      "text/plain": [
       "True"
      ]
     },
     "execution_count": 59,
     "metadata": {},
     "output_type": "execute_result"
    }
   ],
   "source": [
    "\"2\">\"10000\""
   ]
  },
  {
   "cell_type": "code",
   "execution_count": 60,
   "metadata": {
    "collapsed": false
   },
   "outputs": [
    {
     "data": {
      "text/plain": [
       "False"
      ]
     },
     "execution_count": 60,
     "metadata": {},
     "output_type": "execute_result"
    }
   ],
   "source": [
    "\"2\"<\"10000\""
   ]
  },
  {
   "cell_type": "code",
   "execution_count": 61,
   "metadata": {
    "collapsed": false
   },
   "outputs": [
    {
     "name": "stdout",
     "output_type": "stream",
     "text": [
      "True\n"
     ]
    }
   ],
   "source": [
    "# bat ant apple\n",
    "# ant apple bat\n",
    "# \"2\" \"13\" \"10000\"\n",
    "# 10000 13 2\n",
    "print \"bat\" > \"apple\""
   ]
  },
  {
   "cell_type": "code",
   "execution_count": 62,
   "metadata": {
    "collapsed": false
   },
   "outputs": [
    {
     "name": "stdout",
     "output_type": "stream",
     "text": [
      "starting staeemnts\n",
      "Mobiles available in store:\n",
      "1.Android\n",
      "2.IOS\n",
      "3.wondows\n",
      "Enter an option:1\n",
      "GOTO 1st FLOOR\n",
      "other statements in program.\n",
      "program ended.\n"
     ]
    }
   ],
   "source": [
    "\"\"\"\n",
    "Mobiles available in store:\n",
    "1.Android\n",
    "2.Ios\n",
    "3.Windows\n",
    "\n",
    "\"\"\"\n",
    "print \"starting staeemnts\"\n",
    "print \"Mobiles available in store:\\n1.Android\\n2.IOS\\n3.wondows\"\n",
    "opt=raw_input(\"Enter an option:\")\n",
    "if opt==\"1\":\n",
    "    print \"GOTO 1st FLOOR\"\n",
    "if opt==\"2\":\n",
    "    print \"GOTO 2nd FLOOR\"\n",
    "if opt==\"3\":\n",
    "    print \"GOTO 3rd FLOOR\"\n",
    "print \"other statements in program.\"\n",
    "print \"program ended.\"\n"
   ]
  },
  {
   "cell_type": "code",
   "execution_count": 63,
   "metadata": {
    "collapsed": false
   },
   "outputs": [
    {
     "name": "stdout",
     "output_type": "stream",
     "text": [
      "starting staeemnts\n",
      "Mobiles available in store:\n",
      "1.Android\n",
      "2.IOS\n",
      "3.wondows\n",
      "Enter an option:2\n",
      "GOTO 2nd FLOOR\n",
      "other statements in program.\n",
      "program ended.\n"
     ]
    }
   ],
   "source": [
    "\"\"\"\n",
    "Mobiles available in store:\n",
    "1.Android\n",
    "2.Ios\n",
    "3.Windows\n",
    "\n",
    "\"\"\"\n",
    "print \"starting staeemnts\"\n",
    "print \"Mobiles available in store:\\n1.Android\\n2.IOS\\n3.wondows\"\n",
    "opt=raw_input(\"Enter an option:\")\n",
    "if opt==\"1\":\n",
    "    print \"GOTO 1st FLOOR\"\n",
    "if opt==\"2\":\n",
    "    print \"GOTO 2nd FLOOR\"\n",
    "if opt==\"3\":\n",
    "    print \"GOTO 3rd FLOOR\"\n",
    "print \"other statements in program.\"\n",
    "print \"program ended.\"\n"
   ]
  },
  {
   "cell_type": "code",
   "execution_count": 64,
   "metadata": {
    "collapsed": false
   },
   "outputs": [
    {
     "name": "stdout",
     "output_type": "stream",
     "text": [
      "starting staeemnts\n",
      "Mobiles available in store:\n",
      "1.Android\n",
      "2.IOS\n",
      "3.wondows\n",
      "Enter an option:3\n",
      "GOTO 3rd FLOOR\n",
      "other statements in program.\n",
      "program ended.\n"
     ]
    }
   ],
   "source": [
    "\"\"\"\n",
    "Mobiles available in store:\n",
    "1.Android\n",
    "2.Ios\n",
    "3.Windows\n",
    "\n",
    "\"\"\"\n",
    "print \"starting staeemnts\"\n",
    "print \"Mobiles available in store:\\n1.Android\\n2.IOS\\n3.wondows\"\n",
    "opt=raw_input(\"Enter an option:\")\n",
    "if opt==\"1\":\n",
    "    print \"GOTO 1st FLOOR\"\n",
    "if opt==\"2\":\n",
    "    print \"GOTO 2nd FLOOR\"\n",
    "if opt==\"3\":\n",
    "    print \"GOTO 3rd FLOOR\"\n",
    "print \"other statements in program.\"\n",
    "print \"program ended.\"\n"
   ]
  },
  {
   "cell_type": "code",
   "execution_count": 65,
   "metadata": {
    "collapsed": false
   },
   "outputs": [
    {
     "name": "stdout",
     "output_type": "stream",
     "text": [
      "starting staeemnts\n",
      "Mobiles available in store:\n",
      "1.Android\n",
      "2.IOS\n",
      "3.wondows\n",
      "Enter an option:4\n",
      "other statements in program.\n",
      "program ended.\n"
     ]
    }
   ],
   "source": [
    "\"\"\"\n",
    "Mobiles available in store:\n",
    "1.Android\n",
    "2.Ios\n",
    "3.Windows\n",
    "\n",
    "\"\"\"\n",
    "print \"starting staeemnts\"\n",
    "print \"Mobiles available in store:\\n1.Android\\n2.IOS\\n3.wondows\"\n",
    "opt=raw_input(\"Enter an option:\")\n",
    "if opt==\"1\":\n",
    "    print \"GOTO 1st FLOOR\"\n",
    "if opt==\"2\":\n",
    "    print \"GOTO 2nd FLOOR\"\n",
    "if opt==\"3\":\n",
    "    print \"GOTO 3rd FLOOR\"\n",
    "print \"other statements in program.\"\n",
    "print \"program ended.\"\n"
   ]
  },
  {
   "cell_type": "code",
   "execution_count": 66,
   "metadata": {
    "collapsed": false
   },
   "outputs": [
    {
     "name": "stdout",
     "output_type": "stream",
     "text": [
      "starting staeemnts\n",
      "Mobiles available in store:\n",
      "1.Android\n",
      "2.IOS\n",
      "3.wondows\n",
      "Enter an option:4\n",
      "wrong option.\n",
      "other statements in program.\n",
      "program ended.\n"
     ]
    }
   ],
   "source": [
    "\"\"\"\n",
    "Mobiles available in store:\n",
    "1.Android\n",
    "2.Ios\n",
    "3.Windows\n",
    "\n",
    "\"\"\"\n",
    "print \"starting staeemnts\"\n",
    "print \"Mobiles available in store:\\n1.Android\\n2.IOS\\n3.wondows\"\n",
    "opt=raw_input(\"Enter an option:\")\n",
    "if opt==\"1\":\n",
    "    print \"GOTO 1st FLOOR\"\n",
    "if opt==\"2\":\n",
    "    print \"GOTO 2nd FLOOR\"\n",
    "if opt==\"3\":\n",
    "    print \"GOTO 3rd FLOOR\"\n",
    "else:\n",
    "    print \"wrong option.\"\n",
    "print \"other statements in program.\"\n",
    "print \"program ended.\"\n"
   ]
  },
  {
   "cell_type": "code",
   "execution_count": 67,
   "metadata": {
    "collapsed": false
   },
   "outputs": [
    {
     "name": "stdout",
     "output_type": "stream",
     "text": [
      "starting staeemnts\n",
      "Mobiles available in store:\n",
      "1.Android\n",
      "2.IOS\n",
      "3.wondows\n",
      "Enter an option:3\n",
      "GOTO 3rd FLOOR\n",
      "other statements in program.\n",
      "program ended.\n"
     ]
    }
   ],
   "source": [
    "\"\"\"\n",
    "Mobiles available in store:\n",
    "1.Android\n",
    "2.Ios\n",
    "3.Windows\n",
    "\n",
    "\"\"\"\n",
    "print \"starting staeemnts\"\n",
    "print \"Mobiles available in store:\\n1.Android\\n2.IOS\\n3.wondows\"\n",
    "opt=raw_input(\"Enter an option:\")\n",
    "if opt==\"1\":\n",
    "    print \"GOTO 1st FLOOR\"\n",
    "if opt==\"2\":\n",
    "    print \"GOTO 2nd FLOOR\"\n",
    "if opt==\"3\":\n",
    "    print \"GOTO 3rd FLOOR\"\n",
    "else:\n",
    "    print \"wrong option.\"\n",
    "print \"other statements in program.\"\n",
    "print \"program ended.\"\n"
   ]
  },
  {
   "cell_type": "code",
   "execution_count": 68,
   "metadata": {
    "collapsed": false
   },
   "outputs": [
    {
     "name": "stdout",
     "output_type": "stream",
     "text": [
      "starting staeemnts\n",
      "Mobiles available in store:\n",
      "1.Android\n",
      "2.IOS\n",
      "3.wondows\n",
      "Enter an option:2\n",
      "GOTO 2nd FLOOR\n",
      "wrong option.\n",
      "other statements in program.\n",
      "program ended.\n"
     ]
    }
   ],
   "source": [
    "\"\"\"\n",
    "Mobiles available in store:\n",
    "1.Android\n",
    "2.Ios\n",
    "3.Windows\n",
    "\n",
    "\"\"\"\n",
    "print \"starting staeemnts\"\n",
    "print \"Mobiles available in store:\\n1.Android\\n2.IOS\\n3.wondows\"\n",
    "opt=raw_input(\"Enter an option:\")\n",
    "if opt==\"1\":\n",
    "    print \"GOTO 1st FLOOR\"\n",
    "if opt==\"2\":\n",
    "    print \"GOTO 2nd FLOOR\"\n",
    "if opt==\"3\":\n",
    "    print \"GOTO 3rd FLOOR\"\n",
    "else:\n",
    "    print \"wrong option.\"\n",
    "print \"other statements in program.\"\n",
    "print \"program ended.\"\n"
   ]
  },
  {
   "cell_type": "code",
   "execution_count": 69,
   "metadata": {
    "collapsed": false
   },
   "outputs": [
    {
     "name": "stdout",
     "output_type": "stream",
     "text": [
      "starting staeemnts\n",
      "Mobiles available in store:\n",
      "1.Android\n",
      "2.IOS\n",
      "3.wondows\n",
      "Enter an option:1\n",
      "GOTO 1st FLOOR\n",
      "other statements in program.\n",
      "program ended.\n"
     ]
    }
   ],
   "source": [
    "\"\"\"\n",
    "Mobiles available in store:\n",
    "1.Android\n",
    "2.Ios\n",
    "3.Windows\n",
    "\n",
    "\"\"\"\n",
    "print \"starting staeemnts\"\n",
    "print \"Mobiles available in store:\\n1.Android\\n2.IOS\\n3.wondows\"\n",
    "opt=raw_input(\"Enter an option:\")\n",
    "if opt==\"1\":\n",
    "    print \"GOTO 1st FLOOR\"\n",
    "elif opt==\"2\":\n",
    "    print \"GOTO 2nd FLOOR\"\n",
    "elif opt==\"3\":\n",
    "    print \"GOTO 3rd FLOOR\"\n",
    "else:\n",
    "    print \"wrong option.\"\n",
    "print \"other statements in program.\"\n",
    "print \"program ended.\"\n"
   ]
  },
  {
   "cell_type": "code",
   "execution_count": 70,
   "metadata": {
    "collapsed": false
   },
   "outputs": [
    {
     "name": "stdout",
     "output_type": "stream",
     "text": [
      "starting staeemnts\n",
      "Mobiles available in store:\n",
      "1.Android\n",
      "2.IOS\n",
      "3.wondows\n",
      "Enter an option:2\n",
      "GOTO 2nd FLOOR\n",
      "other statements in program.\n",
      "program ended.\n"
     ]
    }
   ],
   "source": [
    "\"\"\"\n",
    "Mobiles available in store:\n",
    "1.Android\n",
    "2.Ios\n",
    "3.Windows\n",
    "\n",
    "\"\"\"\n",
    "print \"starting staeemnts\"\n",
    "print \"Mobiles available in store:\\n1.Android\\n2.IOS\\n3.wondows\"\n",
    "opt=raw_input(\"Enter an option:\")\n",
    "if opt==\"1\":\n",
    "    print \"GOTO 1st FLOOR\"\n",
    "elif opt==\"2\":\n",
    "    print \"GOTO 2nd FLOOR\"\n",
    "elif opt==\"3\":\n",
    "    print \"GOTO 3rd FLOOR\"\n",
    "else:\n",
    "    print \"wrong option.\"\n",
    "print \"other statements in program.\"\n",
    "print \"program ended.\"\n"
   ]
  },
  {
   "cell_type": "code",
   "execution_count": 71,
   "metadata": {
    "collapsed": false
   },
   "outputs": [
    {
     "name": "stdout",
     "output_type": "stream",
     "text": [
      "starting staeemnts\n",
      "Mobiles available in store:\n",
      "1.Android\n",
      "2.IOS\n",
      "3.wondows\n",
      "Enter an option:4\n",
      "wrong option.\n",
      "other statements in program.\n",
      "program ended.\n"
     ]
    }
   ],
   "source": [
    "\"\"\"\n",
    "Mobiles available in store:\n",
    "1.Android\n",
    "2.Ios\n",
    "3.Windows\n",
    "\n",
    "\"\"\"\n",
    "print \"starting staeemnts\"\n",
    "print \"Mobiles available in store:\\n1.Android\\n2.IOS\\n3.wondows\"\n",
    "opt=raw_input(\"Enter an option:\")\n",
    "if opt==\"1\":\n",
    "    print \"GOTO 1st FLOOR\"\n",
    "elif opt==\"2\":\n",
    "    print \"GOTO 2nd FLOOR\"\n",
    "elif opt==\"3\":\n",
    "    print \"GOTO 3rd FLOOR\"\n",
    "else:\n",
    "    print \"wrong option.\"\n",
    "print \"other statements in program.\"\n",
    "print \"program ended.\"\n"
   ]
  },
  {
   "cell_type": "code",
   "execution_count": null,
   "metadata": {
    "collapsed": true
   },
   "outputs": [],
   "source": [
    "# take the substring from the user and check whether it is ther in actual string or not\n",
    "# number: check even or odd\n",
    "# age: check the person eligible for voting shystem.\n",
    "# take age, height, weight cal BOM. take decision for healthy state.\n",
    "# take number of people. number of seats for a bus. Howmany buses required."
   ]
  }
 ],
 "metadata": {
  "kernelspec": {
   "display_name": "Python 2",
   "language": "python",
   "name": "python2"
  },
  "language_info": {
   "codemirror_mode": {
    "name": "ipython",
    "version": 2
   },
   "file_extension": ".py",
   "mimetype": "text/x-python",
   "name": "python",
   "nbconvert_exporter": "python",
   "pygments_lexer": "ipython2",
   "version": "2.7.13"
  }
 },
 "nbformat": 4,
 "nbformat_minor": 2
}
