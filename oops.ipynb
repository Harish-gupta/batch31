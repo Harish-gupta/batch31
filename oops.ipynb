{
 "cells": [
  {
   "cell_type": "code",
   "execution_count": 1,
   "metadata": {
    "collapsed": false
   },
   "outputs": [
    {
     "name": "stdout",
     "output_type": "stream",
     "text": [
      "30\n",
      "200\n"
     ]
    }
   ],
   "source": [
    "def add(a,b):\n",
    "    c=a+b\n",
    "    d=a+b+100\n",
    "    return c\n",
    "def mul(a,b):\n",
    "    c=a*b\n",
    "    d=a*b+100\n",
    "    return c\n",
    "print add(10,20)\n",
    "print mul(10,20)\n"
   ]
  },
  {
   "cell_type": "code",
   "execution_count": 2,
   "metadata": {
    "collapsed": true
   },
   "outputs": [],
   "source": [
    "class ClassName:\n",
    "    pass"
   ]
  },
  {
   "cell_type": "code",
   "execution_count": 4,
   "metadata": {
    "collapsed": true
   },
   "outputs": [],
   "source": [
    "class Emp:\n",
    "    def sal_cal():\n",
    "        pass\n",
    "    def leav():\n",
    "        pass\n",
    "    def attendance():\n",
    "        pass\n",
    "    def timesheet():\n",
    "        pass"
   ]
  },
  {
   "cell_type": "code",
   "execution_count": 5,
   "metadata": {
    "collapsed": false
   },
   "outputs": [
    {
     "data": {
      "text/plain": [
       "'Tcloud'"
      ]
     },
     "execution_count": 5,
     "metadata": {},
     "output_type": "execute_result"
    }
   ],
   "source": [
    "class Emp:\n",
    "    company_name=\"Tcloud\"\n",
    "Emp.company_name"
   ]
  },
  {
   "cell_type": "code",
   "execution_count": 6,
   "metadata": {
    "collapsed": false
   },
   "outputs": [
    {
     "name": "stdout",
     "output_type": "stream",
     "text": [
      "Tcloud\n"
     ]
    }
   ],
   "source": [
    "class Emp:\n",
    "    company_name=\"Tcloud\"\n",
    "print Emp.company_name"
   ]
  },
  {
   "cell_type": "code",
   "execution_count": 7,
   "metadata": {
    "collapsed": false
   },
   "outputs": [
    {
     "name": "stdout",
     "output_type": "stream",
     "text": [
      "Tcloud\n"
     ]
    },
    {
     "ename": "TypeError",
     "evalue": "unbound method sal_calc() must be called with Emp instance as first argument (got int instance instead)",
     "output_type": "error",
     "traceback": [
      "\u001b[0;31m---------------------------------------------------------------------------\u001b[0m",
      "\u001b[0;31mTypeError\u001b[0m                                 Traceback (most recent call last)",
      "\u001b[0;32m<ipython-input-7-9500353d040d>\u001b[0m in \u001b[0;36m<module>\u001b[0;34m()\u001b[0m\n\u001b[1;32m      7\u001b[0m \u001b[0;34m\u001b[0m\u001b[0m\n\u001b[1;32m      8\u001b[0m \u001b[0;32mprint\u001b[0m \u001b[0mEmp\u001b[0m\u001b[0;34m.\u001b[0m\u001b[0mcompany_name\u001b[0m\u001b[0;34m\u001b[0m\u001b[0m\n\u001b[0;32m----> 9\u001b[0;31m \u001b[0;32mprint\u001b[0m \u001b[0mEmp\u001b[0m\u001b[0;34m.\u001b[0m\u001b[0msal_calc\u001b[0m\u001b[0;34m(\u001b[0m\u001b[0;36m10000\u001b[0m\u001b[0;34m)\u001b[0m\u001b[0;34m\u001b[0m\u001b[0m\n\u001b[0m",
      "\u001b[0;31mTypeError\u001b[0m: unbound method sal_calc() must be called with Emp instance as first argument (got int instance instead)"
     ]
    }
   ],
   "source": [
    "class Emp:\n",
    "    company_name=\"Tcloud\"\n",
    "    sal_inc_per=10\n",
    "    def sal_calc(sal):\n",
    "        print \"sal calculation\"\n",
    "        return sal+sal*(sal_inc_per/100)\n",
    "\n",
    "print Emp.company_name\n",
    "print Emp.sal_calc(10000)"
   ]
  },
  {
   "cell_type": "code",
   "execution_count": 8,
   "metadata": {
    "collapsed": false
   },
   "outputs": [
    {
     "name": "stdout",
     "output_type": "stream",
     "text": [
      "Tcloud\n",
      "sal calculation\n"
     ]
    },
    {
     "ename": "NameError",
     "evalue": "global name 'sal_inc_per' is not defined",
     "output_type": "error",
     "traceback": [
      "\u001b[0;31m---------------------------------------------------------------------------\u001b[0m",
      "\u001b[0;31mNameError\u001b[0m                                 Traceback (most recent call last)",
      "\u001b[0;32m<ipython-input-8-fc6ea2cff09c>\u001b[0m in \u001b[0;36m<module>\u001b[0;34m()\u001b[0m\n\u001b[1;32m      8\u001b[0m \u001b[0;32mprint\u001b[0m \u001b[0mEmp\u001b[0m\u001b[0;34m.\u001b[0m\u001b[0mcompany_name\u001b[0m\u001b[0;34m\u001b[0m\u001b[0m\n\u001b[1;32m      9\u001b[0m \u001b[0msamba\u001b[0m \u001b[0;34m=\u001b[0m \u001b[0mEmp\u001b[0m\u001b[0;34m(\u001b[0m\u001b[0;34m)\u001b[0m\u001b[0;34m\u001b[0m\u001b[0m\n\u001b[0;32m---> 10\u001b[0;31m \u001b[0;32mprint\u001b[0m \u001b[0mEmp\u001b[0m\u001b[0;34m.\u001b[0m\u001b[0msal_calc\u001b[0m\u001b[0;34m(\u001b[0m\u001b[0msamba\u001b[0m\u001b[0;34m,\u001b[0m\u001b[0;36m10000\u001b[0m\u001b[0;34m)\u001b[0m\u001b[0;34m\u001b[0m\u001b[0m\n\u001b[0m",
      "\u001b[0;32m<ipython-input-8-fc6ea2cff09c>\u001b[0m in \u001b[0;36msal_calc\u001b[0;34m(inst, sal)\u001b[0m\n\u001b[1;32m      4\u001b[0m     \u001b[0;32mdef\u001b[0m \u001b[0msal_calc\u001b[0m\u001b[0;34m(\u001b[0m\u001b[0minst\u001b[0m\u001b[0;34m,\u001b[0m \u001b[0msal\u001b[0m\u001b[0;34m)\u001b[0m\u001b[0;34m:\u001b[0m\u001b[0;34m\u001b[0m\u001b[0m\n\u001b[1;32m      5\u001b[0m         \u001b[0;32mprint\u001b[0m \u001b[0;34m\"sal calculation\"\u001b[0m\u001b[0;34m\u001b[0m\u001b[0m\n\u001b[0;32m----> 6\u001b[0;31m         \u001b[0;32mreturn\u001b[0m \u001b[0msal\u001b[0m\u001b[0;34m+\u001b[0m\u001b[0msal\u001b[0m\u001b[0;34m*\u001b[0m\u001b[0;34m(\u001b[0m\u001b[0msal_inc_per\u001b[0m\u001b[0;34m/\u001b[0m\u001b[0;36m100\u001b[0m\u001b[0;34m)\u001b[0m\u001b[0;34m\u001b[0m\u001b[0m\n\u001b[0m\u001b[1;32m      7\u001b[0m \u001b[0;34m\u001b[0m\u001b[0m\n\u001b[1;32m      8\u001b[0m \u001b[0;32mprint\u001b[0m \u001b[0mEmp\u001b[0m\u001b[0;34m.\u001b[0m\u001b[0mcompany_name\u001b[0m\u001b[0;34m\u001b[0m\u001b[0m\n",
      "\u001b[0;31mNameError\u001b[0m: global name 'sal_inc_per' is not defined"
     ]
    }
   ],
   "source": [
    "class Emp:\n",
    "    company_name=\"Tcloud\"\n",
    "    sal_inc_per=10\n",
    "    def sal_calc(inst, sal):\n",
    "        print \"sal calculation\"\n",
    "        return sal+sal*(sal_inc_per/100)\n",
    "\n",
    "print Emp.company_name\n",
    "samba = Emp()\n",
    "print Emp.sal_calc(samba,10000)"
   ]
  },
  {
   "cell_type": "code",
   "execution_count": 10,
   "metadata": {
    "collapsed": false
   },
   "outputs": [
    {
     "name": "stdout",
     "output_type": "stream",
     "text": [
      "Tcloud\n",
      "sal calculation\n",
      "11000.0\n"
     ]
    }
   ],
   "source": [
    "class Emp:\n",
    "    company_name=\"Tcloud\"\n",
    "    sal_inc_per=10\n",
    "    def sal_calc(inst, sal):\n",
    "        print \"sal calculation\"\n",
    "        return sal+sal*(inst.sal_inc_per/100.0)\n",
    "\n",
    "print Emp.company_name\n",
    "samba = Emp()\n",
    "print Emp.sal_calc(samba,10000)"
   ]
  },
  {
   "cell_type": "code",
   "execution_count": 12,
   "metadata": {
    "collapsed": false
   },
   "outputs": [
    {
     "name": "stdout",
     "output_type": "stream",
     "text": [
      "Tcloud\n",
      "sal calculation\n",
      "samba\n",
      "10000\n",
      "123\n",
      "11000.0\n"
     ]
    }
   ],
   "source": [
    "class Emp:\n",
    "    company_name=\"Tcloud\"\n",
    "    sal_inc_per=10\n",
    "    def sal_calc(inst):\n",
    "        print \"sal calculation\"\n",
    "        print inst.name\n",
    "        print inst.sal\n",
    "        print inst.id\n",
    "        return inst.sal+inst.sal*(inst.sal_inc_per/100.0)\n",
    "    def get_emp(inst):\n",
    "        pass\n",
    "\n",
    "print Emp.company_name\n",
    "samba = Emp()\n",
    "samba.name=\"samba\"\n",
    "samba.sal=10000\n",
    "samba.id=123\n",
    "print Emp.sal_calc(samba)\n"
   ]
  },
  {
   "cell_type": "code",
   "execution_count": 13,
   "metadata": {
    "collapsed": false
   },
   "outputs": [
    {
     "name": "stdout",
     "output_type": "stream",
     "text": [
      "Tcloud\n",
      "sal calculation\n",
      "samba\n",
      "10000\n",
      "123\n",
      "11000.0\n",
      "sal calculation\n",
      "santhosh\n",
      "10000\n",
      "122\n",
      "11000.0\n",
      "('samba', 10000, 123)\n",
      "('santhosh', 10000, 122)\n"
     ]
    }
   ],
   "source": [
    "class Emp:\n",
    "    company_name=\"Tcloud\"\n",
    "    sal_inc_per=10\n",
    "    def sal_calc(inst):\n",
    "        print \"sal calculation\"\n",
    "        print inst.name\n",
    "        print inst.sal\n",
    "        print inst.id\n",
    "        return inst.sal+inst.sal*(inst.sal_inc_per/100.0)\n",
    "    def get_emp(inst):\n",
    "        return inst.name, inst.sal, inst.id\n",
    "\n",
    "print Emp.company_name\n",
    "samba = Emp()\n",
    "samba.name=\"samba\"\n",
    "samba.sal=10000\n",
    "samba.id=123\n",
    "santhosh = Emp()\n",
    "santhosh.name=\"santhosh\"\n",
    "santhosh.sal=10000\n",
    "santhosh.id=122\n",
    "print Emp.sal_calc(samba)\n",
    "print Emp.sal_calc(santhosh)\n",
    "print Emp.get_emp(samba)\n",
    "print Emp.get_emp(santhosh)\n"
   ]
  },
  {
   "cell_type": "code",
   "execution_count": 14,
   "metadata": {
    "collapsed": false
   },
   "outputs": [
    {
     "name": "stdout",
     "output_type": "stream",
     "text": [
      "Tcloud\n",
      "sal calculation\n",
      "samba\n",
      "10000\n",
      "123\n",
      "11000.0\n",
      "sal calculation\n",
      "santhosh\n",
      "10000\n",
      "122\n",
      "11000.0\n",
      "('samba', 10000, 123)\n",
      "('santhosh', 10000, 122)\n"
     ]
    }
   ],
   "source": [
    "class Emp:\n",
    "    company_name=\"Tcloud\"\n",
    "    sal_inc_per=10\n",
    "    def sal_calc(inst):\n",
    "        print \"sal calculation\"\n",
    "        print inst.name\n",
    "        print inst.sal\n",
    "        print inst.id\n",
    "        return inst.sal+inst.sal*(inst.sal_inc_per/100.0)\n",
    "    def get_emp(inst):\n",
    "        return inst.name, inst.sal, inst.id\n",
    "\n",
    "print Emp.company_name\n",
    "samba = Emp()\n",
    "samba.name=\"samba\"\n",
    "samba.sal=10000\n",
    "samba.id=123\n",
    "santhosh = Emp()\n",
    "santhosh.name=\"santhosh\"\n",
    "santhosh.sal=10000\n",
    "santhosh.id=122\n",
    "print samba.sal_calc()\n",
    "print santhosh.sal_calc()\n",
    "print samba.get_emp()\n",
    "print santhosh.get_emp()\n"
   ]
  },
  {
   "cell_type": "code",
   "execution_count": 15,
   "metadata": {
    "collapsed": false
   },
   "outputs": [
    {
     "name": "stdout",
     "output_type": "stream",
     "text": [
      "Tcloud\n",
      "sal calculation\n",
      "samba\n",
      "10000\n",
      "123\n",
      "11000.0\n",
      "sal calculation\n",
      "santhosh\n",
      "10000\n",
      "122\n",
      "11000.0\n",
      "('samba', 10000, 123)\n",
      "('santhosh', 10000, 122)\n"
     ]
    }
   ],
   "source": [
    "class Emp:\n",
    "    company_name=\"Tcloud\"\n",
    "    sal_inc_per=10\n",
    "    def sal_calc(self):\n",
    "        print \"sal calculation\"\n",
    "        print self.name\n",
    "        print self.sal\n",
    "        print self.id\n",
    "        return self.sal+self.sal*(self.sal_inc_per/100.0)\n",
    "    def get_emp(self):\n",
    "        return self.name, self.sal, self.id\n",
    "\n",
    "print Emp.company_name\n",
    "samba = Emp()\n",
    "samba.name=\"samba\"\n",
    "samba.sal=10000\n",
    "samba.id=123\n",
    "santhosh = Emp()\n",
    "santhosh.name=\"santhosh\"\n",
    "santhosh.sal=10000\n",
    "santhosh.id=122\n",
    "print samba.sal_calc()\n",
    "print santhosh.sal_calc()\n",
    "print samba.get_emp()\n",
    "print santhosh.get_emp()\n"
   ]
  },
  {
   "cell_type": "code",
   "execution_count": 16,
   "metadata": {
    "collapsed": false
   },
   "outputs": [
    {
     "name": "stdout",
     "output_type": "stream",
     "text": [
      "Tcloud\n",
      "11000.0\n",
      "11000.0\n",
      "('samba', 10000, 123)\n",
      "('santhosh', 10000, 124)\n"
     ]
    }
   ],
   "source": [
    "class Emp:\n",
    "    company_name=\"Tcloud\"\n",
    "    sal_inc_per=10\n",
    "    def set_emp(self, name, sal, e_id):\n",
    "        self.sal=sal\n",
    "        self.name=name\n",
    "        self.id=e_id\n",
    "    def sal_calc(self):\n",
    "        return self.sal+self.sal*(self.sal_inc_per/100.0)\n",
    "    def get_emp(self):\n",
    "        return self.name, self.sal, self.id\n",
    "\n",
    "print Emp.company_name\n",
    "samba = Emp()\n",
    "Emp.set_emp(samba, 'samba', 10000, 123)\n",
    "santhosh = Emp()\n",
    "santhosh.set_emp('santhosh',10000,124)\n",
    "print samba.sal_calc()\n",
    "print santhosh.sal_calc()\n",
    "print samba.get_emp()\n",
    "print santhosh.get_emp()\n"
   ]
  },
  {
   "cell_type": "code",
   "execution_count": 17,
   "metadata": {
    "collapsed": false
   },
   "outputs": [
    {
     "name": "stdout",
     "output_type": "stream",
     "text": [
      "Tcloud\n",
      "11000.0\n",
      "22000.0\n",
      "('samba', 10000, 123)\n",
      "('santhosh', 20000, 124)\n"
     ]
    },
    {
     "ename": "AttributeError",
     "evalue": "Emp instance has no attribute 'sal'",
     "output_type": "error",
     "traceback": [
      "\u001b[0;31m---------------------------------------------------------------------------\u001b[0m",
      "\u001b[0;31mAttributeError\u001b[0m                            Traceback (most recent call last)",
      "\u001b[0;32m<ipython-input-17-087758222c9c>\u001b[0m in \u001b[0;36m<module>\u001b[0;34m()\u001b[0m\n\u001b[1;32m     21\u001b[0m \u001b[0;32mprint\u001b[0m \u001b[0msamba\u001b[0m\u001b[0;34m.\u001b[0m\u001b[0mget_emp\u001b[0m\u001b[0;34m(\u001b[0m\u001b[0;34m)\u001b[0m\u001b[0;34m\u001b[0m\u001b[0m\n\u001b[1;32m     22\u001b[0m \u001b[0;32mprint\u001b[0m \u001b[0msanthosh\u001b[0m\u001b[0;34m.\u001b[0m\u001b[0mget_emp\u001b[0m\u001b[0;34m(\u001b[0m\u001b[0;34m)\u001b[0m\u001b[0;34m\u001b[0m\u001b[0m\n\u001b[0;32m---> 23\u001b[0;31m \u001b[0;32mprint\u001b[0m \u001b[0mpradeep\u001b[0m\u001b[0;34m.\u001b[0m\u001b[0msal_calc\u001b[0m\u001b[0;34m(\u001b[0m\u001b[0;34m)\u001b[0m\u001b[0;34m\u001b[0m\u001b[0m\n\u001b[0m",
      "\u001b[0;32m<ipython-input-17-087758222c9c>\u001b[0m in \u001b[0;36msal_calc\u001b[0;34m(self)\u001b[0m\n\u001b[1;32m      7\u001b[0m         \u001b[0mself\u001b[0m\u001b[0;34m.\u001b[0m\u001b[0mid\u001b[0m\u001b[0;34m=\u001b[0m\u001b[0me_id\u001b[0m\u001b[0;34m\u001b[0m\u001b[0m\n\u001b[1;32m      8\u001b[0m     \u001b[0;32mdef\u001b[0m \u001b[0msal_calc\u001b[0m\u001b[0;34m(\u001b[0m\u001b[0mself\u001b[0m\u001b[0;34m)\u001b[0m\u001b[0;34m:\u001b[0m\u001b[0;34m\u001b[0m\u001b[0m\n\u001b[0;32m----> 9\u001b[0;31m         \u001b[0;32mreturn\u001b[0m \u001b[0mself\u001b[0m\u001b[0;34m.\u001b[0m\u001b[0msal\u001b[0m\u001b[0;34m+\u001b[0m\u001b[0mself\u001b[0m\u001b[0;34m.\u001b[0m\u001b[0msal\u001b[0m\u001b[0;34m*\u001b[0m\u001b[0;34m(\u001b[0m\u001b[0mself\u001b[0m\u001b[0;34m.\u001b[0m\u001b[0msal_inc_per\u001b[0m\u001b[0;34m/\u001b[0m\u001b[0;36m100.0\u001b[0m\u001b[0;34m)\u001b[0m\u001b[0;34m\u001b[0m\u001b[0m\n\u001b[0m\u001b[1;32m     10\u001b[0m     \u001b[0;32mdef\u001b[0m \u001b[0mget_emp\u001b[0m\u001b[0;34m(\u001b[0m\u001b[0mself\u001b[0m\u001b[0;34m)\u001b[0m\u001b[0;34m:\u001b[0m\u001b[0;34m\u001b[0m\u001b[0m\n\u001b[1;32m     11\u001b[0m         \u001b[0;32mreturn\u001b[0m \u001b[0mself\u001b[0m\u001b[0;34m.\u001b[0m\u001b[0mname\u001b[0m\u001b[0;34m,\u001b[0m \u001b[0mself\u001b[0m\u001b[0;34m.\u001b[0m\u001b[0msal\u001b[0m\u001b[0;34m,\u001b[0m \u001b[0mself\u001b[0m\u001b[0;34m.\u001b[0m\u001b[0mid\u001b[0m\u001b[0;34m\u001b[0m\u001b[0m\n",
      "\u001b[0;31mAttributeError\u001b[0m: Emp instance has no attribute 'sal'"
     ]
    }
   ],
   "source": [
    "class Emp:\n",
    "    company_name=\"Tcloud\"\n",
    "    sal_inc_per=10\n",
    "    def set_emp(self, name, sal, e_id):\n",
    "        self.sal=sal\n",
    "        self.name=name\n",
    "        self.id=e_id\n",
    "    def sal_calc(self):\n",
    "        return self.sal+self.sal*(self.sal_inc_per/100.0)\n",
    "    def get_emp(self):\n",
    "        return self.name, self.sal, self.id\n",
    "\n",
    "print Emp.company_name\n",
    "samba = Emp()\n",
    "Emp.set_emp(samba, 'samba', 10000, 123)\n",
    "santhosh = Emp()\n",
    "santhosh.set_emp('santhosh',20000,124)\n",
    "pradeep = Emp()\n",
    "print samba.sal_calc()\n",
    "print santhosh.sal_calc()\n",
    "print samba.get_emp()\n",
    "print santhosh.get_emp()\n",
    "print pradeep.sal_calc()\n"
   ]
  },
  {
   "cell_type": "code",
   "execution_count": 18,
   "metadata": {
    "collapsed": false
   },
   "outputs": [
    {
     "name": "stdout",
     "output_type": "stream",
     "text": [
      "Tcloud\n",
      "11000.0\n",
      "22000.0\n",
      "('samba', 10000, 123)\n",
      "('santhosh', 20000, 124)\n",
      "16500.0\n"
     ]
    }
   ],
   "source": [
    "class Emp:\n",
    "    company_name=\"Tcloud\"\n",
    "    sal_inc_per=10\n",
    "    def set_emp(self, name, sal, e_id):\n",
    "        self.sal=sal\n",
    "        self.name=name\n",
    "        self.id=e_id\n",
    "    def sal_calc(self):\n",
    "        return self.sal+self.sal*(self.sal_inc_per/100.0)\n",
    "    def get_emp(self):\n",
    "        return self.name, self.sal, self.id\n",
    "\n",
    "print Emp.company_name\n",
    "samba = Emp()\n",
    "Emp.set_emp(samba, 'samba', 10000, 123)\n",
    "santhosh = Emp()\n",
    "santhosh.set_emp('santhosh',20000,124)\n",
    "pradeep = Emp()\n",
    "print samba.sal_calc()\n",
    "print santhosh.sal_calc()\n",
    "print samba.get_emp()\n",
    "print santhosh.get_emp()\n",
    "pradeep.set_emp(\"pradeep\",15000,125)\n",
    "print pradeep.sal_calc()\n"
   ]
  },
  {
   "cell_type": "code",
   "execution_count": 19,
   "metadata": {
    "collapsed": false
   },
   "outputs": [
    {
     "name": "stdout",
     "output_type": "stream",
     "text": [
      "constructor\n"
     ]
    }
   ],
   "source": [
    "class Emp:\n",
    "    def __init__(self):\n",
    "        print \"constructor\"\n",
    "        \n",
    "    def set_emp(self):\n",
    "        print \"set emp details\"\n",
    "        \n",
    "samba = Emp()"
   ]
  },
  {
   "cell_type": "code",
   "execution_count": 20,
   "metadata": {
    "collapsed": false
   },
   "outputs": [
    {
     "ename": "TypeError",
     "evalue": "__init__() takes exactly 4 arguments (1 given)",
     "output_type": "error",
     "traceback": [
      "\u001b[0;31m---------------------------------------------------------------------------\u001b[0m",
      "\u001b[0;31mTypeError\u001b[0m                                 Traceback (most recent call last)",
      "\u001b[0;32m<ipython-input-20-defcbb982e65>\u001b[0m in \u001b[0;36m<module>\u001b[0;34m()\u001b[0m\n\u001b[1;32m      8\u001b[0m         \u001b[0;32mprint\u001b[0m \u001b[0;34m\"set emp details\"\u001b[0m\u001b[0;34m\u001b[0m\u001b[0m\n\u001b[1;32m      9\u001b[0m \u001b[0;34m\u001b[0m\u001b[0m\n\u001b[0;32m---> 10\u001b[0;31m \u001b[0msamba\u001b[0m \u001b[0;34m=\u001b[0m \u001b[0mEmp\u001b[0m\u001b[0;34m(\u001b[0m\u001b[0;34m)\u001b[0m\u001b[0;34m\u001b[0m\u001b[0m\n\u001b[0m",
      "\u001b[0;31mTypeError\u001b[0m: __init__() takes exactly 4 arguments (1 given)"
     ]
    }
   ],
   "source": [
    "class Emp:\n",
    "    def __init__(self, name, sal, e_id):\n",
    "        self.sal=sal\n",
    "        self.name=name\n",
    "        self.id=e_id\n",
    "        \n",
    "    def set_emp(self):\n",
    "        print \"set emp details\"\n",
    "        \n",
    "samba = Emp()"
   ]
  },
  {
   "cell_type": "code",
   "execution_count": 21,
   "metadata": {
    "collapsed": false
   },
   "outputs": [
    {
     "name": "stdout",
     "output_type": "stream",
     "text": [
      "('Pradeep', 12000, 124)\n"
     ]
    }
   ],
   "source": [
    "class Emp:\n",
    "    def __init__(self, name, sal, e_id):\n",
    "        self.sal=sal\n",
    "        self.name=name\n",
    "        self.id=e_id\n",
    "    def get(self):\n",
    "        return self.name, self.sal, self.id\n",
    "        \n",
    "samba = Emp('samba',10000,123)\n",
    "santhosh=Emp(\"santhosh\",20000,122)\n",
    "pradeep = Emp(\"Pradeep\",12000,124)\n",
    "print pradeep.get()"
   ]
  },
  {
   "cell_type": "code",
   "execution_count": 22,
   "metadata": {
    "collapsed": false
   },
   "outputs": [
    {
     "ename": "TypeError",
     "evalue": "this constructor takes no arguments",
     "output_type": "error",
     "traceback": [
      "\u001b[0;31m---------------------------------------------------------------------------\u001b[0m",
      "\u001b[0;31mTypeError\u001b[0m                                 Traceback (most recent call last)",
      "\u001b[0;32m<ipython-input-22-cddfec2dc7fc>\u001b[0m in \u001b[0;36m<module>\u001b[0;34m()\u001b[0m\n\u001b[1;32m      7\u001b[0m         \u001b[0;32mreturn\u001b[0m \u001b[0mself\u001b[0m\u001b[0;34m.\u001b[0m\u001b[0mname\u001b[0m\u001b[0;34m,\u001b[0m \u001b[0mself\u001b[0m\u001b[0;34m.\u001b[0m\u001b[0msal\u001b[0m\u001b[0;34m,\u001b[0m \u001b[0mself\u001b[0m\u001b[0;34m.\u001b[0m\u001b[0mid\u001b[0m\u001b[0;34m\u001b[0m\u001b[0m\n\u001b[1;32m      8\u001b[0m \u001b[0;34m\u001b[0m\u001b[0m\n\u001b[0;32m----> 9\u001b[0;31m \u001b[0msamba\u001b[0m \u001b[0;34m=\u001b[0m \u001b[0mEmp\u001b[0m\u001b[0;34m(\u001b[0m\u001b[0;34m'samba'\u001b[0m\u001b[0;34m,\u001b[0m\u001b[0;36m10000\u001b[0m\u001b[0;34m,\u001b[0m\u001b[0;36m123\u001b[0m\u001b[0;34m)\u001b[0m\u001b[0;34m\u001b[0m\u001b[0m\n\u001b[0m\u001b[1;32m     10\u001b[0m \u001b[0msanthosh\u001b[0m\u001b[0;34m=\u001b[0m\u001b[0mEmp\u001b[0m\u001b[0;34m(\u001b[0m\u001b[0;34m\"santhosh\"\u001b[0m\u001b[0;34m,\u001b[0m\u001b[0;36m20000\u001b[0m\u001b[0;34m,\u001b[0m\u001b[0;36m122\u001b[0m\u001b[0;34m)\u001b[0m\u001b[0;34m\u001b[0m\u001b[0m\n\u001b[1;32m     11\u001b[0m \u001b[0mpradeep\u001b[0m \u001b[0;34m=\u001b[0m \u001b[0mEmp\u001b[0m\u001b[0;34m(\u001b[0m\u001b[0;34m\"Pradeep\"\u001b[0m\u001b[0;34m,\u001b[0m\u001b[0;36m12000\u001b[0m\u001b[0;34m,\u001b[0m\u001b[0;36m124\u001b[0m\u001b[0;34m)\u001b[0m\u001b[0;34m\u001b[0m\u001b[0m\n",
      "\u001b[0;31mTypeError\u001b[0m: this constructor takes no arguments"
     ]
    }
   ],
   "source": [
    "class Emp:\n",
    "    def set_emp(self, name, sal, e_id):\n",
    "        self.sal=sal\n",
    "        self.name=name\n",
    "        self.id=e_id\n",
    "    def get(self):\n",
    "        return self.name, self.sal, self.id\n",
    "        \n",
    "samba = Emp('samba',10000,123)\n",
    "santhosh=Emp(\"santhosh\",20000,122)\n",
    "pradeep = Emp(\"Pradeep\",12000,124)\n",
    "print pradeep.get()"
   ]
  },
  {
   "cell_type": "code",
   "execution_count": 23,
   "metadata": {
    "collapsed": true
   },
   "outputs": [],
   "source": [
    "l=[1,2,3,4]\n",
    "l.append(10)"
   ]
  },
  {
   "cell_type": "code",
   "execution_count": null,
   "metadata": {
    "collapsed": true
   },
   "outputs": [],
   "source": [
    "\n",
    "    "
   ]
  }
 ],
 "metadata": {
  "kernelspec": {
   "display_name": "Python 2",
   "language": "python",
   "name": "python2"
  },
  "language_info": {
   "codemirror_mode": {
    "name": "ipython",
    "version": 2
   },
   "file_extension": ".py",
   "mimetype": "text/x-python",
   "name": "python",
   "nbconvert_exporter": "python",
   "pygments_lexer": "ipython2",
   "version": "2.7.13"
  }
 },
 "nbformat": 4,
 "nbformat_minor": 2
}
