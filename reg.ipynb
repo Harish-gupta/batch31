{
 "cells": [
  {
   "cell_type": "code",
   "execution_count": 1,
   "metadata": {
    "collapsed": true
   },
   "outputs": [],
   "source": [
    "data = open(\"data_reg.csv\").read()"
   ]
  },
  {
   "cell_type": "code",
   "execution_count": 2,
   "metadata": {
    "collapsed": false
   },
   "outputs": [
    {
     "data": {
      "text/plain": [
       "'id,name,cell,email\\n1,name1,9876545678,email1@gmail.com\\n2,name2,9876545679,email2@yahoo.com\\n3,name3,9876545680,eMail3@outlook.co.in\\n4,name4,9876545681,Email4@rediff.com'"
      ]
     },
     "execution_count": 2,
     "metadata": {},
     "output_type": "execute_result"
    }
   ],
   "source": [
    "data"
   ]
  },
  {
   "cell_type": "code",
   "execution_count": 3,
   "metadata": {
    "collapsed": false
   },
   "outputs": [
    {
     "name": "stdout",
     "output_type": "stream",
     "text": [
      "id,name,cell,email\n",
      "1,name1,9876545678,email1@gmail.com\n",
      "2,name2,9876545679,email2@yahoo.com\n",
      "3,name3,9876545680,eMail3@outlook.co.in\n",
      "4,name4,9876545681,Email4@rediff.com\n"
     ]
    }
   ],
   "source": [
    "print data"
   ]
  },
  {
   "cell_type": "code",
   "execution_count": 5,
   "metadata": {
    "collapsed": false
   },
   "outputs": [
    {
     "name": "stdout",
     "output_type": "stream",
     "text": [
      "id,name,cell,email\n",
      "1,name1,9876545678,email1@gmail.com\n",
      "2,name2,9876545679,email2@yahoo.com\n",
      "3,name3,9876545680,eMail3@outlook.co.in\n",
      "4,name4,9876545681,Email4@rediff.com\n"
     ]
    }
   ],
   "source": [
    "for row in data.splitlines():\n",
    "    print row"
   ]
  },
  {
   "cell_type": "code",
   "execution_count": 7,
   "metadata": {
    "collapsed": false
   },
   "outputs": [
    {
     "name": "stdout",
     "output_type": "stream",
     "text": [
      "['id', 'name', 'cell', 'email']\n",
      "['1', 'name1', '9876545678', 'email1@gmail.com']\n",
      "['2', 'name2', '9876545679', 'email2@yahoo.com']\n",
      "['3', 'name3', '9876545680', 'eMail3@outlook.co.in']\n",
      "['4', 'name4', '9876545681', 'Email4@rediff.com']\n"
     ]
    }
   ],
   "source": [
    "for row in data.splitlines():\n",
    "    print row.split(',')"
   ]
  },
  {
   "cell_type": "code",
   "execution_count": 8,
   "metadata": {
    "collapsed": false
   },
   "outputs": [
    {
     "name": "stdout",
     "output_type": "stream",
     "text": [
      "email\n",
      "email1@gmail.com\n",
      "email2@yahoo.com\n",
      "eMail3@outlook.co.in\n",
      "Email4@rediff.com\n"
     ]
    }
   ],
   "source": [
    "for row in data.splitlines():\n",
    "    print row.split(',')[-1]"
   ]
  },
  {
   "cell_type": "code",
   "execution_count": 9,
   "metadata": {
    "collapsed": false
   },
   "outputs": [
    {
     "name": "stdout",
     "output_type": "stream",
     "text": [
      "['1', 'name1', '9876545678', 'email1@gmail.com']\n",
      "['email2@yahoo.com', ' 2', 'name2', '9876545679']\n",
      "['9876545680', '3', 'name3', 'eMail3@outlook.co.in']\n",
      "['name4', '4', '9876545681', 'Email4@rediff.com']\n"
     ]
    }
   ],
   "source": [
    "data = open(\"data_reg1.csv\").read()\n",
    "for row in data.splitlines():\n",
    "    print row.split(',')"
   ]
  },
  {
   "cell_type": "code",
   "execution_count": 10,
   "metadata": {
    "collapsed": false
   },
   "outputs": [
    {
     "name": "stdout",
     "output_type": "stream",
     "text": [
      "9876545678\n",
      "name2\n",
      "name3\n",
      "9876545681\n"
     ]
    }
   ],
   "source": [
    "data = open(\"data_reg1.csv\").read()\n",
    "for row in data.splitlines():\n",
    "    print row.split(',')[2]"
   ]
  },
  {
   "cell_type": "code",
   "execution_count": 11,
   "metadata": {
    "collapsed": false
   },
   "outputs": [
    {
     "data": {
      "text/plain": [
       "['9876545678', '9876545679', '9876545680', '9876545681']"
      ]
     },
     "execution_count": 11,
     "metadata": {},
     "output_type": "execute_result"
    }
   ],
   "source": [
    "import re\n",
    "data = open(\"data_reg1.csv\").read()\n",
    "re.findall('[0-9]{10}',data)"
   ]
  },
  {
   "cell_type": "code",
   "execution_count": 12,
   "metadata": {
    "collapsed": true
   },
   "outputs": [],
   "source": [
    "# [].{}+?*^$"
   ]
  },
  {
   "cell_type": "code",
   "execution_count": 13,
   "metadata": {
    "collapsed": false
   },
   "outputs": [
    {
     "data": {
      "text/plain": [
       "['a', 'a', 'a', 'c', 'a', 'a', 'c', 'a', 'a', 'a', 'c', 'a', 'a', 'c']"
      ]
     },
     "execution_count": 13,
     "metadata": {},
     "output_type": "execute_result"
    }
   ],
   "source": [
    "import re\n",
    "data = open(\"data_reg1.csv\").read()\n",
    "re.findall('[abc]',data)"
   ]
  },
  {
   "cell_type": "code",
   "execution_count": 14,
   "metadata": {
    "collapsed": false
   },
   "outputs": [
    {
     "data": {
      "text/plain": [
       "['n',\n",
       " 'a',\n",
       " 'm',\n",
       " 'e',\n",
       " 'e',\n",
       " 'm',\n",
       " 'a',\n",
       " 'i',\n",
       " 'l',\n",
       " 'g',\n",
       " 'm',\n",
       " 'a',\n",
       " 'i',\n",
       " 'l',\n",
       " 'c',\n",
       " 'o',\n",
       " 'm',\n",
       " 'e',\n",
       " 'm',\n",
       " 'a',\n",
       " 'i',\n",
       " 'l',\n",
       " 'y',\n",
       " 'a',\n",
       " 'h',\n",
       " 'o',\n",
       " 'o',\n",
       " 'c',\n",
       " 'o',\n",
       " 'm',\n",
       " 'n',\n",
       " 'a',\n",
       " 'm',\n",
       " 'e',\n",
       " 'n',\n",
       " 'a',\n",
       " 'm',\n",
       " 'e',\n",
       " 'e',\n",
       " 'a',\n",
       " 'i',\n",
       " 'l',\n",
       " 'o',\n",
       " 'u',\n",
       " 't',\n",
       " 'l',\n",
       " 'o',\n",
       " 'o',\n",
       " 'k',\n",
       " 'c',\n",
       " 'o',\n",
       " 'i',\n",
       " 'n',\n",
       " 'n',\n",
       " 'a',\n",
       " 'm',\n",
       " 'e',\n",
       " 'm',\n",
       " 'a',\n",
       " 'i',\n",
       " 'l',\n",
       " 'r',\n",
       " 'e',\n",
       " 'd',\n",
       " 'i',\n",
       " 'f',\n",
       " 'f',\n",
       " 'c',\n",
       " 'o',\n",
       " 'm']"
      ]
     },
     "execution_count": 14,
     "metadata": {},
     "output_type": "execute_result"
    }
   ],
   "source": [
    "import re\n",
    "data = open(\"data_reg1.csv\").read()\n",
    "re.findall('[a-z]',data)"
   ]
  },
  {
   "cell_type": "code",
   "execution_count": 18,
   "metadata": {
    "collapsed": false
   },
   "outputs": [
    {
     "data": {
      "text/plain": [
       "['e1', 'l1', 'l2', 'e2', 'e3', 'l3', 'e4']"
      ]
     },
     "execution_count": 18,
     "metadata": {},
     "output_type": "execute_result"
    }
   ],
   "source": [
    "import re\n",
    "data = open(\"data_reg1.csv\").read()\n",
    "re.findall('[a-z][0-9]',data)"
   ]
  },
  {
   "cell_type": "code",
   "execution_count": 17,
   "metadata": {
    "collapsed": false
   },
   "outputs": [
    {
     "data": {
      "text/plain": [
       "['e1', 'l1', 'l2', 'e2', 'e3', 'l3', 'e4', 'L4']"
      ]
     },
     "execution_count": 17,
     "metadata": {},
     "output_type": "execute_result"
    }
   ],
   "source": [
    "import re\n",
    "data = open(\"data_reg1.csv\").read()\n",
    "re.findall('[a-zA-Z][0-9]',data)"
   ]
  },
  {
   "cell_type": "code",
   "execution_count": 19,
   "metadata": {
    "collapsed": false
   },
   "outputs": [
    {
     "data": {
      "text/plain": [
       "['e1', 'l1', 'l2', 'e2', 'e3', 'l3', 'e4', 'L4']"
      ]
     },
     "execution_count": 19,
     "metadata": {},
     "output_type": "execute_result"
    }
   ],
   "source": [
    "import re\n",
    "data = open(\"data_reg1.csv\").read()\n",
    "re.findall('[a-z][0-9]',data,re.I)"
   ]
  },
  {
   "cell_type": "code",
   "execution_count": 20,
   "metadata": {
    "collapsed": false
   },
   "outputs": [
    {
     "data": {
      "text/plain": [
       "['98',\n",
       " '76',\n",
       " '54',\n",
       " '56',\n",
       " '78',\n",
       " '98',\n",
       " '76',\n",
       " '54',\n",
       " '56',\n",
       " '79',\n",
       " '98',\n",
       " '76',\n",
       " '54',\n",
       " '56',\n",
       " '80',\n",
       " '98',\n",
       " '76',\n",
       " '54',\n",
       " '56',\n",
       " '81']"
      ]
     },
     "execution_count": 20,
     "metadata": {},
     "output_type": "execute_result"
    }
   ],
   "source": [
    "import re\n",
    "data = open(\"data_reg1.csv\").read()\n",
    "re.findall('[0-9]{2}',data,re.I)"
   ]
  },
  {
   "cell_type": "code",
   "execution_count": 21,
   "metadata": {
    "collapsed": false
   },
   "outputs": [
    {
     "data": {
      "text/plain": [
       "['98765', '45678', '98765', '45679', '98765', '45680', '98765', '45681']"
      ]
     },
     "execution_count": 21,
     "metadata": {},
     "output_type": "execute_result"
    }
   ],
   "source": [
    "import re\n",
    "data = open(\"data_reg1.csv\").read()\n",
    "re.findall('[0-9]{2,5}',data,re.I)"
   ]
  },
  {
   "cell_type": "code",
   "execution_count": 22,
   "metadata": {
    "collapsed": false
   },
   "outputs": [
    {
     "data": {
      "text/plain": [
       "['1',\n",
       " '1',\n",
       " '98765',\n",
       " '45678',\n",
       " '1',\n",
       " '2',\n",
       " '2',\n",
       " '2',\n",
       " '98765',\n",
       " '45679',\n",
       " '98765',\n",
       " '45680',\n",
       " '3',\n",
       " '3',\n",
       " '3',\n",
       " '4',\n",
       " '4',\n",
       " '98765',\n",
       " '45681',\n",
       " '4']"
      ]
     },
     "execution_count": 22,
     "metadata": {},
     "output_type": "execute_result"
    }
   ],
   "source": [
    "import re\n",
    "data = open(\"data_reg1.csv\").read()\n",
    "re.findall('[0-9]{1,5}',data,re.I)"
   ]
  },
  {
   "cell_type": "code",
   "execution_count": 23,
   "metadata": {
    "collapsed": false
   },
   "outputs": [
    {
     "data": {
      "text/plain": [
       "['1',\n",
       " '1',\n",
       " '9876545678',\n",
       " '1',\n",
       " '2',\n",
       " '2',\n",
       " '2',\n",
       " '9876545679',\n",
       " '9876545680',\n",
       " '3',\n",
       " '3',\n",
       " '3',\n",
       " '4',\n",
       " '4',\n",
       " '9876545681',\n",
       " '4']"
      ]
     },
     "execution_count": 23,
     "metadata": {},
     "output_type": "execute_result"
    }
   ],
   "source": [
    "import re\n",
    "data = open(\"data_reg1.csv\").read()\n",
    "re.findall('[0-9]{1,}',data,re.I)"
   ]
  },
  {
   "cell_type": "code",
   "execution_count": 24,
   "metadata": {
    "collapsed": false
   },
   "outputs": [
    {
     "data": {
      "text/plain": [
       "['1',\n",
       " '1',\n",
       " '9876545678',\n",
       " '1',\n",
       " '2',\n",
       " '2',\n",
       " '2',\n",
       " '9876545679',\n",
       " '9876545680',\n",
       " '3',\n",
       " '3',\n",
       " '3',\n",
       " '4',\n",
       " '4',\n",
       " '9876545681',\n",
       " '4']"
      ]
     },
     "execution_count": 24,
     "metadata": {},
     "output_type": "execute_result"
    }
   ],
   "source": [
    "import re\n",
    "data = open(\"data_reg1.csv\").read()\n",
    "re.findall('[0-9]+',data,re.I)"
   ]
  },
  {
   "cell_type": "code",
   "execution_count": 25,
   "metadata": {
    "collapsed": false
   },
   "outputs": [
    {
     "data": {
      "text/plain": [
       "['1',\n",
       " '',\n",
       " '',\n",
       " '',\n",
       " '',\n",
       " '',\n",
       " '1',\n",
       " '',\n",
       " '9876545678',\n",
       " '',\n",
       " '',\n",
       " '',\n",
       " '',\n",
       " '',\n",
       " '',\n",
       " '1',\n",
       " '',\n",
       " '',\n",
       " '',\n",
       " '',\n",
       " '',\n",
       " '',\n",
       " '',\n",
       " '',\n",
       " '',\n",
       " '',\n",
       " '',\n",
       " '',\n",
       " '',\n",
       " '',\n",
       " '',\n",
       " '',\n",
       " '2',\n",
       " '',\n",
       " '',\n",
       " '',\n",
       " '',\n",
       " '',\n",
       " '',\n",
       " '',\n",
       " '',\n",
       " '',\n",
       " '',\n",
       " '',\n",
       " '',\n",
       " '2',\n",
       " '',\n",
       " '',\n",
       " '',\n",
       " '',\n",
       " '',\n",
       " '2',\n",
       " '',\n",
       " '9876545679',\n",
       " '',\n",
       " '9876545680',\n",
       " '',\n",
       " '3',\n",
       " '',\n",
       " '',\n",
       " '',\n",
       " '',\n",
       " '',\n",
       " '3',\n",
       " '',\n",
       " '',\n",
       " '',\n",
       " '',\n",
       " '',\n",
       " '',\n",
       " '3',\n",
       " '',\n",
       " '',\n",
       " '',\n",
       " '',\n",
       " '',\n",
       " '',\n",
       " '',\n",
       " '',\n",
       " '',\n",
       " '',\n",
       " '',\n",
       " '',\n",
       " '',\n",
       " '',\n",
       " '',\n",
       " '',\n",
       " '',\n",
       " '',\n",
       " '',\n",
       " '4',\n",
       " '',\n",
       " '4',\n",
       " '',\n",
       " '9876545681',\n",
       " '',\n",
       " '',\n",
       " '',\n",
       " '',\n",
       " '',\n",
       " '',\n",
       " '4',\n",
       " '',\n",
       " '',\n",
       " '',\n",
       " '',\n",
       " '',\n",
       " '',\n",
       " '',\n",
       " '',\n",
       " '',\n",
       " '',\n",
       " '',\n",
       " '']"
      ]
     },
     "execution_count": 25,
     "metadata": {},
     "output_type": "execute_result"
    }
   ],
   "source": [
    "import re\n",
    "data = open(\"data_reg1.csv\").read()\n",
    "re.findall('[0-9]*',data,re.I)"
   ]
  },
  {
   "cell_type": "code",
   "execution_count": 26,
   "metadata": {
    "collapsed": false
   },
   "outputs": [
    {
     "data": {
      "text/plain": [
       "'1,name1,9876545678,email1@gmail.com\\nemail2@yahoo.com, 2,name2,9876545679\\n9876545680,3,name3,eMail3@outlook.co.in\\nname4,4,9876545681,EmaiL4@rediff.com'"
      ]
     },
     "execution_count": 26,
     "metadata": {},
     "output_type": "execute_result"
    }
   ],
   "source": [
    "data"
   ]
  },
  {
   "cell_type": "code",
   "execution_count": 27,
   "metadata": {
    "collapsed": false
   },
   "outputs": [
    {
     "data": {
      "text/plain": [
       "['1',\n",
       " '',\n",
       " '',\n",
       " '',\n",
       " '',\n",
       " '',\n",
       " '1',\n",
       " '',\n",
       " '9',\n",
       " '8',\n",
       " '7',\n",
       " '6',\n",
       " '5',\n",
       " '4',\n",
       " '5',\n",
       " '6',\n",
       " '7',\n",
       " '8',\n",
       " '',\n",
       " '',\n",
       " '',\n",
       " '',\n",
       " '',\n",
       " '',\n",
       " '1',\n",
       " '',\n",
       " '',\n",
       " '',\n",
       " '',\n",
       " '',\n",
       " '',\n",
       " '',\n",
       " '',\n",
       " '',\n",
       " '',\n",
       " '',\n",
       " '',\n",
       " '',\n",
       " '',\n",
       " '',\n",
       " '',\n",
       " '2',\n",
       " '',\n",
       " '',\n",
       " '',\n",
       " '',\n",
       " '',\n",
       " '',\n",
       " '',\n",
       " '',\n",
       " '',\n",
       " '',\n",
       " '',\n",
       " '',\n",
       " '2',\n",
       " '',\n",
       " '',\n",
       " '',\n",
       " '',\n",
       " '',\n",
       " '2',\n",
       " '',\n",
       " '9',\n",
       " '8',\n",
       " '7',\n",
       " '6',\n",
       " '5',\n",
       " '4',\n",
       " '5',\n",
       " '6',\n",
       " '7',\n",
       " '9',\n",
       " '',\n",
       " '9',\n",
       " '8',\n",
       " '7',\n",
       " '6',\n",
       " '5',\n",
       " '4',\n",
       " '5',\n",
       " '6',\n",
       " '8',\n",
       " '0',\n",
       " '',\n",
       " '3',\n",
       " '',\n",
       " '',\n",
       " '',\n",
       " '',\n",
       " '',\n",
       " '3',\n",
       " '',\n",
       " '',\n",
       " '',\n",
       " '',\n",
       " '',\n",
       " '',\n",
       " '3',\n",
       " '',\n",
       " '',\n",
       " '',\n",
       " '',\n",
       " '',\n",
       " '',\n",
       " '',\n",
       " '',\n",
       " '',\n",
       " '',\n",
       " '',\n",
       " '',\n",
       " '',\n",
       " '',\n",
       " '',\n",
       " '',\n",
       " '',\n",
       " '',\n",
       " '',\n",
       " '4',\n",
       " '',\n",
       " '4',\n",
       " '',\n",
       " '9',\n",
       " '8',\n",
       " '7',\n",
       " '6',\n",
       " '5',\n",
       " '4',\n",
       " '5',\n",
       " '6',\n",
       " '8',\n",
       " '1',\n",
       " '',\n",
       " '',\n",
       " '',\n",
       " '',\n",
       " '',\n",
       " '',\n",
       " '4',\n",
       " '',\n",
       " '',\n",
       " '',\n",
       " '',\n",
       " '',\n",
       " '',\n",
       " '',\n",
       " '',\n",
       " '',\n",
       " '',\n",
       " '',\n",
       " '']"
      ]
     },
     "execution_count": 27,
     "metadata": {},
     "output_type": "execute_result"
    }
   ],
   "source": [
    "import re\n",
    "data = open(\"data_reg1.csv\").read()\n",
    "re.findall('[0-9]?',data,re.I)"
   ]
  },
  {
   "cell_type": "code",
   "execution_count": 28,
   "metadata": {
    "collapsed": false
   },
   "outputs": [
    {
     "data": {
      "text/plain": [
       "['1',\n",
       " '',\n",
       " '',\n",
       " '',\n",
       " '',\n",
       " '',\n",
       " '1',\n",
       " '',\n",
       " '9',\n",
       " '8',\n",
       " '7',\n",
       " '6',\n",
       " '5',\n",
       " '4',\n",
       " '5',\n",
       " '6',\n",
       " '7',\n",
       " '8',\n",
       " '',\n",
       " '',\n",
       " '',\n",
       " '',\n",
       " '',\n",
       " '',\n",
       " '1',\n",
       " '',\n",
       " '',\n",
       " '',\n",
       " '',\n",
       " '',\n",
       " '',\n",
       " '',\n",
       " '',\n",
       " '',\n",
       " '',\n",
       " '',\n",
       " '',\n",
       " '',\n",
       " '',\n",
       " '',\n",
       " '',\n",
       " '2',\n",
       " '',\n",
       " '',\n",
       " '',\n",
       " '',\n",
       " '',\n",
       " '',\n",
       " '',\n",
       " '',\n",
       " '',\n",
       " '',\n",
       " '',\n",
       " '',\n",
       " '2',\n",
       " '',\n",
       " '',\n",
       " '',\n",
       " '',\n",
       " '',\n",
       " '2',\n",
       " '',\n",
       " '9',\n",
       " '8',\n",
       " '7',\n",
       " '6',\n",
       " '5',\n",
       " '4',\n",
       " '5',\n",
       " '6',\n",
       " '7',\n",
       " '9',\n",
       " '',\n",
       " '9',\n",
       " '8',\n",
       " '7',\n",
       " '6',\n",
       " '5',\n",
       " '4',\n",
       " '5',\n",
       " '6',\n",
       " '8',\n",
       " '0',\n",
       " '',\n",
       " '3',\n",
       " '',\n",
       " '',\n",
       " '',\n",
       " '',\n",
       " '',\n",
       " '3',\n",
       " '',\n",
       " '',\n",
       " '',\n",
       " '',\n",
       " '',\n",
       " '',\n",
       " '3',\n",
       " '',\n",
       " '',\n",
       " '',\n",
       " '',\n",
       " '',\n",
       " '',\n",
       " '',\n",
       " '',\n",
       " '',\n",
       " '',\n",
       " '',\n",
       " '',\n",
       " '',\n",
       " '',\n",
       " '',\n",
       " '',\n",
       " '',\n",
       " '',\n",
       " '',\n",
       " '4',\n",
       " '',\n",
       " '4',\n",
       " '',\n",
       " '9',\n",
       " '8',\n",
       " '7',\n",
       " '6',\n",
       " '5',\n",
       " '4',\n",
       " '5',\n",
       " '6',\n",
       " '8',\n",
       " '1',\n",
       " '',\n",
       " '',\n",
       " '',\n",
       " '',\n",
       " '',\n",
       " '',\n",
       " '4',\n",
       " '',\n",
       " '',\n",
       " '',\n",
       " '',\n",
       " '',\n",
       " '',\n",
       " '',\n",
       " '',\n",
       " '',\n",
       " '',\n",
       " '',\n",
       " '']"
      ]
     },
     "execution_count": 28,
     "metadata": {},
     "output_type": "execute_result"
    }
   ],
   "source": [
    "import re\n",
    "data = open(\"data_reg1.csv\").read()\n",
    "re.findall('[0-9]{0,1}',data,re.I)"
   ]
  },
  {
   "cell_type": "code",
   "execution_count": 29,
   "metadata": {
    "collapsed": false
   },
   "outputs": [
    {
     "data": {
      "text/plain": [
       "['9876545678', '9876545679', '9876545680', '9876545681']"
      ]
     },
     "execution_count": 29,
     "metadata": {},
     "output_type": "execute_result"
    }
   ],
   "source": [
    "import re\n",
    "data = open(\"data_reg1.csv\").read()\n",
    "re.findall('[0-9]{10}',data,re.I)"
   ]
  },
  {
   "cell_type": "code",
   "execution_count": 30,
   "metadata": {
    "collapsed": false
   },
   "outputs": [
    {
     "data": {
      "text/plain": [
       "['1',\n",
       " ',',\n",
       " 'n',\n",
       " 'a',\n",
       " 'm',\n",
       " 'e',\n",
       " '1',\n",
       " ',',\n",
       " '9',\n",
       " '8',\n",
       " '7',\n",
       " '6',\n",
       " '5',\n",
       " '4',\n",
       " '5',\n",
       " '6',\n",
       " '7',\n",
       " '8',\n",
       " ',',\n",
       " 'e',\n",
       " 'm',\n",
       " 'a',\n",
       " 'i',\n",
       " 'l',\n",
       " '1',\n",
       " '@',\n",
       " 'g',\n",
       " 'm',\n",
       " 'a',\n",
       " 'i',\n",
       " 'l',\n",
       " '.',\n",
       " 'c',\n",
       " 'o',\n",
       " 'm',\n",
       " 'e',\n",
       " 'm',\n",
       " 'a',\n",
       " 'i',\n",
       " 'l',\n",
       " '2',\n",
       " '@',\n",
       " 'y',\n",
       " 'a',\n",
       " 'h',\n",
       " 'o',\n",
       " 'o',\n",
       " '.',\n",
       " 'c',\n",
       " 'o',\n",
       " 'm',\n",
       " ',',\n",
       " ' ',\n",
       " '2',\n",
       " ',',\n",
       " 'n',\n",
       " 'a',\n",
       " 'm',\n",
       " 'e',\n",
       " '2',\n",
       " ',',\n",
       " '9',\n",
       " '8',\n",
       " '7',\n",
       " '6',\n",
       " '5',\n",
       " '4',\n",
       " '5',\n",
       " '6',\n",
       " '7',\n",
       " '9',\n",
       " '9',\n",
       " '8',\n",
       " '7',\n",
       " '6',\n",
       " '5',\n",
       " '4',\n",
       " '5',\n",
       " '6',\n",
       " '8',\n",
       " '0',\n",
       " ',',\n",
       " '3',\n",
       " ',',\n",
       " 'n',\n",
       " 'a',\n",
       " 'm',\n",
       " 'e',\n",
       " '3',\n",
       " ',',\n",
       " 'e',\n",
       " 'M',\n",
       " 'a',\n",
       " 'i',\n",
       " 'l',\n",
       " '3',\n",
       " '@',\n",
       " 'o',\n",
       " 'u',\n",
       " 't',\n",
       " 'l',\n",
       " 'o',\n",
       " 'o',\n",
       " 'k',\n",
       " '.',\n",
       " 'c',\n",
       " 'o',\n",
       " '.',\n",
       " 'i',\n",
       " 'n',\n",
       " 'n',\n",
       " 'a',\n",
       " 'm',\n",
       " 'e',\n",
       " '4',\n",
       " ',',\n",
       " '4',\n",
       " ',',\n",
       " '9',\n",
       " '8',\n",
       " '7',\n",
       " '6',\n",
       " '5',\n",
       " '4',\n",
       " '5',\n",
       " '6',\n",
       " '8',\n",
       " '1',\n",
       " ',',\n",
       " 'E',\n",
       " 'm',\n",
       " 'a',\n",
       " 'i',\n",
       " 'L',\n",
       " '4',\n",
       " '@',\n",
       " 'r',\n",
       " 'e',\n",
       " 'd',\n",
       " 'i',\n",
       " 'f',\n",
       " 'f',\n",
       " '.',\n",
       " 'c',\n",
       " 'o',\n",
       " 'm']"
      ]
     },
     "execution_count": 30,
     "metadata": {},
     "output_type": "execute_result"
    }
   ],
   "source": [
    "import re\n",
    "data = open(\"data_reg1.csv\").read()\n",
    "re.findall('.',data,re.I)"
   ]
  },
  {
   "cell_type": "code",
   "execution_count": 31,
   "metadata": {
    "collapsed": false
   },
   "outputs": [
    {
     "data": {
      "text/plain": [
       "['1',\n",
       " ',',\n",
       " 'n',\n",
       " 'a',\n",
       " 'm',\n",
       " 'e',\n",
       " '1',\n",
       " ',',\n",
       " '9',\n",
       " '8',\n",
       " '7',\n",
       " '6',\n",
       " '5',\n",
       " '4',\n",
       " '5',\n",
       " '6',\n",
       " '7',\n",
       " '8',\n",
       " ',',\n",
       " 'e',\n",
       " 'm',\n",
       " 'a',\n",
       " 'i',\n",
       " 'l',\n",
       " '1',\n",
       " '@',\n",
       " 'g',\n",
       " 'm',\n",
       " 'a',\n",
       " 'i',\n",
       " 'l',\n",
       " '.',\n",
       " 'c',\n",
       " 'o',\n",
       " 'm',\n",
       " '\\n',\n",
       " 'e',\n",
       " 'm',\n",
       " 'a',\n",
       " 'i',\n",
       " 'l',\n",
       " '2',\n",
       " '@',\n",
       " 'y',\n",
       " 'a',\n",
       " 'h',\n",
       " 'o',\n",
       " 'o',\n",
       " '.',\n",
       " 'c',\n",
       " 'o',\n",
       " 'm',\n",
       " ',',\n",
       " ' ',\n",
       " '2',\n",
       " ',',\n",
       " 'n',\n",
       " 'a',\n",
       " 'm',\n",
       " 'e',\n",
       " '2',\n",
       " ',',\n",
       " '9',\n",
       " '8',\n",
       " '7',\n",
       " '6',\n",
       " '5',\n",
       " '4',\n",
       " '5',\n",
       " '6',\n",
       " '7',\n",
       " '9',\n",
       " '\\n',\n",
       " '9',\n",
       " '8',\n",
       " '7',\n",
       " '6',\n",
       " '5',\n",
       " '4',\n",
       " '5',\n",
       " '6',\n",
       " '8',\n",
       " '0',\n",
       " ',',\n",
       " '3',\n",
       " ',',\n",
       " 'n',\n",
       " 'a',\n",
       " 'm',\n",
       " 'e',\n",
       " '3',\n",
       " ',',\n",
       " 'e',\n",
       " 'M',\n",
       " 'a',\n",
       " 'i',\n",
       " 'l',\n",
       " '3',\n",
       " '@',\n",
       " 'o',\n",
       " 'u',\n",
       " 't',\n",
       " 'l',\n",
       " 'o',\n",
       " 'o',\n",
       " 'k',\n",
       " '.',\n",
       " 'c',\n",
       " 'o',\n",
       " '.',\n",
       " 'i',\n",
       " 'n',\n",
       " '\\n',\n",
       " 'n',\n",
       " 'a',\n",
       " 'm',\n",
       " 'e',\n",
       " '4',\n",
       " ',',\n",
       " '4',\n",
       " ',',\n",
       " '9',\n",
       " '8',\n",
       " '7',\n",
       " '6',\n",
       " '5',\n",
       " '4',\n",
       " '5',\n",
       " '6',\n",
       " '8',\n",
       " '1',\n",
       " ',',\n",
       " 'E',\n",
       " 'm',\n",
       " 'a',\n",
       " 'i',\n",
       " 'L',\n",
       " '4',\n",
       " '@',\n",
       " 'r',\n",
       " 'e',\n",
       " 'd',\n",
       " 'i',\n",
       " 'f',\n",
       " 'f',\n",
       " '.',\n",
       " 'c',\n",
       " 'o',\n",
       " 'm']"
      ]
     },
     "execution_count": 31,
     "metadata": {},
     "output_type": "execute_result"
    }
   ],
   "source": [
    "import re\n",
    "data = open(\"data_reg1.csv\").read()\n",
    "re.findall('.',data,re.I|re.DOTALL)"
   ]
  },
  {
   "cell_type": "code",
   "execution_count": 32,
   "metadata": {
    "collapsed": false
   },
   "outputs": [
    {
     "data": {
      "text/plain": [
       "['1,',\n",
       " 'na',\n",
       " 'me',\n",
       " '1,',\n",
       " '98',\n",
       " '76',\n",
       " '54',\n",
       " '56',\n",
       " '78',\n",
       " ',e',\n",
       " 'ma',\n",
       " 'il',\n",
       " '1@',\n",
       " 'gm',\n",
       " 'ai',\n",
       " 'l.',\n",
       " 'co',\n",
       " 'm\\n',\n",
       " 'em',\n",
       " 'ai',\n",
       " 'l2',\n",
       " '@y',\n",
       " 'ah',\n",
       " 'oo',\n",
       " '.c',\n",
       " 'om',\n",
       " ', ',\n",
       " '2,',\n",
       " 'na',\n",
       " 'me',\n",
       " '2,',\n",
       " '98',\n",
       " '76',\n",
       " '54',\n",
       " '56',\n",
       " '79',\n",
       " '\\n9',\n",
       " '87',\n",
       " '65',\n",
       " '45',\n",
       " '68',\n",
       " '0,',\n",
       " '3,',\n",
       " 'na',\n",
       " 'me',\n",
       " '3,',\n",
       " 'eM',\n",
       " 'ai',\n",
       " 'l3',\n",
       " '@o',\n",
       " 'ut',\n",
       " 'lo',\n",
       " 'ok',\n",
       " '.c',\n",
       " 'o.',\n",
       " 'in',\n",
       " '\\nn',\n",
       " 'am',\n",
       " 'e4',\n",
       " ',4',\n",
       " ',9',\n",
       " '87',\n",
       " '65',\n",
       " '45',\n",
       " '68',\n",
       " '1,',\n",
       " 'Em',\n",
       " 'ai',\n",
       " 'L4',\n",
       " '@r',\n",
       " 'ed',\n",
       " 'if',\n",
       " 'f.',\n",
       " 'co']"
      ]
     },
     "execution_count": 32,
     "metadata": {},
     "output_type": "execute_result"
    }
   ],
   "source": [
    "import re\n",
    "data = open(\"data_reg1.csv\").read()\n",
    "re.findall('.{2}',data,re.I|re.DOTALL)"
   ]
  },
  {
   "cell_type": "code",
   "execution_count": 33,
   "metadata": {
    "collapsed": false
   },
   "outputs": [
    {
     "data": {
      "text/plain": [
       "['1,n',\n",
       " 'ame',\n",
       " '1,9',\n",
       " '876',\n",
       " '545',\n",
       " '678',\n",
       " ',em',\n",
       " 'ail',\n",
       " '1@g',\n",
       " 'mai',\n",
       " 'l.c',\n",
       " 'om\\n',\n",
       " 'ema',\n",
       " 'il2',\n",
       " '@ya',\n",
       " 'hoo',\n",
       " '.co',\n",
       " 'm, ',\n",
       " '2,n',\n",
       " 'ame',\n",
       " '2,9',\n",
       " '876',\n",
       " '545',\n",
       " '679',\n",
       " '\\n98',\n",
       " '765',\n",
       " '456',\n",
       " '80,',\n",
       " '3,n',\n",
       " 'ame',\n",
       " '3,e',\n",
       " 'Mai',\n",
       " 'l3@',\n",
       " 'out',\n",
       " 'loo',\n",
       " 'k.c',\n",
       " 'o.i',\n",
       " 'n\\nn',\n",
       " 'ame',\n",
       " '4,4',\n",
       " ',98',\n",
       " '765',\n",
       " '456',\n",
       " '81,',\n",
       " 'Ema',\n",
       " 'iL4',\n",
       " '@re',\n",
       " 'dif',\n",
       " 'f.c']"
      ]
     },
     "execution_count": 33,
     "metadata": {},
     "output_type": "execute_result"
    }
   ],
   "source": [
    "import re\n",
    "data = open(\"data_reg1.csv\").read()\n",
    "re.findall('.{3}',data,re.I|re.DOTALL)"
   ]
  },
  {
   "cell_type": "code",
   "execution_count": 34,
   "metadata": {
    "collapsed": false
   },
   "outputs": [
    {
     "name": "stdout",
     "output_type": "stream",
     "text": [
      "1,name1,9876545678,email1@gmail.com\n",
      "email2@yahoo.com, 2,name2,9876545679\n",
      "9876545680,3,name3,eMail3@outlook.co.in\n",
      "name4,4,9876545681,EmaiL4@rediff.com\n"
     ]
    }
   ],
   "source": [
    "print data"
   ]
  },
  {
   "cell_type": "code",
   "execution_count": 35,
   "metadata": {
    "collapsed": false
   },
   "outputs": [
    {
     "data": {
      "text/plain": [
       "'1,name1,9876545678,email1@gmail.com\\nemail2@yahoo.com, 2,name2,9876545679\\n9876545680,3,name3,eMail3@outlook.co.in\\nname4,4,9876545681,EmaiL4@rediff.com'"
      ]
     },
     "execution_count": 35,
     "metadata": {},
     "output_type": "execute_result"
    }
   ],
   "source": [
    "data"
   ]
  },
  {
   "cell_type": "code",
   "execution_count": 36,
   "metadata": {
    "collapsed": false
   },
   "outputs": [
    {
     "data": {
      "text/plain": [
       "['1',\n",
       " '1',\n",
       " '9876545678',\n",
       " '1',\n",
       " '2',\n",
       " '2',\n",
       " '2',\n",
       " '9876545679',\n",
       " '9876545680',\n",
       " '3',\n",
       " '3',\n",
       " '3',\n",
       " '4',\n",
       " '4',\n",
       " '9876545681',\n",
       " '4']"
      ]
     },
     "execution_count": 36,
     "metadata": {},
     "output_type": "execute_result"
    }
   ],
   "source": [
    "import re\n",
    "data = open(\"data_reg1.csv\").read()\n",
    "re.findall('[0-9]+',data,re.I|re.DOTALL)"
   ]
  },
  {
   "cell_type": "code",
   "execution_count": 37,
   "metadata": {
    "collapsed": false
   },
   "outputs": [
    {
     "data": {
      "text/plain": [
       "['1']"
      ]
     },
     "execution_count": 37,
     "metadata": {},
     "output_type": "execute_result"
    }
   ],
   "source": [
    "import re\n",
    "data = open(\"data_reg1.csv\").read()\n",
    "re.findall('^[0-9]+',data,re.I|re.DOTALL)"
   ]
  },
  {
   "cell_type": "code",
   "execution_count": 39,
   "metadata": {
    "collapsed": false
   },
   "outputs": [
    {
     "data": {
      "text/plain": [
       "[]"
      ]
     },
     "execution_count": 39,
     "metadata": {},
     "output_type": "execute_result"
    }
   ],
   "source": [
    "import re\n",
    "data = open(\"data_reg1.csv\").read()\n",
    "re.findall('[0-9]+$',data,re.I|re.DOTALL)"
   ]
  },
  {
   "cell_type": "code",
   "execution_count": 40,
   "metadata": {
    "collapsed": false
   },
   "outputs": [
    {
     "data": {
      "text/plain": [
       "'1,name1,9876545678,email1@gmail.com\\nemail2@yahoo.com, 2,name2,9876545679\\n9876545680,3,name3,eMail3@outlook.co.in\\nname4,4,9876545681,EmaiL4@rediff.com'"
      ]
     },
     "execution_count": 40,
     "metadata": {},
     "output_type": "execute_result"
    }
   ],
   "source": [
    "data"
   ]
  },
  {
   "cell_type": "code",
   "execution_count": 41,
   "metadata": {
    "collapsed": false
   },
   "outputs": [
    {
     "name": "stdout",
     "output_type": "stream",
     "text": [
      "1,name1,9876545678,email1@gmail.com\n",
      "email2@yahoo.com, 2,name2,9876545679\n",
      "9876545680,3,name3,eMail3@outlook.co.in\n",
      "name4,4,9876545681,EmaiL4@rediff.com\n"
     ]
    }
   ],
   "source": [
    "print data"
   ]
  },
  {
   "cell_type": "code",
   "execution_count": 42,
   "metadata": {
    "collapsed": false
   },
   "outputs": [
    {
     "data": {
      "text/plain": [
       "['9876545679']"
      ]
     },
     "execution_count": 42,
     "metadata": {},
     "output_type": "execute_result"
    }
   ],
   "source": [
    "import re\n",
    "data = open(\"data_reg1.csv\").read()\n",
    "re.findall('[0-9]+$',data,re.I|re.DOTALL|re.M)"
   ]
  },
  {
   "cell_type": "code",
   "execution_count": 43,
   "metadata": {
    "collapsed": false
   },
   "outputs": [
    {
     "data": {
      "text/plain": [
       "[]"
      ]
     },
     "execution_count": 43,
     "metadata": {},
     "output_type": "execute_result"
    }
   ],
   "source": [
    "import re\n",
    "data = open(\"data_reg1.csv\").read()\n",
    "re.findall('[0-9]+$',data,re.I|re.DOTALL)"
   ]
  },
  {
   "cell_type": "code",
   "execution_count": 44,
   "metadata": {
    "collapsed": false
   },
   "outputs": [
    {
     "data": {
      "text/plain": [
       "['1', '9876545680']"
      ]
     },
     "execution_count": 44,
     "metadata": {},
     "output_type": "execute_result"
    }
   ],
   "source": [
    "import re\n",
    "data = open(\"data_reg1.csv\").read()\n",
    "re.findall('^[0-9]+',data,re.I|re.DOTALL|re.M)"
   ]
  },
  {
   "cell_type": "code",
   "execution_count": 45,
   "metadata": {
    "collapsed": false
   },
   "outputs": [
    {
     "data": {
      "text/plain": [
       "[',',\n",
       " 'n',\n",
       " 'a',\n",
       " 'm',\n",
       " 'e',\n",
       " ',',\n",
       " ',',\n",
       " 'e',\n",
       " 'm',\n",
       " 'a',\n",
       " 'i',\n",
       " 'l',\n",
       " '@',\n",
       " 'g',\n",
       " 'm',\n",
       " 'a',\n",
       " 'i',\n",
       " 'l',\n",
       " '.',\n",
       " 'c',\n",
       " 'o',\n",
       " 'm',\n",
       " '\\n',\n",
       " 'e',\n",
       " 'm',\n",
       " 'a',\n",
       " 'i',\n",
       " 'l',\n",
       " '@',\n",
       " 'y',\n",
       " 'a',\n",
       " 'h',\n",
       " 'o',\n",
       " 'o',\n",
       " '.',\n",
       " 'c',\n",
       " 'o',\n",
       " 'm',\n",
       " ',',\n",
       " ' ',\n",
       " ',',\n",
       " 'n',\n",
       " 'a',\n",
       " 'm',\n",
       " 'e',\n",
       " ',',\n",
       " '\\n',\n",
       " ',',\n",
       " ',',\n",
       " 'n',\n",
       " 'a',\n",
       " 'm',\n",
       " 'e',\n",
       " ',',\n",
       " 'e',\n",
       " 'M',\n",
       " 'a',\n",
       " 'i',\n",
       " 'l',\n",
       " '@',\n",
       " 'o',\n",
       " 'u',\n",
       " 't',\n",
       " 'l',\n",
       " 'o',\n",
       " 'o',\n",
       " 'k',\n",
       " '.',\n",
       " 'c',\n",
       " 'o',\n",
       " '.',\n",
       " 'i',\n",
       " 'n',\n",
       " '\\n',\n",
       " 'n',\n",
       " 'a',\n",
       " 'm',\n",
       " 'e',\n",
       " ',',\n",
       " ',',\n",
       " ',',\n",
       " 'E',\n",
       " 'm',\n",
       " 'a',\n",
       " 'i',\n",
       " 'L',\n",
       " '@',\n",
       " 'r',\n",
       " 'e',\n",
       " 'd',\n",
       " 'i',\n",
       " 'f',\n",
       " 'f',\n",
       " '.',\n",
       " 'c',\n",
       " 'o',\n",
       " 'm']"
      ]
     },
     "execution_count": 45,
     "metadata": {},
     "output_type": "execute_result"
    }
   ],
   "source": [
    "import re\n",
    "data = open(\"data_reg1.csv\").read()\n",
    "re.findall('[^0-9]',data,re.I|re.DOTALL|re.M)"
   ]
  },
  {
   "cell_type": "code",
   "execution_count": 46,
   "metadata": {
    "collapsed": false
   },
   "outputs": [
    {
     "data": {
      "text/plain": [
       "['1',\n",
       " '1',\n",
       " '9',\n",
       " '8',\n",
       " '7',\n",
       " '6',\n",
       " '5',\n",
       " '4',\n",
       " '5',\n",
       " '6',\n",
       " '7',\n",
       " '8',\n",
       " '1',\n",
       " '2',\n",
       " '2',\n",
       " '2',\n",
       " '9',\n",
       " '8',\n",
       " '7',\n",
       " '6',\n",
       " '5',\n",
       " '4',\n",
       " '5',\n",
       " '6',\n",
       " '7',\n",
       " '9',\n",
       " '9',\n",
       " '8',\n",
       " '7',\n",
       " '6',\n",
       " '5',\n",
       " '4',\n",
       " '5',\n",
       " '6',\n",
       " '8',\n",
       " '0',\n",
       " '3',\n",
       " '3',\n",
       " '3',\n",
       " '4',\n",
       " '4',\n",
       " '9',\n",
       " '8',\n",
       " '7',\n",
       " '6',\n",
       " '5',\n",
       " '4',\n",
       " '5',\n",
       " '6',\n",
       " '8',\n",
       " '1',\n",
       " '4']"
      ]
     },
     "execution_count": 46,
     "metadata": {},
     "output_type": "execute_result"
    }
   ],
   "source": [
    "import re\n",
    "data = open(\"data_reg1.csv\").read()\n",
    "re.findall('[0-9]',data,re.I|re.DOTALL|re.M)"
   ]
  },
  {
   "cell_type": "code",
   "execution_count": 47,
   "metadata": {
    "collapsed": false
   },
   "outputs": [
    {
     "data": {
      "text/plain": [
       "[',',\n",
       " 'n',\n",
       " 'a',\n",
       " 'm',\n",
       " 'e',\n",
       " ',',\n",
       " ',',\n",
       " 'e',\n",
       " 'm',\n",
       " 'a',\n",
       " 'i',\n",
       " 'l',\n",
       " '@',\n",
       " 'g',\n",
       " 'm',\n",
       " 'a',\n",
       " 'i',\n",
       " 'l',\n",
       " '.',\n",
       " 'c',\n",
       " 'o',\n",
       " 'm',\n",
       " '\\n',\n",
       " 'e',\n",
       " 'm',\n",
       " 'a',\n",
       " 'i',\n",
       " 'l',\n",
       " '@',\n",
       " 'y',\n",
       " 'a',\n",
       " 'h',\n",
       " 'o',\n",
       " 'o',\n",
       " '.',\n",
       " 'c',\n",
       " 'o',\n",
       " 'm',\n",
       " ',',\n",
       " ' ',\n",
       " ',',\n",
       " 'n',\n",
       " 'a',\n",
       " 'm',\n",
       " 'e',\n",
       " ',',\n",
       " '\\n',\n",
       " ',',\n",
       " ',',\n",
       " 'n',\n",
       " 'a',\n",
       " 'm',\n",
       " 'e',\n",
       " ',',\n",
       " 'e',\n",
       " 'M',\n",
       " 'a',\n",
       " 'i',\n",
       " 'l',\n",
       " '@',\n",
       " 'o',\n",
       " 'u',\n",
       " 't',\n",
       " 'l',\n",
       " 'o',\n",
       " 'o',\n",
       " 'k',\n",
       " '.',\n",
       " 'c',\n",
       " 'o',\n",
       " '.',\n",
       " 'i',\n",
       " 'n',\n",
       " '\\n',\n",
       " 'n',\n",
       " 'a',\n",
       " 'm',\n",
       " 'e',\n",
       " ',',\n",
       " ',',\n",
       " ',',\n",
       " 'E',\n",
       " 'm',\n",
       " 'a',\n",
       " 'i',\n",
       " 'L',\n",
       " '@',\n",
       " 'r',\n",
       " 'e',\n",
       " 'd',\n",
       " 'i',\n",
       " 'f',\n",
       " 'f',\n",
       " '.',\n",
       " 'c',\n",
       " 'o',\n",
       " 'm']"
      ]
     },
     "execution_count": 47,
     "metadata": {},
     "output_type": "execute_result"
    }
   ],
   "source": [
    "import re\n",
    "data = open(\"data_reg1.csv\").read()\n",
    "re.findall('[^0-9]',data,re.I|re.DOTALL|re.M)"
   ]
  },
  {
   "cell_type": "code",
   "execution_count": 48,
   "metadata": {
    "collapsed": false
   },
   "outputs": [
    {
     "data": {
      "text/plain": [
       "['1',\n",
       " ',',\n",
       " 'n',\n",
       " 'a',\n",
       " 'm',\n",
       " 'e',\n",
       " '1',\n",
       " ',',\n",
       " '9',\n",
       " '8',\n",
       " '7',\n",
       " '6',\n",
       " '5',\n",
       " '4',\n",
       " '5',\n",
       " '6',\n",
       " '7',\n",
       " '8',\n",
       " ',',\n",
       " 'e',\n",
       " 'm',\n",
       " 'a',\n",
       " 'i',\n",
       " 'l',\n",
       " '1',\n",
       " '@',\n",
       " 'g',\n",
       " 'm',\n",
       " 'a',\n",
       " 'i',\n",
       " 'l',\n",
       " '.',\n",
       " 'c',\n",
       " 'o',\n",
       " 'm',\n",
       " '\\n',\n",
       " 'e',\n",
       " 'm',\n",
       " 'a',\n",
       " 'i',\n",
       " 'l',\n",
       " '2',\n",
       " '@',\n",
       " 'y',\n",
       " 'a',\n",
       " 'h',\n",
       " 'o',\n",
       " 'o',\n",
       " '.',\n",
       " 'c',\n",
       " 'o',\n",
       " 'm',\n",
       " ',',\n",
       " ' ',\n",
       " '2',\n",
       " ',',\n",
       " 'n',\n",
       " 'a',\n",
       " 'm',\n",
       " 'e',\n",
       " '2',\n",
       " ',',\n",
       " '9',\n",
       " '8',\n",
       " '7',\n",
       " '6',\n",
       " '5',\n",
       " '4',\n",
       " '5',\n",
       " '6',\n",
       " '7',\n",
       " '9',\n",
       " '\\n',\n",
       " '9',\n",
       " '8',\n",
       " '7',\n",
       " '6',\n",
       " '5',\n",
       " '4',\n",
       " '5',\n",
       " '6',\n",
       " '8',\n",
       " '0',\n",
       " ',',\n",
       " '3',\n",
       " ',',\n",
       " 'n',\n",
       " 'a',\n",
       " 'm',\n",
       " 'e',\n",
       " '3',\n",
       " ',',\n",
       " 'e',\n",
       " 'M',\n",
       " 'a',\n",
       " 'i',\n",
       " 'l',\n",
       " '3',\n",
       " '@',\n",
       " 'o',\n",
       " 'u',\n",
       " 't',\n",
       " 'l',\n",
       " 'o',\n",
       " 'o',\n",
       " 'k',\n",
       " '.',\n",
       " 'c',\n",
       " 'o',\n",
       " '.',\n",
       " 'i',\n",
       " 'n',\n",
       " '\\n',\n",
       " 'n',\n",
       " 'a',\n",
       " 'm',\n",
       " 'e',\n",
       " '4',\n",
       " ',',\n",
       " '4',\n",
       " ',',\n",
       " '9',\n",
       " '8',\n",
       " '7',\n",
       " '6',\n",
       " '5',\n",
       " '4',\n",
       " '5',\n",
       " '6',\n",
       " '8',\n",
       " '1',\n",
       " ',',\n",
       " 'E',\n",
       " 'm',\n",
       " 'a',\n",
       " 'i',\n",
       " 'L',\n",
       " '4',\n",
       " '@',\n",
       " 'r',\n",
       " 'e',\n",
       " 'd',\n",
       " 'i',\n",
       " 'f',\n",
       " 'f',\n",
       " '.',\n",
       " 'c',\n",
       " 'o',\n",
       " 'm']"
      ]
     },
     "execution_count": 48,
     "metadata": {},
     "output_type": "execute_result"
    }
   ],
   "source": [
    "import re\n",
    "data = open(\"data_reg1.csv\").read()\n",
    "re.findall('.',data,re.I|re.DOTALL|re.M)"
   ]
  },
  {
   "cell_type": "code",
   "execution_count": 49,
   "metadata": {
    "collapsed": false
   },
   "outputs": [
    {
     "data": {
      "text/plain": [
       "['.', '.', '.', '.', '.']"
      ]
     },
     "execution_count": 49,
     "metadata": {},
     "output_type": "execute_result"
    }
   ],
   "source": [
    "import re\n",
    "data = open(\"data_reg1.csv\").read()\n",
    "re.findall('\\.',data,re.I|re.DOTALL|re.M)"
   ]
  },
  {
   "cell_type": "code",
   "execution_count": 50,
   "metadata": {
    "collapsed": false
   },
   "outputs": [
    {
     "data": {
      "text/plain": [
       "['@', '@', '@', '@']"
      ]
     },
     "execution_count": 50,
     "metadata": {},
     "output_type": "execute_result"
    }
   ],
   "source": [
    "import re\n",
    "data = open(\"data_reg1.csv\").read()\n",
    "re.findall('@',data)"
   ]
  },
  {
   "cell_type": "code",
   "execution_count": 51,
   "metadata": {
    "collapsed": false
   },
   "outputs": [
    {
     "data": {
      "text/plain": [
       "['email1@', 'email2@', 'eMail3@', 'EmaiL4@']"
      ]
     },
     "execution_count": 51,
     "metadata": {},
     "output_type": "execute_result"
    }
   ],
   "source": [
    "import re\n",
    "data = open(\"data_reg1.csv\").read()\n",
    "re.findall('[a-z0-9]+@',data,re.I)"
   ]
  },
  {
   "cell_type": "code",
   "execution_count": 52,
   "metadata": {
    "collapsed": false
   },
   "outputs": [
    {
     "data": {
      "text/plain": [
       "['email1@g', 'email2@y', 'eMail3@o', 'EmaiL4@r']"
      ]
     },
     "execution_count": 52,
     "metadata": {},
     "output_type": "execute_result"
    }
   ],
   "source": [
    "import re\n",
    "data = open(\"data_reg1.csv\").read()\n",
    "re.findall('[a-z0-9]+@.',data,re.I)"
   ]
  },
  {
   "cell_type": "code",
   "execution_count": 53,
   "metadata": {
    "collapsed": false
   },
   "outputs": [
    {
     "data": {
      "text/plain": [
       "['email1@gmail', 'email2@yahoo', 'eMail3@outlook', 'EmaiL4@rediff']"
      ]
     },
     "execution_count": 53,
     "metadata": {},
     "output_type": "execute_result"
    }
   ],
   "source": [
    "import re\n",
    "data = open(\"data_reg1.csv\").read()\n",
    "re.findall('[a-z0-9]+@[a-z]+',data,re.I)"
   ]
  },
  {
   "cell_type": "code",
   "execution_count": 54,
   "metadata": {
    "collapsed": false
   },
   "outputs": [
    {
     "data": {
      "text/plain": [
       "['email1@gmail.', 'email2@yahoo.', 'eMail3@outlook.', 'EmaiL4@rediff.']"
      ]
     },
     "execution_count": 54,
     "metadata": {},
     "output_type": "execute_result"
    }
   ],
   "source": [
    "import re\n",
    "data = open(\"data_reg1.csv\").read()\n",
    "re.findall('[a-z0-9]+@[a-z]+.',data,re.I)"
   ]
  },
  {
   "cell_type": "code",
   "execution_count": 55,
   "metadata": {
    "collapsed": false
   },
   "outputs": [
    {
     "data": {
      "text/plain": [
       "['email1@gmail.', 'email2@yahoo.', 'eMail3@outlook.', 'EmaiL4@rediff.']"
      ]
     },
     "execution_count": 55,
     "metadata": {},
     "output_type": "execute_result"
    }
   ],
   "source": [
    "import re\n",
    "data = open(\"data_reg1.csv\").read()\n",
    "re.findall('[a-z0-9]+@[a-z]+\\.',data,re.I)"
   ]
  },
  {
   "cell_type": "code",
   "execution_count": 56,
   "metadata": {
    "collapsed": false
   },
   "outputs": [
    {
     "data": {
      "text/plain": [
       "['email1@gmail.com',\n",
       " 'email2@yahoo.com',\n",
       " 'eMail3@outlook.co',\n",
       " 'EmaiL4@rediff.com']"
      ]
     },
     "execution_count": 56,
     "metadata": {},
     "output_type": "execute_result"
    }
   ],
   "source": [
    "import re\n",
    "data = open(\"data_reg1.csv\").read()\n",
    "re.findall('[a-z0-9]+@[a-z]+\\.[a-z]{2,}',data,re.I)"
   ]
  },
  {
   "cell_type": "code",
   "execution_count": 57,
   "metadata": {
    "collapsed": false
   },
   "outputs": [
    {
     "data": {
      "text/plain": [
       "['email1@gmail.com',\n",
       " 'email2@yahoo.com',\n",
       " 'eMail3@outlook.co.in',\n",
       " 'EmaiL4@rediff.com']"
      ]
     },
     "execution_count": 57,
     "metadata": {},
     "output_type": "execute_result"
    }
   ],
   "source": [
    "import re\n",
    "data = open(\"data_reg1.csv\").read()\n",
    "re.findall('[a-z0-9]+@[a-z]+\\.[a-z.]+',data,re.I)"
   ]
  },
  {
   "cell_type": "code",
   "execution_count": 58,
   "metadata": {
    "collapsed": false
   },
   "outputs": [
    {
     "data": {
      "text/plain": [
       "['.', '.', '.', '.', '.']"
      ]
     },
     "execution_count": 58,
     "metadata": {},
     "output_type": "execute_result"
    }
   ],
   "source": [
    "import re\n",
    "data = open(\"data_reg1.csv\").read()\n",
    "re.findall('[.]',data,re.I)"
   ]
  },
  {
   "cell_type": "code",
   "execution_count": 60,
   "metadata": {
    "collapsed": false
   },
   "outputs": [
    {
     "data": {
      "text/plain": [
       "['email1@gmail.com', 'email2@yahoo.com', 'ail3@outlook.co.in', '4@rediff.com']"
      ]
     },
     "execution_count": 60,
     "metadata": {},
     "output_type": "execute_result"
    }
   ],
   "source": [
    "import re\n",
    "data = open(\"data_reg1.csv\").read()\n",
    "email_reg = re.compile('[a-z0-9]+@[a-z]+\\.[a-z.]+')\n",
    "email_reg.findall(data)"
   ]
  },
  {
   "cell_type": "code",
   "execution_count": 61,
   "metadata": {
    "collapsed": true
   },
   "outputs": [],
   "source": [
    "import re\n",
    "data = open(\"data_reg1.csv\").read()\n",
    "email_reg = re.compile('[a-z0-9]+@[a-z]+\\.[a-z.]+')\n",
    "email_reg.match(data)"
   ]
  },
  {
   "cell_type": "code",
   "execution_count": 62,
   "metadata": {
    "collapsed": false
   },
   "outputs": [
    {
     "data": {
      "text/plain": [
       "<_sre.SRE_Match at 0x7f40a80cb7e8>"
      ]
     },
     "execution_count": 62,
     "metadata": {},
     "output_type": "execute_result"
    }
   ],
   "source": [
    "import re\n",
    "data = open(\"data_reg1.csv\").read()\n",
    "email_reg = re.compile('[a-z0-9]+@[a-z]+\\.[a-z.]+')\n",
    "email_reg.search(data)"
   ]
  },
  {
   "cell_type": "code",
   "execution_count": 63,
   "metadata": {
    "collapsed": false
   },
   "outputs": [
    {
     "data": {
      "text/plain": [
       "<_sre.SRE_Match at 0x7f40a80cb988>"
      ]
     },
     "execution_count": 63,
     "metadata": {},
     "output_type": "execute_result"
    }
   ],
   "source": [
    "import re\n",
    "data = open(\"data_reg1.csv\").read()\n",
    "email_reg = re.compile('[a-z0-9]+@[a-z]+\\.[a-z.]+')\n",
    "re.match('[0-9]',data)"
   ]
  },
  {
   "cell_type": "code",
   "execution_count": 64,
   "metadata": {
    "collapsed": false
   },
   "outputs": [
    {
     "data": {
      "text/plain": [
       "'1,name1,9876545678,email1@gmail.com\\nemail2@yahoo.com, 2,name2,9876545679\\n9876545680,3,name3,eMail3@outlook.co.in\\nname4,4,9876545681,EmaiL4@rediff.com'"
      ]
     },
     "execution_count": 64,
     "metadata": {},
     "output_type": "execute_result"
    }
   ],
   "source": [
    "data"
   ]
  },
  {
   "cell_type": "code",
   "execution_count": 65,
   "metadata": {
    "collapsed": false
   },
   "outputs": [
    {
     "data": {
      "text/plain": [
       "True"
      ]
     },
     "execution_count": 65,
     "metadata": {},
     "output_type": "execute_result"
    }
   ],
   "source": [
    "s=\"python program\"\n",
    "s.startswith('python')"
   ]
  },
  {
   "cell_type": "code",
   "execution_count": 66,
   "metadata": {
    "collapsed": false
   },
   "outputs": [
    {
     "data": {
      "text/plain": [
       "False"
      ]
     },
     "execution_count": 66,
     "metadata": {},
     "output_type": "execute_result"
    }
   ],
   "source": [
    "s=\"python program\"\n",
    "s.startswith('[0-9]')"
   ]
  },
  {
   "cell_type": "code",
   "execution_count": 68,
   "metadata": {
    "collapsed": false
   },
   "outputs": [
    {
     "data": {
      "text/plain": [
       "['1',\n",
       " '',\n",
       " 'name1',\n",
       " '',\n",
       " '9876545678',\n",
       " '',\n",
       " 'email1',\n",
       " '',\n",
       " 'gmail',\n",
       " '',\n",
       " 'com',\n",
       " '',\n",
       " 'email2',\n",
       " '',\n",
       " 'yahoo',\n",
       " '',\n",
       " 'com',\n",
       " '',\n",
       " '',\n",
       " '2',\n",
       " '',\n",
       " 'name2',\n",
       " '',\n",
       " '9876545679',\n",
       " '',\n",
       " '9876545680',\n",
       " '',\n",
       " '3',\n",
       " '',\n",
       " 'name3',\n",
       " '',\n",
       " 'eMail3',\n",
       " '',\n",
       " 'outlook',\n",
       " '',\n",
       " 'co',\n",
       " '',\n",
       " 'in',\n",
       " '',\n",
       " 'name4',\n",
       " '',\n",
       " '4',\n",
       " '',\n",
       " '9876545681',\n",
       " '',\n",
       " 'EmaiL4',\n",
       " '',\n",
       " 'rediff',\n",
       " '',\n",
       " 'com',\n",
       " '']"
      ]
     },
     "execution_count": 68,
     "metadata": {},
     "output_type": "execute_result"
    }
   ],
   "source": [
    "re.findall('\\w*',data)"
   ]
  },
  {
   "cell_type": "code",
   "execution_count": 70,
   "metadata": {
    "collapsed": false
   },
   "outputs": [
    {
     "data": {
      "text/plain": [
       "[',',\n",
       " ',',\n",
       " ',',\n",
       " '@',\n",
       " '.',\n",
       " '\\n',\n",
       " '@',\n",
       " '.',\n",
       " ', ',\n",
       " ',',\n",
       " ',',\n",
       " '\\n',\n",
       " ',',\n",
       " ',',\n",
       " ',',\n",
       " '@',\n",
       " '.',\n",
       " '.',\n",
       " '\\n',\n",
       " ',',\n",
       " ',',\n",
       " ',',\n",
       " '@',\n",
       " '.']"
      ]
     },
     "execution_count": 70,
     "metadata": {},
     "output_type": "execute_result"
    }
   ],
   "source": [
    "re.findall('\\W+',data)"
   ]
  },
  {
   "cell_type": "code",
   "execution_count": null,
   "metadata": {
    "collapsed": true
   },
   "outputs": [],
   "source": []
  }
 ],
 "metadata": {
  "kernelspec": {
   "display_name": "Python 2",
   "language": "python",
   "name": "python2"
  },
  "language_info": {
   "codemirror_mode": {
    "name": "ipython",
    "version": 2
   },
   "file_extension": ".py",
   "mimetype": "text/x-python",
   "name": "python",
   "nbconvert_exporter": "python",
   "pygments_lexer": "ipython2",
   "version": "2.7.13"
  }
 },
 "nbformat": 4,
 "nbformat_minor": 2
}
