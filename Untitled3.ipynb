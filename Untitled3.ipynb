{
 "cells": [
  {
   "cell_type": "code",
   "execution_count": 1,
   "metadata": {
    "collapsed": false
   },
   "outputs": [
    {
     "name": "stdout",
     "output_type": "stream",
     "text": [
      "program started\n",
      "Enter a number:57\n",
      "0\n",
      "0\n",
      "1\n",
      "1\n",
      "1\n",
      "1\n",
      "1\n",
      "1\n",
      "1\n",
      "1\n",
      "1\n",
      "1\n",
      "1\n",
      "1\n",
      "1\n",
      "1\n",
      "1\n",
      "1\n",
      "2\n",
      "2\n",
      "2\n",
      "2\n",
      "2\n",
      "2\n",
      "2\n",
      "2\n",
      "2\n",
      "2\n",
      "2\n",
      "2\n",
      "2\n",
      "2\n",
      "2\n",
      "2\n",
      "2\n",
      "2\n",
      "2\n",
      "2\n",
      "2\n",
      "2\n",
      "2\n",
      "2\n",
      "2\n",
      "2\n",
      "2\n",
      "2\n",
      "2\n",
      "2\n",
      "2\n",
      "2\n",
      "2\n",
      "2\n",
      "2\n",
      "2\n",
      "2\n",
      "not a primenumber\n",
      "i out side loop:56\n",
      "other statements in program\n",
      "program ended\n"
     ]
    }
   ],
   "source": [
    "# break continue\n",
    "print \"program started\"\n",
    "s=raw_input(\"Enter a number:\")\n",
    "number=long(s)\n",
    "count = 0\n",
    "for i in xrange(2,number):\n",
    "    print count\n",
    "    if number%i==0:\n",
    "       count=count+1\n",
    "if count==0:\n",
    "    print \"prime number\"\n",
    "else:\n",
    "    print \"not a primenumber\"\n",
    "print \"i out side loop:%s\"%i\n",
    "print \"other statements in program\"\n",
    "print \"program ended\""
   ]
  },
  {
   "cell_type": "code",
   "execution_count": 2,
   "metadata": {
    "collapsed": false
   },
   "outputs": [
    {
     "name": "stdout",
     "output_type": "stream",
     "text": [
      "program started\n",
      "Enter a number:12\n",
      "0\n",
      "1\n",
      "2\n",
      "3\n",
      "3\n",
      "4\n",
      "4\n",
      "4\n",
      "4\n",
      "4\n",
      "not a primenumber\n",
      "i out side loop:11\n",
      "other statements in program\n",
      "program ended\n"
     ]
    }
   ],
   "source": [
    "# break continue\n",
    "print \"program started\"\n",
    "s=raw_input(\"Enter a number:\")\n",
    "number=long(s)\n",
    "count = 0\n",
    "for i in xrange(2,number):\n",
    "    print count\n",
    "    if number%i==0:\n",
    "       count=count+1\n",
    "if count==0:\n",
    "    print \"prime number\"\n",
    "else:\n",
    "    print \"not a primenumber\"\n",
    "print \"i out side loop:%s\"%i\n",
    "print \"other statements in program\"\n",
    "print \"program ended\""
   ]
  },
  {
   "cell_type": "code",
   "execution_count": 3,
   "metadata": {
    "collapsed": false
   },
   "outputs": [
    {
     "name": "stdout",
     "output_type": "stream",
     "text": [
      "program started\n",
      "Enter a number:12\n",
      "0\n",
      "not a primenumber\n",
      "i out side loop:2\n",
      "other statements in program\n",
      "program ended\n"
     ]
    }
   ],
   "source": [
    "# break continue\n",
    "print \"program started\"\n",
    "s=raw_input(\"Enter a number:\")\n",
    "number=long(s)\n",
    "count = 0\n",
    "for i in xrange(2,number):\n",
    "    print count\n",
    "    if number%i==0:\n",
    "        count=count+1\n",
    "        break\n",
    "if count==0:\n",
    "    print \"prime number\"\n",
    "else:\n",
    "    print \"not a primenumber\"\n",
    "print \"i out side loop:%s\"%i\n",
    "print \"other statements in program\"\n",
    "print \"program ended\""
   ]
  },
  {
   "cell_type": "code",
   "execution_count": 5,
   "metadata": {
    "collapsed": false
   },
   "outputs": [
    {
     "name": "stdout",
     "output_type": "stream",
     "text": [
      "program started\n",
      "Enter a number:23\n",
      "0 2\n",
      "0 3\n",
      "0 4\n",
      "0 5\n",
      "0 6\n",
      "0 7\n",
      "0 8\n",
      "0 9\n",
      "0 10\n",
      "0 11\n",
      "0 12\n",
      "0 13\n",
      "0 14\n",
      "0 15\n",
      "0 16\n",
      "0 17\n",
      "0 18\n",
      "0 19\n",
      "0 20\n",
      "0 21\n",
      "0 22\n",
      "prime number\n",
      "i out side loop:22\n",
      "other statements in program\n",
      "program ended\n"
     ]
    }
   ],
   "source": [
    "# break continue\n",
    "print \"program started\"\n",
    "s=raw_input(\"Enter a number:\")\n",
    "number=long(s)\n",
    "count = 0\n",
    "for i in xrange(2,number):\n",
    "    print count,i\n",
    "    if number%i==0:\n",
    "        count=count+1\n",
    "        break\n",
    "if count==0:\n",
    "    print \"prime number\"\n",
    "else:\n",
    "    print \"not a primenumber\"\n",
    "print \"i out side loop:%s\"%i\n",
    "print \"other statements in program\"\n",
    "print \"program ended\""
   ]
  },
  {
   "cell_type": "code",
   "execution_count": 6,
   "metadata": {
    "collapsed": false
   },
   "outputs": [
    {
     "name": "stdout",
     "output_type": "stream",
     "text": [
      "program started\n",
      "Enter a number:11\n",
      "2\n",
      "3\n",
      "4\n",
      "5\n",
      "6\n",
      "7\n",
      "8\n",
      "9\n",
      "10\n",
      "prime number\n",
      "i out side loop:10\n",
      "other statements in program\n",
      "program ended\n"
     ]
    }
   ],
   "source": [
    "# break continue\n",
    "print \"program started\"\n",
    "s=raw_input(\"Enter a number:\")\n",
    "number=long(s)\n",
    "\n",
    "for i in xrange(2,number):\n",
    "    print i\n",
    "    if number%i==0:\n",
    "        print \"not a prime number\"\n",
    "        break\n",
    "else: \n",
    "    print \"prime number\"\n",
    "print \"i out side loop:%s\"%i\n",
    "print \"other statements in program\"\n",
    "print \"program ended\""
   ]
  },
  {
   "cell_type": "code",
   "execution_count": 7,
   "metadata": {
    "collapsed": false
   },
   "outputs": [
    {
     "name": "stdout",
     "output_type": "stream",
     "text": [
      "program started\n",
      "Enter a number:12\n",
      "2\n",
      "not a prime number\n",
      "i out side loop:2\n",
      "other statements in program\n",
      "program ended\n"
     ]
    }
   ],
   "source": [
    "# break continue\n",
    "print \"program started\"\n",
    "s=raw_input(\"Enter a number:\")\n",
    "number=long(s)\n",
    "\n",
    "for i in xrange(2,number):\n",
    "    print i\n",
    "    if number%i==0:\n",
    "        print \"not a prime number\"\n",
    "        break\n",
    "else: \n",
    "    print \"prime number\"\n",
    "print \"i out side loop:%s\"%i\n",
    "print \"other statements in program\"\n",
    "print \"program ended\""
   ]
  },
  {
   "cell_type": "code",
   "execution_count": null,
   "metadata": {
    "collapsed": true
   },
   "outputs": [],
   "source": [
    "# break continue\n",
    "print \"program started\"\n",
    "s=raw_input(\"Enter a number:\")\n",
    "number=long(s)\n",
    "\n",
    "for i in xrange(2,number):\n",
    "    print i\n",
    "    if number%i==0:\n",
    "        print \"not a prime number\"\n",
    "        break\n",
    "else: \n",
    "    print \"prime number\"\n",
    "print \"i out side loop:%s\"%i\n",
    "print \"other statements in program\"\n",
    "print \"program ended\""
   ]
  },
  {
   "cell_type": "code",
   "execution_count": 8,
   "metadata": {
    "collapsed": true
   },
   "outputs": [],
   "source": [
    "i=0"
   ]
  },
  {
   "cell_type": "code",
   "execution_count": 9,
   "metadata": {
    "collapsed": false
   },
   "outputs": [
    {
     "ename": "SyntaxError",
     "evalue": "invalid syntax (<ipython-input-9-27239b6fb79f>, line 1)",
     "output_type": "error",
     "traceback": [
      "\u001b[0;36m  File \u001b[0;32m\"<ipython-input-9-27239b6fb79f>\"\u001b[0;36m, line \u001b[0;32m1\u001b[0m\n\u001b[0;31m    i++\u001b[0m\n\u001b[0m       ^\u001b[0m\n\u001b[0;31mSyntaxError\u001b[0m\u001b[0;31m:\u001b[0m invalid syntax\n"
     ]
    }
   ],
   "source": [
    "i++"
   ]
  },
  {
   "cell_type": "code",
   "execution_count": 10,
   "metadata": {
    "collapsed": false
   },
   "outputs": [
    {
     "data": {
      "text/plain": [
       "[0, 1, 2, 3, 4, 5, 6, 7, 8, 9]"
      ]
     },
     "execution_count": 10,
     "metadata": {},
     "output_type": "execute_result"
    }
   ],
   "source": [
    "range(10)"
   ]
  },
  {
   "cell_type": "code",
   "execution_count": 11,
   "metadata": {
    "collapsed": false
   },
   "outputs": [
    {
     "data": {
      "text/plain": [
       "[2, 3, 4, 5, 6, 7, 8, 9]"
      ]
     },
     "execution_count": 11,
     "metadata": {},
     "output_type": "execute_result"
    }
   ],
   "source": [
    "range(2,10)"
   ]
  },
  {
   "cell_type": "code",
   "execution_count": null,
   "metadata": {
    "collapsed": true
   },
   "outputs": [],
   "source": []
  }
 ],
 "metadata": {
  "kernelspec": {
   "display_name": "Python 2",
   "language": "python",
   "name": "python2"
  },
  "language_info": {
   "codemirror_mode": {
    "name": "ipython",
    "version": 2
   },
   "file_extension": ".py",
   "mimetype": "text/x-python",
   "name": "python",
   "nbconvert_exporter": "python",
   "pygments_lexer": "ipython2",
   "version": "2.7.13"
  }
 },
 "nbformat": 4,
 "nbformat_minor": 2
}
