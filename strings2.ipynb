{
 "cells": [
  {
   "cell_type": "code",
   "execution_count": null,
   "metadata": {
    "collapsed": true
   },
   "outputs": [],
   "source": [
    "s=raw_input(\"Enter a string:\")\n",
    "print \"s contains caps\"\n",
    "print \"s does not contains caps\""
   ]
  },
  {
   "cell_type": "code",
   "execution_count": 1,
   "metadata": {
    "collapsed": false
   },
   "outputs": [
    {
     "data": {
      "text/plain": [
       "True"
      ]
     },
     "execution_count": 1,
     "metadata": {},
     "output_type": "execute_result"
    }
   ],
   "source": [
    "\"abcd\".islower()"
   ]
  },
  {
   "cell_type": "code",
   "execution_count": 2,
   "metadata": {
    "collapsed": false
   },
   "outputs": [
    {
     "data": {
      "text/plain": [
       "True"
      ]
     },
     "execution_count": 2,
     "metadata": {},
     "output_type": "execute_result"
    }
   ],
   "source": [
    "\"123abcd\".islower()"
   ]
  },
  {
   "cell_type": "code",
   "execution_count": 3,
   "metadata": {
    "collapsed": false
   },
   "outputs": [
    {
     "data": {
      "text/plain": [
       "False"
      ]
     },
     "execution_count": 3,
     "metadata": {},
     "output_type": "execute_result"
    }
   ],
   "source": [
    "\"@#$%123\".islower()"
   ]
  },
  {
   "cell_type": "code",
   "execution_count": 4,
   "metadata": {
    "collapsed": false
   },
   "outputs": [
    {
     "data": {
      "text/plain": [
       "False"
      ]
     },
     "execution_count": 4,
     "metadata": {},
     "output_type": "execute_result"
    }
   ],
   "source": [
    "\"avcdA\".islower()"
   ]
  },
  {
   "cell_type": "code",
   "execution_count": 5,
   "metadata": {
    "collapsed": false
   },
   "outputs": [
    {
     "data": {
      "text/plain": [
       "False"
      ]
     },
     "execution_count": 5,
     "metadata": {},
     "output_type": "execute_result"
    }
   ],
   "source": [
    "\"\".islower(\n",
    ")"
   ]
  },
  {
   "cell_type": "code",
   "execution_count": 6,
   "metadata": {
    "collapsed": true
   },
   "outputs": [],
   "source": [
    "s=\"\"\n",
    "s.islower?"
   ]
  },
  {
   "cell_type": "code",
   "execution_count": 7,
   "metadata": {
    "collapsed": false
   },
   "outputs": [
    {
     "data": {
      "text/plain": [
       "False"
      ]
     },
     "execution_count": 7,
     "metadata": {},
     "output_type": "execute_result"
    }
   ],
   "source": [
    "\"ABCD\".islower()"
   ]
  },
  {
   "cell_type": "code",
   "execution_count": 8,
   "metadata": {
    "collapsed": false
   },
   "outputs": [
    {
     "name": "stdout",
     "output_type": "stream",
     "text": [
      "Enter strig to check contains atleast one cap leter or not:abcd\n",
      "Not contains caps\n"
     ]
    }
   ],
   "source": [
    "s=raw_input(\"Enter strig to check contains atleast one cap leter or not:\")\n",
    "flag = s.islower()\n",
    "if flag:\n",
    "    print \"Not contains caps\"\n",
    "else:\n",
    "    print \"contains caps\""
   ]
  },
  {
   "cell_type": "code",
   "execution_count": 9,
   "metadata": {
    "collapsed": false
   },
   "outputs": [
    {
     "name": "stdout",
     "output_type": "stream",
     "text": [
      "Enter strig to check contains atleast one cap leter or not:abcdASD\n",
      "contains caps\n"
     ]
    }
   ],
   "source": [
    "s=raw_input(\"Enter strig to check contains atleast one cap leter or not:\")\n",
    "flag = s.islower()\n",
    "if flag:\n",
    "    print \"Not contains caps\"\n",
    "else:\n",
    "    print \"contains caps\""
   ]
  },
  {
   "cell_type": "code",
   "execution_count": 10,
   "metadata": {
    "collapsed": false
   },
   "outputs": [
    {
     "name": "stdout",
     "output_type": "stream",
     "text": [
      "Enter strig to check contains atleast one cap leter or not:12345\n",
      "contains caps\n"
     ]
    }
   ],
   "source": [
    "s=raw_input(\"Enter strig to check contains atleast one cap leter or not:\")\n",
    "flag = s.islower()\n",
    "if flag:\n",
    "    print \"Not contains caps\"\n",
    "else:\n",
    "    print \"contains caps\""
   ]
  },
  {
   "cell_type": "code",
   "execution_count": 11,
   "metadata": {
    "collapsed": false
   },
   "outputs": [
    {
     "data": {
      "text/plain": [
       "True"
      ]
     },
     "execution_count": 11,
     "metadata": {},
     "output_type": "execute_result"
    }
   ],
   "source": [
    "\"abcd\".isalpha()"
   ]
  },
  {
   "cell_type": "code",
   "execution_count": 12,
   "metadata": {
    "collapsed": false
   },
   "outputs": [
    {
     "data": {
      "text/plain": [
       "False"
      ]
     },
     "execution_count": 12,
     "metadata": {},
     "output_type": "execute_result"
    }
   ],
   "source": [
    "\"abcd123\".isalpha()"
   ]
  },
  {
   "cell_type": "code",
   "execution_count": 13,
   "metadata": {
    "collapsed": false
   },
   "outputs": [
    {
     "data": {
      "text/plain": [
       "False"
      ]
     },
     "execution_count": 13,
     "metadata": {},
     "output_type": "execute_result"
    }
   ],
   "source": [
    "\"@#$%\".isalpha()"
   ]
  },
  {
   "cell_type": "code",
   "execution_count": 14,
   "metadata": {
    "collapsed": false
   },
   "outputs": [
    {
     "data": {
      "text/plain": [
       "False"
      ]
     },
     "execution_count": 14,
     "metadata": {},
     "output_type": "execute_result"
    }
   ],
   "source": [
    "\"\".isalpha()"
   ]
  },
  {
   "cell_type": "code",
   "execution_count": 15,
   "metadata": {
    "collapsed": false
   },
   "outputs": [
    {
     "data": {
      "text/plain": [
       "True"
      ]
     },
     "execution_count": 15,
     "metadata": {},
     "output_type": "execute_result"
    }
   ],
   "source": [
    "\"abcdABCD\".isalpha()"
   ]
  },
  {
   "cell_type": "code",
   "execution_count": 16,
   "metadata": {
    "collapsed": false
   },
   "outputs": [
    {
     "name": "stdout",
     "output_type": "stream",
     "text": [
      "Enter strig to check contains atleast one cap leter or not:123abcd\n",
      "does not contains caps\n"
     ]
    }
   ],
   "source": [
    "s=raw_input(\"Enter strig to check contains atleast one cap leter or not:\")\n",
    "if s.isalpha():\n",
    "    if s.islower():\n",
    "        print \"Not contains caps\"\n",
    "    else:\n",
    "        print \"contains caps\"\n",
    "else:\n",
    "    print \"does not contains caps\""
   ]
  },
  {
   "cell_type": "code",
   "execution_count": 17,
   "metadata": {
    "collapsed": false
   },
   "outputs": [
    {
     "name": "stdout",
     "output_type": "stream",
     "text": [
      "Enter strig to check contains atleast one cap leter or not:abcdACVD12\n",
      "does not contains caps\n"
     ]
    }
   ],
   "source": [
    "s=raw_input(\"Enter strig to check contains atleast one cap leter or not:\")\n",
    "if s.isalpha():\n",
    "    if s.islower():\n",
    "        print \"Not contains caps\"\n",
    "    else:\n",
    "        print \"contains caps\"\n",
    "else:\n",
    "    print \"does not contains caps\""
   ]
  },
  {
   "cell_type": "code",
   "execution_count": 18,
   "metadata": {
    "collapsed": false
   },
   "outputs": [
    {
     "data": {
      "text/plain": [
       "'Python program'"
      ]
     },
     "execution_count": 18,
     "metadata": {},
     "output_type": "execute_result"
    }
   ],
   "source": [
    "\"python program\".capitalize()"
   ]
  },
  {
   "cell_type": "code",
   "execution_count": 19,
   "metadata": {
    "collapsed": false
   },
   "outputs": [
    {
     "data": {
      "text/plain": [
       "'123python program'"
      ]
     },
     "execution_count": 19,
     "metadata": {},
     "output_type": "execute_result"
    }
   ],
   "source": [
    "\"123python program\".capitalize()"
   ]
  },
  {
   "cell_type": "code",
   "execution_count": 20,
   "metadata": {
    "collapsed": false
   },
   "outputs": [
    {
     "data": {
      "text/plain": [
       "'123python program'"
      ]
     },
     "execution_count": 20,
     "metadata": {},
     "output_type": "execute_result"
    }
   ],
   "source": [
    "\"123python PROGRAM\".capitalize()"
   ]
  },
  {
   "cell_type": "code",
   "execution_count": 21,
   "metadata": {
    "collapsed": false
   },
   "outputs": [
    {
     "data": {
      "text/plain": [
       "''"
      ]
     },
     "execution_count": 21,
     "metadata": {},
     "output_type": "execute_result"
    }
   ],
   "source": [
    "\"\".capitalize()"
   ]
  },
  {
   "cell_type": "code",
   "execution_count": 22,
   "metadata": {
    "collapsed": false
   },
   "outputs": [
    {
     "data": {
      "text/plain": [
       "'ACD efgh'"
      ]
     },
     "execution_count": 22,
     "metadata": {},
     "output_type": "execute_result"
    }
   ],
   "source": [
    "\"acd EFGH\".swapcase()"
   ]
  },
  {
   "cell_type": "code",
   "execution_count": 23,
   "metadata": {
    "collapsed": false
   },
   "outputs": [
    {
     "data": {
      "text/plain": [
       "False"
      ]
     },
     "execution_count": 23,
     "metadata": {},
     "output_type": "execute_result"
    }
   ],
   "source": [
    "\"abcd\".isupper()"
   ]
  },
  {
   "cell_type": "code",
   "execution_count": 24,
   "metadata": {
    "collapsed": false
   },
   "outputs": [
    {
     "data": {
      "text/plain": [
       "False"
      ]
     },
     "execution_count": 24,
     "metadata": {},
     "output_type": "execute_result"
    }
   ],
   "source": [
    "\"abcdEFGH\".isupper()"
   ]
  },
  {
   "cell_type": "code",
   "execution_count": 25,
   "metadata": {
    "collapsed": false
   },
   "outputs": [
    {
     "data": {
      "text/plain": [
       "True"
      ]
     },
     "execution_count": 25,
     "metadata": {},
     "output_type": "execute_result"
    }
   ],
   "source": [
    "\"1234A@#$%\".isupper()"
   ]
  },
  {
   "cell_type": "code",
   "execution_count": 26,
   "metadata": {
    "collapsed": false
   },
   "outputs": [
    {
     "data": {
      "text/plain": [
       "False"
      ]
     },
     "execution_count": 26,
     "metadata": {},
     "output_type": "execute_result"
    }
   ],
   "source": [
    "\"123a%^&\".isupper()"
   ]
  },
  {
   "cell_type": "code",
   "execution_count": 27,
   "metadata": {
    "collapsed": false
   },
   "outputs": [
    {
     "data": {
      "text/plain": [
       "False"
      ]
     },
     "execution_count": 27,
     "metadata": {},
     "output_type": "execute_result"
    }
   ],
   "source": [
    "\"\".isupper()"
   ]
  },
  {
   "cell_type": "code",
   "execution_count": 28,
   "metadata": {
    "collapsed": false
   },
   "outputs": [
    {
     "data": {
      "text/plain": [
       "False"
      ]
     },
     "execution_count": 28,
     "metadata": {},
     "output_type": "execute_result"
    }
   ],
   "source": [
    "\"123A\".isalpha()"
   ]
  },
  {
   "cell_type": "code",
   "execution_count": 29,
   "metadata": {
    "collapsed": false
   },
   "outputs": [
    {
     "name": "stdout",
     "output_type": "stream",
     "text": [
      "Enter strig to check contains atleast one cap leter or not:123Abcd\n",
      "does not contains caps\n"
     ]
    }
   ],
   "source": [
    "s=raw_input(\"Enter strig to check contains atleast one cap leter or not:\")\n",
    "if s.isalpha():\n",
    "    if s.isupper():\n",
    "        print \"contains caps\"\n",
    "    else:\n",
    "        print \"not contains caps\"\n",
    "else:\n",
    "    print \"does not contains caps\""
   ]
  },
  {
   "cell_type": "code",
   "execution_count": 30,
   "metadata": {
    "collapsed": false
   },
   "outputs": [
    {
     "name": "stdout",
     "output_type": "stream",
     "text": [
      "Enter strig to check contains atleast one cap leter or not:123AB\n",
      "contains caps\n"
     ]
    }
   ],
   "source": [
    "s=raw_input(\"Enter strig to check contains atleast one cap leter or not:\")\n",
    "if s.isupper():\n",
    "        print \"contains caps\"\n",
    "else:\n",
    "        print \"not contains caps\"\n"
   ]
  },
  {
   "cell_type": "code",
   "execution_count": 31,
   "metadata": {
    "collapsed": false
   },
   "outputs": [
    {
     "name": "stdout",
     "output_type": "stream",
     "text": [
      "Enter strig to check contains atleast one cap leter or not:Aa\n",
      "not contains caps\n"
     ]
    }
   ],
   "source": [
    "s=raw_input(\"Enter strig to check contains atleast one cap leter or not:\")\n",
    "if s.isupper():\n",
    "        print \"contains caps\"\n",
    "else:\n",
    "        print \"not contains caps\"\n"
   ]
  },
  {
   "cell_type": "code",
   "execution_count": 32,
   "metadata": {
    "collapsed": false
   },
   "outputs": [
    {
     "name": "stdout",
     "output_type": "stream",
     "text": [
      "Enter strig to check contains atleast one cap leter or not:python\n",
      "p\n",
      "y\n",
      "t\n",
      "h\n",
      "o\n",
      "n\n"
     ]
    }
   ],
   "source": [
    "s=raw_input(\"Enter strig to check contains atleast one cap leter or not:\")\n",
    "c=0\n",
    "for i in s:\n",
    "    print i"
   ]
  },
  {
   "cell_type": "code",
   "execution_count": 33,
   "metadata": {
    "collapsed": false
   },
   "outputs": [
    {
     "name": "stdout",
     "output_type": "stream",
     "text": [
      "Enter strig to check contains atleast one cap leter or not:123456\n",
      "No caps\n"
     ]
    }
   ],
   "source": [
    "s=raw_input(\"Enter strig to check contains atleast one cap leter or not:\")\n",
    "c=0\n",
    "for i in s:\n",
    "    if i.isupper():\n",
    "        c=c+1\n",
    "        break\n",
    "if c==0:\n",
    "    print \"No caps\"\n",
    "else:\n",
    "    print \"there is caps\""
   ]
  },
  {
   "cell_type": "code",
   "execution_count": 34,
   "metadata": {
    "collapsed": false
   },
   "outputs": [
    {
     "name": "stdout",
     "output_type": "stream",
     "text": [
      "Enter strig to check contains atleast one cap leter or not:qwerty\n",
      "No caps\n"
     ]
    }
   ],
   "source": [
    "s=raw_input(\"Enter strig to check contains atleast one cap leter or not:\")\n",
    "c=0\n",
    "for i in s:\n",
    "    if i.isupper():\n",
    "        c=c+1\n",
    "        break\n",
    "if c==0:\n",
    "    print \"No caps\"\n",
    "else:\n",
    "    print \"there is caps\""
   ]
  },
  {
   "cell_type": "code",
   "execution_count": 35,
   "metadata": {
    "collapsed": false
   },
   "outputs": [
    {
     "name": "stdout",
     "output_type": "stream",
     "text": [
      "Enter strig to check contains atleast one cap leter or not:A\n",
      "there is caps\n"
     ]
    }
   ],
   "source": [
    "s=raw_input(\"Enter strig to check contains atleast one cap leter or not:\")\n",
    "c=0\n",
    "for i in s:\n",
    "    if i.isupper():\n",
    "        c=c+1\n",
    "        break\n",
    "if c==0:\n",
    "    print \"No caps\"\n",
    "else:\n",
    "    print \"there is caps\""
   ]
  },
  {
   "cell_type": "code",
   "execution_count": 36,
   "metadata": {
    "collapsed": false
   },
   "outputs": [
    {
     "name": "stdout",
     "output_type": "stream",
     "text": [
      "Enter strig to check contains atleast one cap leter or not:\n",
      "No caps\n"
     ]
    }
   ],
   "source": [
    "s=raw_input(\"Enter strig to check contains atleast one cap leter or not:\")\n",
    "c=0\n",
    "for i in s:\n",
    "    if i.isupper():\n",
    "        c=c+1\n",
    "        break\n",
    "if c==0:\n",
    "    print \"No caps\"\n",
    "else:\n",
    "    print \"there is caps\"\n",
    "    "
   ]
  },
  {
   "cell_type": "code",
   "execution_count": 37,
   "metadata": {
    "collapsed": false
   },
   "outputs": [
    {
     "name": "stdout",
     "output_type": "stream",
     "text": [
      "p\n",
      "y\n",
      "t\n",
      "h\n",
      "o\n",
      "n\n",
      "else block.\n"
     ]
    }
   ],
   "source": [
    "for i in \"python\":\n",
    "    print i\n",
    "else:\n",
    "    print \"else block.\""
   ]
  },
  {
   "cell_type": "code",
   "execution_count": 38,
   "metadata": {
    "collapsed": false
   },
   "outputs": [
    {
     "name": "stdout",
     "output_type": "stream",
     "text": [
      "p\n"
     ]
    }
   ],
   "source": [
    "for i in \"python\":\n",
    "    print i\n",
    "    break\n",
    "else:\n",
    "    print \"else block.\""
   ]
  },
  {
   "cell_type": "code",
   "execution_count": 40,
   "metadata": {
    "collapsed": false
   },
   "outputs": [
    {
     "name": "stdout",
     "output_type": "stream",
     "text": [
      "Enter strig to check contains atleast one cap leter or not:1234\n",
      "does not contains caps\n"
     ]
    }
   ],
   "source": [
    "s=raw_input(\"Enter strig to check contains atleast one cap leter or not:\")\n",
    "for i in s:\n",
    "    if i.isupper():\n",
    "        print \"contains caps\"\n",
    "        break\n",
    "else:\n",
    "     print \"does not contains caps\"\n"
   ]
  },
  {
   "cell_type": "code",
   "execution_count": 41,
   "metadata": {
    "collapsed": false
   },
   "outputs": [
    {
     "name": "stdout",
     "output_type": "stream",
     "text": [
      "Enter strig to check contains atleast one cap leter or not:abcdA\n",
      "contains caps\n"
     ]
    }
   ],
   "source": [
    "s=raw_input(\"Enter strig to check contains atleast one cap leter or not:\")\n",
    "for i in s:\n",
    "    if i.isupper():\n",
    "        print \"contains caps\"\n",
    "        break\n",
    "else:\n",
    "     print \"does not contains caps\"\n"
   ]
  },
  {
   "cell_type": "code",
   "execution_count": 42,
   "metadata": {
    "collapsed": false
   },
   "outputs": [
    {
     "name": "stdout",
     "output_type": "stream",
     "text": [
      "Enter strig to check contains atleast one cap leter or not:123As\n",
      "contains caps\n"
     ]
    }
   ],
   "source": [
    "s=raw_input(\"Enter strig to check contains atleast one cap leter or not:\")\n",
    "for i in s:\n",
    "    if i.isupper():\n",
    "        print \"contains caps\"\n",
    "        break\n",
    "else:\n",
    "     print \"does not contains caps\"\n"
   ]
  },
  {
   "cell_type": "code",
   "execution_count": 43,
   "metadata": {
    "collapsed": false
   },
   "outputs": [
    {
     "name": "stdout",
     "output_type": "stream",
     "text": [
      "Enter strig to check contains atleast one cap leter or not:abcd123\n",
      "does not contains caps\n"
     ]
    }
   ],
   "source": [
    "def check_caps(str1):\n",
    "    for i in str1:\n",
    "        if i.isupper():\n",
    "            print \"contains caps\"\n",
    "            break\n",
    "    else:\n",
    "        print \"does not contains caps\"\n",
    "    \n",
    "s=raw_input(\"Enter strig to check contains atleast one cap leter or not:\")\n",
    "check_caps(s)"
   ]
  },
  {
   "cell_type": "code",
   "execution_count": 44,
   "metadata": {
    "collapsed": false
   },
   "outputs": [
    {
     "name": "stdout",
     "output_type": "stream",
     "text": [
      "Enter strig to check contains atleast one cap leter or not:12\n",
      "resul= does not contains caps\n"
     ]
    }
   ],
   "source": [
    "def check_caps(str1):\n",
    "    for i in str1:\n",
    "        if i.isupper():\n",
    "            return \"contains caps\"\n",
    "            break\n",
    "    else:\n",
    "        return \"does not contains caps\"\n",
    "    \n",
    "s=raw_input(\"Enter strig to check contains atleast one cap leter or not:\")\n",
    "res = check_caps(s)\n",
    "print \"resul=\",res"
   ]
  },
  {
   "cell_type": "code",
   "execution_count": 45,
   "metadata": {
    "collapsed": false
   },
   "outputs": [
    {
     "name": "stdout",
     "output_type": "stream",
     "text": [
      "Enter strig to check contains atleast one cap leter or not:A123a\n",
      "resul= contains caps\n"
     ]
    }
   ],
   "source": [
    "def check_caps(str1):\n",
    "    for i in str1:\n",
    "        if i.isupper():\n",
    "            return \"contains caps\"\n",
    "            break\n",
    "    else:\n",
    "        return \"does not contains caps\"\n",
    "    \n",
    "s=raw_input(\"Enter strig to check contains atleast one cap leter or not:\")\n",
    "res = check_caps(s)\n",
    "print \"resul=\",res"
   ]
  },
  {
   "cell_type": "code",
   "execution_count": 47,
   "metadata": {
    "collapsed": false
   },
   "outputs": [
    {
     "name": "stdout",
     "output_type": "stream",
     "text": [
      "Enter strig to check contains atleast one cap leter or not:13Sdwe\n",
      "resul= contains\n"
     ]
    }
   ],
   "source": [
    "def check_caps(str1):\n",
    "    for i in str1:\n",
    "        if i.isupper():\n",
    "            res=\"contains caps\"\n",
    "            break\n",
    "    else:\n",
    "        res=\"does not contains caps\"\n",
    "    return res\n",
    "    \n",
    "s=raw_input(\"Enter strig to check contains atleast one cap leter or not:\")\n",
    "res = check_caps(s)\n",
    "print \"resul=\",res"
   ]
  },
  {
   "cell_type": "code",
   "execution_count": 49,
   "metadata": {
    "collapsed": false
   },
   "outputs": [
    {
     "name": "stdout",
     "output_type": "stream",
     "text": [
      "Enter strig to check contains atleast one cap leter or not:123Asw34\n",
      "resul= True\n"
     ]
    }
   ],
   "source": [
    "def is_caps(str1):\n",
    "    \"\"\"\n",
    "    Return True if it contains atleast on cap otherwise false\n",
    "    param: str1: str, Source string\n",
    "    return: bool, True/False.\n",
    "    \"\"\"\n",
    "    for i in str1:\n",
    "        if i.isupper():\n",
    "            res=True\n",
    "            break\n",
    "    else:\n",
    "        res=False\n",
    "    return res\n",
    "    \n",
    "s=raw_input(\"Enter strig to check contains atleast one cap leter or not:\")\n",
    "res = is_caps(s)\n",
    "print \"resul=\",res"
   ]
  },
  {
   "cell_type": "code",
   "execution_count": 50,
   "metadata": {
    "collapsed": true
   },
   "outputs": [],
   "source": [
    "is_caps?"
   ]
  },
  {
   "cell_type": "code",
   "execution_count": 51,
   "metadata": {
    "collapsed": false
   },
   "outputs": [
    {
     "name": "stdout",
     "output_type": "stream",
     "text": [
      "14\n"
     ]
    }
   ],
   "source": [
    "s=\"python program\"\n",
    "print len(s)"
   ]
  },
  {
   "cell_type": "code",
   "execution_count": 52,
   "metadata": {
    "collapsed": false
   },
   "outputs": [
    {
     "name": "stdout",
     "output_type": "stream",
     "text": [
      "python program\n",
      "                               python program                              \n"
     ]
    }
   ],
   "source": [
    "print s\n",
    "print s.center(70)"
   ]
  },
  {
   "cell_type": "code",
   "execution_count": 53,
   "metadata": {
    "collapsed": false
   },
   "outputs": [
    {
     "name": "stdout",
     "output_type": "stream",
     "text": [
      "python program\n",
      "$$$$$$$$$$$$$$$$$$$$$$$$$$$$python program$$$$$$$$$$$$$$$$$$$$$$$$$$$$\n"
     ]
    }
   ],
   "source": [
    "print s\n",
    "print s.center(70,'$')"
   ]
  },
  {
   "cell_type": "code",
   "execution_count": null,
   "metadata": {
    "collapsed": true
   },
   "outputs": [],
   "source": []
  }
 ],
 "metadata": {
  "kernelspec": {
   "display_name": "Python 2",
   "language": "python",
   "name": "python2"
  },
  "language_info": {
   "codemirror_mode": {
    "name": "ipython",
    "version": 2
   },
   "file_extension": ".py",
   "mimetype": "text/x-python",
   "name": "python",
   "nbconvert_exporter": "python",
   "pygments_lexer": "ipython2",
   "version": "2.7.13"
  }
 },
 "nbformat": 4,
 "nbformat_minor": 2
}
